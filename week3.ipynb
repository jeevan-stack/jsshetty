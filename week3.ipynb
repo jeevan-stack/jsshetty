jeevan
{
 "cells": [
  {
   "cell_type": "code",
   "execution_count": 1,
   "id": "65d79a2b-5ee1-4f3c-8e73-d75fba0764b1",
   "metadata": {},
   "outputs": [
    {
     "name": "stdout",
     "output_type": "stream",
     "text": [
      "Sum of array elements is 10\n",
      "Minimum of array elements is 1\n",
      "Maximum of array elements is 4\n",
      "Mean of array elements is 2.5\n",
      "Median of array elements is 2.5\n",
      "Correaltion coefficiant of array elements is 1.0\n",
      "standard deviation of array elements is 1.118033988749895\n"
     ]
    }
   ],
   "source": [
    "import numpy as np\n",
    "a = [1,2,3,4]\n",
    "sum = np.sum(a)\n",
    "print(\"Sum of array elements is\",sum)\n",
    "min = np.min(a)\n",
    "print(\"Minimum of array elements is\",min)\n",
    "max = np.max(a)\n",
    "print(\"Maximum of array elements is\",max)\n",
    "mean = np.mean(a)\n",
    "print(\"Mean of array elements is\",mean)\n",
    "med = np.median(a)\n",
    "print(\"Median of array elements is\",med)\n",
    "cor = np.corrcoef(a)\n",
    "print(\"Correaltion coefficiant of array elements is\",cor)\n",
    "std = np.std(a)\n",
    "print(\"standard deviation of array elements is\",std)"
   ]
  },
  {
   "cell_type": "code",
   "execution_count": 2,
   "id": "1442766f-f7de-4619-95d9-fb012d323d28",
   "metadata": {},
   "outputs": [
    {
     "name": "stdout",
     "output_type": "stream",
     "text": [
      "Sum of matrix elements is 56\n",
      "Minimum of the matrix: 1\n",
      "Maximum of the matrix: 9\n",
      "Mean of the matrix: 4.666666666666667\n",
      "Median of the matrix: 2.5\n",
      "Correaltion coefficiants of the matrix elements:\n",
      " [[ 1.          0.99227788 -0.78935222]\n",
      " [ 0.99227788  1.         -0.70710678]\n",
      " [-0.78935222 -0.70710678  1.        ]]\n",
      "standard deviation of array elements is 2.4608038433722337\n"
     ]
    }
   ],
   "source": [
    "mat = [[1,2,3,4],[3,5,6,8],[8,9,3,4]]\n",
    "sum = np.sum(mat)\n",
    "print(\"Sum of matrix elements is\",sum)\n",
    "min = np.min(mat)\n",
    "print(\"Minimum of the matrix:\",min)\n",
    "max = np.max(mat)\n",
    "print(\"Maximum of the matrix:\",max)\n",
    "mean = np.mean(mat)\n",
    "print(\"Mean of the matrix:\",mean)\n",
    "med = np.median(a)\n",
    "print(\"Median of the matrix:\",med)\n",
    "cor = np.corrcoef(mat)\n",
    "print(\"Correaltion coefficiants of the matrix elements:\\n\",cor)\n",
    "std = np.std(mat)\n",
    "print(\"standard deviation of array elements is\",std)"
   ]
  },
  {
   "cell_type": "code",
   "execution_count": 3,
   "id": "39a36b40-afb2-42de-bce4-30441f0ff883",
   "metadata": {},
   "outputs": [
    {
     "name": "stdout",
     "output_type": "stream",
     "text": [
      "[[ 1  7  3  4]\n",
      " [ 3  5  6  8]\n",
      " [10  9  3  4]]\n",
      "Sum of array elements row-wise [15 22 26]\n",
      "Sum of array elements column-wise [14 21 12 16]\n",
      "Row-wise minimum of the matrix: [1 3 3]\n",
      "Column-wise maximum of the matrix: [10  9  6  8]\n"
     ]
    }
   ],
   "source": [
    "mat = np.array([[1,7,3,4],[3,5,6,8],[10,9,3,4]])\n",
    "print(mat)\n",
    "sum = np.sum(mat, axis=1)\n",
    "print(\"Sum of array elements row-wise\",sum)\n",
    "sum = np.sum(mat, axis=0)\n",
    "print(\"Sum of array elements column-wise\",sum)\n",
    "min = np.min(mat, axis=1)\n",
    "print(\"Row-wise minimum of the matrix:\",min)\n",
    "max = np.max(mat,axis=0)\n",
    "print(\"Column-wise maximum of the matrix:\",max)"
   ]
  },
  {
   "cell_type": "code",
   "execution_count": 4,
   "id": "f4646882-ad97-4861-b14d-595566602d2a",
   "metadata": {},
   "outputs": [
    {
     "data": {
      "text/plain": [
       "9"
      ]
     },
     "execution_count": 4,
     "metadata": {},
     "output_type": "execute_result"
    }
   ],
   "source": [
    "def sum(a,b):\n",
    " return a+b\n",
    "\n",
    "sum(4,5)"
   ]
  },
  {
   "cell_type": "code",
   "execution_count": 6,
   "id": "fc9cc44a-ec77-4eb1-860d-964b8b8ce1f3",
   "metadata": {},
   "outputs": [
    {
     "data": {
      "text/plain": [
       "64"
      ]
     },
     "execution_count": 6,
     "metadata": {},
     "output_type": "execute_result"
    }
   ],
   "source": [
    "def cube(x):\n",
    " return x*x*x\n",
    "cube(4)"
   ]
  },
  {
   "cell_type": "code",
   "execution_count": 9,
   "id": "e6b78af6-fc21-4c32-9ccc-9847f0f2a281",
   "metadata": {},
   "outputs": [
    {
     "data": {
      "text/plain": [
       "125"
      ]
     },
     "execution_count": 9,
     "metadata": {},
     "output_type": "execute_result"
    }
   ],
   "source": [
    "lambda_cube = lambda y: y*y*y\n",
    "lambda_cube(5)"
   ]
  },
  {
   "cell_type": "code",
   "execution_count": 11,
   "id": "cfa845ca-30af-4631-8354-9e666fb79a98",
   "metadata": {},
   "outputs": [
    {
     "data": {
      "text/plain": [
       "9"
      ]
     },
     "execution_count": 11,
     "metadata": {},
     "output_type": "execute_result"
    }
   ],
   "source": [
    "sum = lambda a,b:a+b\n",
    "sum(4,5)\n"
   ]
  },
  {
   "cell_type": "code",
   "execution_count": 12,
   "id": "b50f0671-6dd4-4a95-ad11-87966b2e388c",
   "metadata": {},
   "outputs": [
    {
     "name": "stdout",
     "output_type": "stream",
     "text": [
      "10\n"
     ]
    }
   ],
   "source": [
    "add = lambda num: num + 4\n",
    "print( add(6) )"
   ]
  },
  {
   "cell_type": "code",
   "execution_count": 13,
   "id": "896f3be0-e395-4370-bb41-31dabc24a790",
   "metadata": {},
   "outputs": [
    {
     "name": "stdout",
     "output_type": "stream",
     "text": [
      "5\n"
     ]
    }
   ],
   "source": [
    "def greater(a, b):\n",
    "    if a > b:\n",
    "        return a\n",
    "    else:\n",
    "        return b\n",
    "\n",
    "print(greater(4, 5))\n"
   ]
  },
  {
   "cell_type": "code",
   "execution_count": 14,
   "id": "a95baeaa-05e5-43b8-8cfe-a31ab0514590",
   "metadata": {},
   "outputs": [
    {
     "data": {
      "text/plain": [
       "5"
      ]
     },
     "execution_count": 14,
     "metadata": {},
     "output_type": "execute_result"
    }
   ],
   "source": [
    "Max = lambda a, b : a if(a > b) else b\n",
    "Max(4,5)\n"
   ]
  },
  {
   "cell_type": "code",
   "execution_count": 15,
   "id": "931c06ee-767b-48ec-a8bd-45b483dd02cb",
   "metadata": {},
   "outputs": [
    {
     "data": {
      "text/plain": [
       "[25, 49, 4, 64, 36]"
      ]
     },
     "execution_count": 15,
     "metadata": {},
     "output_type": "execute_result"
    }
   ],
   "source": [
    "my_list= [5,7,2,8,6]\n",
    "my_list_squared = []\n",
    "for i in my_list:\n",
    " i_squared = i**2\n",
    " my_list_squared.append(i_squared)\n",
    "my_list_squared\n"
   ]
  },
  {
   "cell_type": "code",
   "execution_count": 16,
   "id": "d5ea4623-acb8-437e-8b2f-22121ac49a68",
   "metadata": {},
   "outputs": [
    {
     "data": {
      "text/plain": [
       "[25, 49, 4, 64, 36]"
      ]
     },
     "execution_count": 16,
     "metadata": {},
     "output_type": "execute_result"
    }
   ],
   "source": [
    "my_list_squared = [i**2 for i in my_list]\n",
    "my_list_squared"
   ]
  },
  {
   "cell_type": "code",
   "execution_count": 17,
   "id": "1543821c-4f83-4fe0-87be-dab317e9057d",
   "metadata": {},
   "outputs": [
    {
     "data": {
      "text/plain": [
       "[25, 49, 4, 64, 36]"
      ]
     },
     "execution_count": 17,
     "metadata": {},
     "output_type": "execute_result"
    }
   ],
   "source": [
    "my_list_squared = list(map(lambda i: i**2, my_list))\n",
    "my_list_squared"
   ]
  },
  {
   "cell_type": "code",
   "execution_count": 18,
   "id": "894b20ab-8138-4fde-89f8-f5b46aeb45fc",
   "metadata": {},
   "outputs": [
    {
     "data": {
      "text/plain": [
       "[8, 10, 11, 12, 13]"
      ]
     },
     "execution_count": 18,
     "metadata": {},
     "output_type": "execute_result"
    }
   ],
   "source": [
    "def add4(x):\n",
    " return x+4\n",
    "list1 = [4,6,7,8,9]\n",
    "list2 = list(map(add4,list1))\n",
    "list2\n"
   ]
  },
  {
   "cell_type": "code",
   "execution_count": 19,
   "id": "2e19de12-97ee-40ab-95a4-87065203dc7f",
   "metadata": {},
   "outputs": [
    {
     "data": {
      "text/plain": [
       "[8, 10, 11, 12, 13]"
      ]
     },
     "execution_count": 19,
     "metadata": {},
     "output_type": "execute_result"
    }
   ],
   "source": [
    "list3 = list(map(lambda x:x+4,list1))\n",
    "list3"
   ]
  },
  {
   "cell_type": "code",
   "execution_count": 20,
   "id": "38fee73f-5d6d-4fee-9eb5-384a716dac45",
   "metadata": {},
   "outputs": [
    {
     "data": {
      "text/plain": [
       "['abc_2022', 'def_2022', 'xyz_2022']"
      ]
     },
     "execution_count": 20,
     "metadata": {},
     "output_type": "execute_result"
    }
   ],
   "source": [
    "set_of_strings = ['abc','def','xyz']\n",
    "string_map_22 = list(map(lambda my_string: my_string + '_2022', set_of_strings))\n",
    "string_map_22\n"
   ]
  },
  {
   "cell_type": "code",
   "execution_count": 21,
   "id": "51b11158-9dfb-4a80-b8b3-32cea6c65472",
   "metadata": {},
   "outputs": [
    {
     "name": "stdout",
     "output_type": "stream",
     "text": [
      "[4, 6, 8]\n"
     ]
    }
   ],
   "source": [
    "def oddeven(x):\n",
    "    if x % 2 == 0:\n",
    "        return True\n",
    "    else:\n",
    "        return False\n",
    "\n",
    "list1 = [4, 5, 6, 7, 8, 9]\n",
    "evenlist = list(filter(oddeven, list1))\n",
    "print(evenlist)\n"
   ]
  },
  {
   "cell_type": "code",
   "execution_count": 22,
   "id": "173d7a61-97f0-42b5-8a11-3f80a89074c6",
   "metadata": {},
   "outputs": [
    {
     "data": {
      "text/plain": [
       "[4, 6, 8]"
      ]
     },
     "execution_count": 22,
     "metadata": {},
     "output_type": "execute_result"
    }
   ],
   "source": [
    "\n",
    "list1 = [4,5,6,7,8,9]\n",
    "evenlist = list(filter(lambda x:True if x%2==0 else False,list1))\n",
    "evenlist"
   ]
  },
  {
   "cell_type": "code",
   "execution_count": 23,
   "id": "89b40e2c-6e5b-4f64-a9dd-b9e672c74294",
   "metadata": {},
   "outputs": [
    {
     "data": {
      "text/plain": [
       "30"
      ]
     },
     "execution_count": 23,
     "metadata": {},
     "output_type": "execute_result"
    }
   ],
   "source": [
    "\n",
    "from functools import reduce\n",
    "def sum(x,y):\n",
    " return x+y\n",
    "list1 = [6,7,8,9]\n",
    "s = reduce(sum,list1)\n",
    "s\n"
   ]
  },
  {
   "cell_type": "code",
   "execution_count": 24,
   "id": "10d49df2-2e3b-49ce-a5fe-3fb9cb324045",
   "metadata": {},
   "outputs": [
    {
     "name": "stdout",
     "output_type": "stream",
     "text": [
      "[[ 2  3  4]\n",
      " [ 5  6  7]\n",
      " [ 8  9 10]]\n"
     ]
    }
   ],
   "source": [
    "x = np.arange(2, 11).reshape(3,3)\n",
    "print(x)"
   ]
  },
  {
   "cell_type": "code",
   "execution_count": 25,
   "id": "d6a990b8-36f3-4313-a56e-732f185b4b80",
   "metadata": {},
   "outputs": [
    {
     "name": "stdout",
     "output_type": "stream",
     "text": [
      "[0. 0. 0. 0. 0. 0. 0. 0. 0. 0.]\n",
      "Update sixth value to 11\n",
      "[ 0.  0.  0.  0.  0.  0. 11.  0.  0.  0.]\n"
     ]
    }
   ],
   "source": [
    "x = np.zeros(10)\n",
    "print(x)\n",
    "print(\"Update sixth value to 11\")\n",
    "x[6] = 11\n",
    "print(x)\n"
   ]
  },
  {
   "cell_type": "code",
   "execution_count": 32,
   "id": "adca3540-ebfe-484f-b125-55e4cdab99e4",
   "metadata": {},
   "outputs": [],
   "source": [
    "\n",
    "item_list = ['Bread', 'Milk', 'Eggs', 'Butter', 'Cocoa']\n",
    "student_marks = [78, 47, 96, 55, 34]\n",
    "hetero_list = [ 1,2,3.0, 'text', True, 3+2j ]"
   ]
  },
  {
   "cell_type": "code",
   "execution_count": 44,
   "id": "d0c44224-8748-4f37-bf37-11c426082c4c",
   "metadata": {},
   "outputs": [
    {
     "name": "stdout",
     "output_type": "stream",
     "text": [
      "[83, 52, 101, 60, 39]\n"
     ]
    }
   ],
   "source": [
    "student_marks = [78, 47, 96, 55, 34]\n",
    "for i in range(len(student_marks)):\n",
    " student_marks[i]+=5\n",
    "print(student_marks)"
   ]
  },
  {
   "cell_type": "code",
   "execution_count": 46,
   "id": "c77eb127-dccf-4baf-9ac8-a259d377992f",
   "metadata": {},
   "outputs": [
    {
     "name": "stdout",
     "output_type": "stream",
     "text": [
      "CPU times: total: 406 ms\n",
      "Wall time: 787 ms\n"
     ]
    }
   ],
   "source": [
    "%%time\n",
    "list1 = list(range(1,1000000))\n",
    "list2 = list(range(2,1000001))\n",
    "list3 = []\n",
    "for i in range(len(list1)):\n",
    " list3.append(list1[i]+list2[i])"
   ]
  },
  {
   "cell_type": "code",
   "execution_count": 48,
   "id": "802cc44f-6106-4523-89df-295ac15fa092",
   "metadata": {},
   "outputs": [
    {
     "data": {
      "text/plain": [
       "array([78, 92, 36, 64, 89])"
      ]
     },
     "execution_count": 48,
     "metadata": {},
     "output_type": "execute_result"
    }
   ],
   "source": [
    "import numpy as np\n",
    "student_marks_arr = np.array([78, 92, 36, 64, 89])\n",
    "student_marks_arr"
   ]
  },
  {
   "cell_type": "code",
   "execution_count": 49,
   "id": "ba671738-a776-4a08-ac38-6c0b75bd773f",
   "metadata": {},
   "outputs": [
    {
     "name": "stdout",
     "output_type": "stream",
     "text": [
      "[list([18, 15, 18, 16, 17]) list([130, 165, 150, 150, 140])\n",
      " list([307, 350, 318, 30])]\n"
     ]
    }
   ],
   "source": [
    "car_attributes = [[18, 15, 18, 16, 17],[130, 165, 150, 150, 140],[307, 350, 318, 30]]\n",
    "car_attributes_arr = np.array(car_attributes,dtype=object)\n",
    "print(car_attributes_arr)\n"
   ]
  },
  {
   "cell_type": "code",
   "execution_count": 51,
   "id": "6b44f0cd-9ada-4d4c-986c-6124780a774a",
   "metadata": {},
   "outputs": [
    {
     "data": {
      "text/plain": [
       "(3,)"
      ]
     },
     "execution_count": 51,
     "metadata": {},
     "output_type": "execute_result"
    }
   ],
   "source": [
    "car_attributes_arr.shape"
   ]
  },
  {
   "cell_type": "code",
   "execution_count": 55,
   "id": "d2aa3723-4b8b-4adb-ab2e-c30f7ad08ab2",
   "metadata": {},
   "outputs": [
    {
     "data": {
      "text/plain": [
       "dtype('O')"
      ]
     },
     "execution_count": 55,
     "metadata": {},
     "output_type": "execute_result"
    }
   ],
   "source": [
    "car_attributes_arr.dtype"
   ]
  },
  {
   "cell_type": "code",
   "execution_count": 57,
   "id": "dfb80e0e-1cb3-48fb-a0d2-4e3053837db7",
   "metadata": {},
   "outputs": [
    {
     "name": "stdout",
     "output_type": "stream",
     "text": [
      "[[ 18.  15.  18.  16.  17.]\n",
      " [130. 165. 150. 150. 140.]\n",
      " [307. 350. 318.  30.   0.]]\n",
      "float64\n"
     ]
    }
   ],
   "source": [
    "import numpy as np\n",
    "\n",
    "car_attributes = [\n",
    "    [18, 15, 18, 16, 17],\n",
    "    [130, 165, 150, 150, 140],\n",
    "    [307, 350, 318, 30, 0] \n",
    "]\n",
    "\n",
    "car_attributes_arr = np.array(car_attributes, dtype='float')\n",
    "print(car_attributes_arr)\n",
    "print(car_attributes_arr.dtype)"
   ]
  },
  {
   "cell_type": "code",
   "execution_count": 59,
   "id": "edfb6c6e-9008-416a-9687-9b7ecba09036",
   "metadata": {},
   "outputs": [
    {
     "data": {
      "text/plain": [
       "'buick skylark 320'"
      ]
     },
     "execution_count": 59,
     "metadata": {},
     "output_type": "execute_result"
    }
   ],
   "source": [
    "\n",
    "cars = np.array(['chevrolet chevelle malibu', 'buick skylark 320', 'plymouth satell'])\n",
    "cars[1]\n"
   ]
  },
  {
   "cell_type": "code",
   "execution_count": 60,
   "id": "228cceb7-0a3d-4288-85ec-bec5cbc1cfc6",
   "metadata": {},
   "outputs": [
    {
     "data": {
      "text/plain": [
       "array([['chevrolet', 'buick', 'ply', 'amc', 'ford'],\n",
       "       ['130', '165', '150', '150', '140']], dtype='<U11')"
      ]
     },
     "execution_count": 60,
     "metadata": {},
     "output_type": "execute_result"
    }
   ],
   "source": [
    "car_names = ['chevrolet', 'buick', 'ply', 'amc', 'ford']\n",
    "horsepower = [130, 165, 150, 150, 140]\n",
    "car_hp_arr = np.array([car_names, horsepower])\n",
    "car_hp_arr"
   ]
  },
  {
   "cell_type": "code",
   "execution_count": 63,
   "id": "6c7f0d07-a1ec-40aa-9a97-607e5ceb4a7e",
   "metadata": {},
   "outputs": [
    {
     "data": {
      "text/plain": [
       "array(['chevrolet', 'buick', 'ply', 'amc', 'ford'], dtype='<U11')"
      ]
     },
     "execution_count": 63,
     "metadata": {},
     "output_type": "execute_result"
    }
   ],
   "source": [
    "car_hp_arr[0]\n"
   ]
  },
  {
   "cell_type": "code",
   "execution_count": 65,
   "id": "9a0dc0ba-336f-41b4-b2e4-3265d2bb90fe",
   "metadata": {},
   "outputs": [
    {
     "data": {
      "text/plain": [
       "array(['130', '165', '150', '150', '140'], dtype='<U11')"
      ]
     },
     "execution_count": 65,
     "metadata": {},
     "output_type": "execute_result"
    }
   ],
   "source": [
    "car_hp_arr[1]"
   ]
  },
  {
   "cell_type": "code",
   "execution_count": 67,
   "id": "fdff1f73-18ab-4dd8-8ceb-a52990e25ced",
   "metadata": {},
   "outputs": [
    {
     "data": {
      "text/plain": [
       "array(['130', '165', '150', '150', '140'], dtype='<U11')"
      ]
     },
     "execution_count": 67,
     "metadata": {},
     "output_type": "execute_result"
    }
   ],
   "source": [
    "car_hp_arr[1]"
   ]
  },
  {
   "cell_type": "code",
   "execution_count": 69,
   "id": "22f82c6c-f1c9-4cc5-908a-45757e371ddf",
   "metadata": {},
   "outputs": [
    {
     "data": {
      "text/plain": [
       "'ford'"
      ]
     },
     "execution_count": 69,
     "metadata": {},
     "output_type": "execute_result"
    }
   ],
   "source": [
    "car_hp_arr[0,-1]"
   ]
  },
  {
   "cell_type": "code",
   "execution_count": 71,
   "id": "763aa5c2-be7f-44d3-9add-d6f284f45c33",
   "metadata": {},
   "outputs": [
    {
     "data": {
      "text/plain": [
       "array(['buick', 'ply', 'amc'], dtype='<U9')"
      ]
     },
     "execution_count": 71,
     "metadata": {},
     "output_type": "execute_result"
    }
   ],
   "source": [
    "cars = np.array(['chevrolet', 'buick', 'ply', 'amc', 'ford'])\n",
    "cars[1:4]\n"
   ]
  },
  {
   "cell_type": "code",
   "execution_count": 73,
   "id": "fc85992d-cb0c-4ee0-8e3c-740fa3e15351",
   "metadata": {},
   "outputs": [
    {
     "data": {
      "text/plain": [
       "array([['chevrolet', 'buick', 'ply', 'amc', 'ford'],\n",
       "       ['130', '165', '150', '150', '140'],\n",
       "       ['18', '15', '18', '16', '17']], dtype='<U11')"
      ]
     },
     "execution_count": 73,
     "metadata": {},
     "output_type": "execute_result"
    }
   ],
   "source": [
    "car_names = ['chevrolet', 'buick', 'ply', 'amc', 'ford']\n",
    "horsepower = [130, 165, 150, 150, 140]\n",
    "acceleration = [18, 15, 18, 16, 17]\n",
    "car_hp_acc_arr = np.array([car_names, horsepower, acceleration])\n",
    "car_hp_acc_arr"
   ]
  },
  {
   "cell_type": "code",
   "execution_count": 75,
   "id": "23d6c6f1-9bc4-481e-a254-b64965781213",
   "metadata": {},
   "outputs": [
    {
     "data": {
      "text/plain": [
       "array([['chevrolet', 'buick', 'ply', 'amc', 'ford'],\n",
       "       ['130', '165', '150', '150', '140']], dtype='<U11')"
      ]
     },
     "execution_count": 75,
     "metadata": {},
     "output_type": "execute_result"
    }
   ],
   "source": [
    "car_hp_acc_arr[0:2]"
   ]
  },
  {
   "cell_type": "code",
   "execution_count": 77,
   "id": "31947de7-d96c-4bcb-9c13-16948d6abe93",
   "metadata": {},
   "outputs": [
    {
     "data": {
      "text/plain": [
       "array([['amc', 'ford'],\n",
       "       ['150', '140']], dtype='<U11')"
      ]
     },
     "execution_count": 77,
     "metadata": {},
     "output_type": "execute_result"
    }
   ],
   "source": [
    "car_hp_acc_arr[0:2, 3:5]"
   ]
  },
  {
   "cell_type": "code",
   "execution_count": 79,
   "id": "d5501409-f0a4-4dc6-b6cf-c208542490a6",
   "metadata": {},
   "outputs": [
    {
     "data": {
      "text/plain": [
       "array([['chevrolet', 'buick', 'ply'],\n",
       "       ['130', '165', '150'],\n",
       "       ['18', '15', '18']], dtype='<U11')"
      ]
     },
     "execution_count": 79,
     "metadata": {},
     "output_type": "execute_result"
    }
   ],
   "source": [
    "car_hp_acc_arr[0:3, 0:3]"
   ]
  },
  {
   "cell_type": "code",
   "execution_count": 81,
   "id": "b445d2f6-2352-4d12-ab24-61391a89cea0",
   "metadata": {},
   "outputs": [
    {
     "name": "stdout",
     "output_type": "stream",
     "text": [
      "Mean horsepower =  147.0\n"
     ]
    }
   ],
   "source": [
    "horsepower = [130, 165, 150, 150, 140]\n",
    "horsepower_arr = np.array(horsepower)\n",
    "print(\"Mean horsepower = \",np.mean(horsepower_arr))"
   ]
  },
  {
   "cell_type": "code",
   "execution_count": 83,
   "id": "2f1ba558-160c-4684-9bb3-acb15dbe3d71",
   "metadata": {},
   "outputs": [
    {
     "name": "stdout",
     "output_type": "stream",
     "text": [
      "Minimum horsepower:  130\n",
      "Maximum horsepower:  165\n"
     ]
    }
   ],
   "source": [
    "print(\"Minimum horsepower: \", np.min(horsepower_arr))\n",
    "print(\"Maximum horsepower: \", np.max(horsepower_arr))"
   ]
  },
  {
   "cell_type": "code",
   "execution_count": 85,
   "id": "6b2cc4f5-1507-4450-a023-936169fd4dc0",
   "metadata": {},
   "outputs": [
    {
     "name": "stdout",
     "output_type": "stream",
     "text": [
      "Index of Minimum horsepower:  0\n",
      "Index of Maximum horsepower:  1\n"
     ]
    }
   ],
   "source": [
    "horsepower = [130, 165, 150, 150, 140]\n",
    "horsepower_arr = np.array(horsepower)\n",
    "print(\"Index of Minimum horsepower: \", np.argmin(horsepower_arr))\n",
    "print(\"Index of Maximum horsepower: \", np.argmax(horsepower_arr))"
   ]
  },
  {
   "cell_type": "code",
   "execution_count": 87,
   "id": "b3746f21-cdee-42f9-a546-e668d3da6ff8",
   "metadata": {},
   "outputs": [
    {
     "name": "stdout",
     "output_type": "stream",
     "text": [
      "(array([1, 2, 3], dtype=int64),)\n"
     ]
    },
    {
     "data": {
      "text/plain": [
       "array([165, 150, 150])"
      ]
     },
     "execution_count": 87,
     "metadata": {},
     "output_type": "execute_result"
    }
   ],
   "source": [
    "horsepower = [130, 165, 150, 150, 140]\n",
    "horsepower_arr = np.array(horsepower)\n",
    "x = np.where(horsepower_arr >= 150)\n",
    "print(x) # gives the indices\n",
    "horsepower_arr[x]\n"
   ]
  },
  {
   "cell_type": "code",
   "execution_count": 89,
   "id": "25a3a4f8-0e03-4656-81de-28974948f65e",
   "metadata": {},
   "outputs": [
    {
     "data": {
      "text/plain": [
       "150"
      ]
     },
     "execution_count": 89,
     "metadata": {},
     "output_type": "execute_result"
    }
   ],
   "source": [
    "horsepower_arr[3]"
   ]
  },
  {
   "cell_type": "code",
   "execution_count": 91,
   "id": "6ca97ca2-d4bd-46b4-8a9b-cac74d232128",
   "metadata": {},
   "outputs": [
    {
     "data": {
      "text/plain": [
       "array([165, 140])"
      ]
     },
     "execution_count": 91,
     "metadata": {},
     "output_type": "execute_result"
    }
   ],
   "source": [
    "\n",
    "horsepower_arr[[1,4]]"
   ]
  },
  {
   "cell_type": "code",
   "execution_count": 93,
   "id": "c3a38420-f8e8-461e-a6d0-82bf408296b6",
   "metadata": {},
   "outputs": [
    {
     "name": "stdout",
     "output_type": "stream",
     "text": [
      "bool\n",
      "[False  True  True  True  True]\n",
      "[165 150 150 140]\n"
     ]
    }
   ],
   "source": [
    "horsepower = [130, 165, 150, 150, 140]\n",
    "horsepower_arr = np.array(horsepower)\n",
    "x = horsepower_arr > 135\n",
    "print(x.dtype)\n",
    "newarr = horsepower_arr[x]\n",
    "print(x)\n",
    "print(newarr)\n"
   ]
  },
  {
   "cell_type": "code",
   "execution_count": 95,
   "id": "f9451d9b-4355-4ef3-bc7f-d66b55907a30",
   "metadata": {},
   "outputs": [
    {
     "name": "stdout",
     "output_type": "stream",
     "text": [
      "original array:  [130 165 150 150 140]\n",
      "Sorted array:  [130 140 150 150 165]\n",
      "original array after sorting:  [130 165 150 150 140]\n",
      "[130 140 150 150 165]\n"
     ]
    }
   ],
   "source": [
    "horsepower = [130, 165, 150, 150, 140]\n",
    "horsepower_arr = np.array(horsepower)\n",
    "print('original array: ', horsepower_arr)\n",
    "print('Sorted array: ', np.sort(horsepower_arr))\n",
    "print('original array after sorting: ', horsepower_arr)\n",
    "sortedarray = np.sort(horsepower_arr)\n",
    "print(sortedarray)\n"
   ]
  },
  {
   "cell_type": "code",
   "execution_count": 97,
   "id": "885304b4-f561-4594-8bee-40b896850189",
   "metadata": {},
   "outputs": [
    {
     "name": "stdout",
     "output_type": "stream",
     "text": [
      "[130 165 150 150 140]\n",
      "[130 140 150 150 165]\n"
     ]
    }
   ],
   "source": [
    "horsepower = [130, 165, 150, 150, 140]\n",
    "horsepower_arr = np.array(horsepower)\n",
    "np.sort(horsepower_arr)\n",
    "print(horsepower_arr)\n",
    "horsepower_arr.sort()\n",
    "print(horsepower_arr)"
   ]
  },
  {
   "cell_type": "code",
   "execution_count": 99,
   "id": "96804865-4e87-4e12-9942-149c0becde08",
   "metadata": {},
   "outputs": [
    {
     "name": "stdout",
     "output_type": "stream",
     "text": [
      "original array:  [130 165 150 150 140]\n",
      "original array after sorting:  [130 140 150 150 165]\n"
     ]
    }
   ],
   "source": [
    "horsepower = [130, 165, 150, 150, 140]\n",
    "horsepower_arr = np.array(horsepower)\n",
    "print('original array: ', horsepower_arr)\n",
    "horsepower_arr.sort()\n",
    "print('original array after sorting: ', horsepower_arr)"
   ]
  },
  {
   "cell_type": "code",
   "execution_count": 101,
   "id": "a6121122-0c35-48d1-a7c5-472037657876",
   "metadata": {},
   "outputs": [
    {
     "name": "stdout",
     "output_type": "stream",
     "text": [
      "359\n"
     ]
    }
   ],
   "source": [
    "student_marks_arr = np.array([78, 92, 36, 64, 89])\n",
    "print(np.sum(student_marks_arr))"
   ]
  },
  {
   "cell_type": "code",
   "execution_count": 103,
   "id": "bc22d03d-e1a6-43c0-90da-76d8c0df4c11",
   "metadata": {},
   "outputs": [
    {
     "data": {
      "text/plain": [
       "[2, 3, 4, 5, 4, 5, 6, 7]"
      ]
     },
     "execution_count": 103,
     "metadata": {},
     "output_type": "execute_result"
    }
   ],
   "source": [
    "l1 = [2,3,4,5]\n",
    "l2 = [4,5,6,7]\n",
    "l3 = l1+l2\n",
    "l3"
   ]
  },
  {
   "cell_type": "code",
   "execution_count": 105,
   "id": "18766392-9fe6-4a04-bb71-aae66a345045",
   "metadata": {},
   "outputs": [
    {
     "data": {
      "text/plain": [
       "array([80, 94, 41, 74, 90])"
      ]
     },
     "execution_count": 105,
     "metadata": {},
     "output_type": "execute_result"
    }
   ],
   "source": [
    "additional_marks = [2, 2, 5, 10, 1]\n",
    "student_marks_arr =student_marks_arr+additional_marks\n",
    "student_marks_arr\n"
   ]
  },
  {
   "cell_type": "code",
   "execution_count": 106,
   "id": "26345908-c2d7-4a5d-9ea5-c4e39d40591d",
   "metadata": {},
   "outputs": [
    {
     "data": {
      "text/plain": [
       "array([80, 94, 41, 74, 90])"
      ]
     },
     "execution_count": 106,
     "metadata": {},
     "output_type": "execute_result"
    }
   ],
   "source": [
    "student_marks_arr = np.array([78, 92, 36, 64, 89])\n",
    "student_marks_arr = np.add(student_marks_arr, additional_marks)\n",
    "student_marks_arr"
   ]
  },
  {
   "cell_type": "code",
   "execution_count": 109,
   "id": "0d067311-d354-471d-a6cb-bce32673e27f",
   "metadata": {},
   "outputs": [
    {
     "data": {
      "text/plain": [
       "array([25, 50, 75])"
      ]
     },
     "execution_count": 109,
     "metadata": {},
     "output_type": "execute_result"
    }
   ],
   "source": [
    "array1=np.array([5, 10, 15])\n",
    "array2=np.array([5])\n",
    "array3= array1 * array2\n",
    "array3\n"
   ]
  },
  {
   "cell_type": "code",
   "execution_count": 111,
   "id": "aa021101-02e9-40fc-82da-097f633aa2f3",
   "metadata": {},
   "outputs": [
    {
     "data": {
      "text/plain": [
       "array([5, 6, 7])"
      ]
     },
     "execution_count": 111,
     "metadata": {},
     "output_type": "execute_result"
    }
   ],
   "source": [
    "array1=np.array([0,1,2])\n",
    "array2=np.array([5])\n",
    "array3= array1 + array2\n",
    "array3"
   ]
  },
  {
   "cell_type": "code",
   "execution_count": 112,
   "id": "14fbc088-8971-4e44-9195-253747b275ee",
   "metadata": {},
   "outputs": [
    {
     "data": {
      "text/plain": [
       "array([[1, 2, 3],\n",
       "       [1, 2, 3],\n",
       "       [1, 2, 3]])"
      ]
     },
     "execution_count": 112,
     "metadata": {},
     "output_type": "execute_result"
    }
   ],
   "source": [
    "array1=np.array([[1,1,1],[1,1,1],[1,1,1]])\n",
    "array2=np.array([0,1,2])\n",
    "array3= array1 + array2\n",
    "array3"
   ]
  },
  {
   "cell_type": "code",
   "execution_count": 115,
   "id": "7f737365-aa5a-4807-8ef4-d95d75aff405",
   "metadata": {},
   "outputs": [
    {
     "data": {
      "text/plain": [
       "array([[1, 2, 3],\n",
       "       [1, 2, 3],\n",
       "       [1, 2, 3]])"
      ]
     },
     "execution_count": 115,
     "metadata": {},
     "output_type": "execute_result"
    }
   ],
   "source": [
    "array1=np.array([[1,1,1],[1,1,1],[1,1,1]])\n",
    "array2=np.array([0,1,2])\n",
    "array3= array1 + array2\n",
    "array3\n"
   ]
  },
  {
   "cell_type": "code",
   "execution_count": 117,
   "id": "1ac6a511-2650-46ae-a428-72c0bdb32832",
   "metadata": {},
   "outputs": [
    {
     "data": {
      "text/plain": [
       "array([[67, 45],\n",
       "       [90, 92],\n",
       "       [66, 72],\n",
       "       [32, 40]])"
      ]
     },
     "execution_count": 117,
     "metadata": {},
     "output_type": "execute_result"
    }
   ],
   "source": [
    "students_marks = np.array([[67, 45],[90, 92],[66, 72],[32, 40]])\n",
    "students_marks"
   ]
  },
  {
   "cell_type": "code",
   "execution_count": 118,
   "id": "779e8ba2-8482-45c7-9b54-0a55729bc05c",
   "metadata": {},
   "outputs": [
    {
     "data": {
      "text/plain": [
       "array([[ 72,  55],\n",
       "       [ 95, 102],\n",
       "       [ 71,  82],\n",
       "       [ 37,  50]])"
      ]
     },
     "execution_count": 118,
     "metadata": {},
     "output_type": "execute_result"
    }
   ],
   "source": [
    "students_marks += [5,10]\n",
    "students_marks"
   ]
  },
  {
   "cell_type": "code",
   "execution_count": 119,
   "id": "091bc647-d736-4c8d-bc76-e35069753f3b",
   "metadata": {},
   "outputs": [
    {
     "data": {
      "text/plain": [
       "array([[   1, 6012],\n",
       "       [   2, 7079],\n",
       "       [   3, 6886],\n",
       "       [   4, 7230],\n",
       "       [   5, 4598],\n",
       "       [   6, 5564],\n",
       "       [   7, 6971],\n",
       "       [   8, 7763],\n",
       "       [   9, 8032],\n",
       "       [  10, 9569]])"
      ]
     },
     "execution_count": 119,
     "metadata": {},
     "output_type": "execute_result"
    }
   ],
   "source": [
    "import numpy as np\n",
    "Day_number = np.arange(1,11)\n",
    "Steps_walked = [6012,7079,6886,7230,4598,5564,6971,7763,8032,9569]\n",
    "arr = np.array([Day_number, Steps_walked])\n",
    "arr = arr.T\n",
    "arr\n"
   ]
  },
  {
   "cell_type": "code",
   "execution_count": 123,
   "id": "ea653abd-3728-481c-90f9-a251ed159df0",
   "metadata": {},
   "outputs": [
    {
     "data": {
      "text/plain": [
       "array([[    1,  8012],\n",
       "       [    2,  9079],\n",
       "       [    3,  8886],\n",
       "       [    4,  9230],\n",
       "       [    5,  6598],\n",
       "       [    6,  7564],\n",
       "       [    7,  8971],\n",
       "       [    8,  9763],\n",
       "       [    9, 10032],\n",
       "       [   10, 11569]])"
      ]
     },
     "execution_count": 123,
     "metadata": {},
     "output_type": "execute_result"
    }
   ],
   "source": [
    "new_arr= arr[:,1] + 2000\n",
    "arr[:,1]=new_arr\n",
    "arr"
   ]
  },
  {
   "cell_type": "code",
   "execution_count": 125,
   "id": "93c56f61-09fa-43f8-9bb0-12fc8f7b84ad",
   "metadata": {},
   "outputs": [
    {
     "data": {
      "text/plain": [
       "array([[    2,  9079],\n",
       "       [    4,  9230],\n",
       "       [    8,  9763],\n",
       "       [    9, 10032],\n",
       "       [   10, 11569]])"
      ]
     },
     "execution_count": 125,
     "metadata": {},
     "output_type": "execute_result"
    }
   ],
   "source": [
    "matched = arr[:,1]>9000\n",
    "matched\n",
    "new_arr = arr[matched]\n",
    "new_arr\n"
   ]
  },
  {
   "cell_type": "code",
   "execution_count": 127,
   "id": "6e5e4761-738c-4b9a-aff1-684e3ff9d692",
   "metadata": {},
   "outputs": [
    {
     "name": "stdout",
     "output_type": "stream",
     "text": [
      "Sorted 2D Numpy Array\n",
      "[[    5  6598]\n",
      " [    6  7564]\n",
      " [    1  8012]\n",
      " [    3  8886]\n",
      " [    7  8971]\n",
      " [    2  9079]\n",
      " [    4  9230]\n",
      " [    8  9763]\n",
      " [    9 10032]\n",
      " [   10 11569]]\n"
     ]
    }
   ],
   "source": [
    "sortedArr = arr[arr[:,1].argsort()]\n",
    "print('Sorted 2D Numpy Array')\n",
    "print(sortedArr)"
   ]
  },
  {
   "cell_type": "code",
   "execution_count": 129,
   "id": "537ddc11-23a3-4b91-91ab-57e29e813d0f",
   "metadata": {},
   "outputs": [],
   "source": [
    "import numpy as np \n",
    "import pandas as pd\n",
    "import time\n",
    "import matplotlib.pyplot as plt"
   ]
  },
  {
   "cell_type": "code",
   "execution_count": 130,
   "id": "d52ec4a4-fbfe-47da-bba1-65c8eb7154c5",
   "metadata": {},
   "outputs": [],
   "source": [
    "v1 = np.random.rand(1000000, 1)\n",
    "v2 = np.random.rand(1000000, 1)"
   ]
  },
  {
   "cell_type": "code",
   "execution_count": 131,
   "id": "51add547-32ea-44ea-a0ba-4791ad231e46",
   "metadata": {},
   "outputs": [
    {
     "name": "stdout",
     "output_type": "stream",
     "text": [
      "Scaling vector Answer = [[1.66666684]\n",
      " [0.65487674]\n",
      " [0.48032927]\n",
      " ...\n",
      " [0.22862822]\n",
      " [1.82507167]\n",
      " [0.06775298]]\n",
      "Time taken = 4984.375 ms\n"
     ]
    }
   ],
   "source": [
    "import numpy as np \n",
    "import time\n",
    "v1 = np.random.rand(1000000, 1)\n",
    "start = time.process_time()\n",
    "v1_scaled = np.zeros((1000000, 1))\n",
    "for i in range(len(v1)):\n",
    " v1_scaled[i] = 2 * v1[i]\n",
    "end = time.process_time()\n",
    "\n",
    "print(\"Scaling vector Answer = \" + str(v1_scaled))\n",
    "print(\"Time taken = \" + str(1000*(end - start)) + \" ms\")"
   ]
  },
  {
   "cell_type": "code",
   "execution_count": 132,
   "id": "fc7b8117-928c-476b-bd2e-6f343131033c",
   "metadata": {},
   "outputs": [
    {
     "name": "stdout",
     "output_type": "stream",
     "text": [
      "Scaling vector Answer = [[1.66666684]\n",
      " [0.65487674]\n",
      " [0.48032927]\n",
      " ...\n",
      " [0.22862822]\n",
      " [1.82507167]\n",
      " [0.06775298]]\n",
      "Time taken = 0.0 ms\n"
     ]
    }
   ],
   "source": [
    "start = time.process_time()\n",
    "v1_scaled = np.zeros((1000000, 1))\n",
    "v1_scaled = 2 * v1\n",
    "end = time.process_time()\n",
    "\n",
    "print(\"Scaling vector Answer = \" + str(v1_scaled))\n",
    "print(\"Time taken = \" + str(1000*(end - start)) + \" ms\")"
   ]
  },
  {
   "cell_type": "code",
   "execution_count": 133,
   "id": "6d27bd8b-a38b-4711-8be4-1a08f5624d07",
   "metadata": {},
   "outputs": [
    {
     "name": "stdout",
     "output_type": "stream",
     "text": [
      "Dot product Answer = [249802.51290841]\n",
      "Time taken = 4968.75 ms\n"
     ]
    }
   ],
   "source": [
    "v2 = np.random.rand(1000000, 1)\n",
    "start = time.process_time()\n",
    "product = 0\n",
    "for i in range(len(v1)):\n",
    " product += v1[i] * v2[i]\n",
    "end = time.process_time()\n",
    "print(\"Dot product Answer = \" + str(product))\n",
    "print(\"Time taken = \" + str(1000*(end - start)) + \" ms\")"
   ]
  },
  {
   "cell_type": "code",
   "execution_count": 134,
   "id": "1eaa00fe-e20b-4cb9-8ade-02b6b9fdd023",
   "metadata": {},
   "outputs": [
    {
     "name": "stdout",
     "output_type": "stream",
     "text": [
      "Dot product Answer = [[249802.51290841]]\n",
      "Time taken = 0.0 ms\n"
     ]
    }
   ],
   "source": [
    "start = time.process_time()\n",
    "product = 0\n",
    "product = np.dot(v1.T, v2)\n",
    "end = time.process_time()\n",
    "print(\"Dot product Answer = \" + str(product))\n",
    "print(\"Time taken = \" + str(1000*(end - start)) + \" ms\")"
   ]
  },
  {
   "cell_type": "code",
   "execution_count": 135,
   "id": "814192c3-c9cd-4a51-9f89-b35ab2f3113c",
   "metadata": {},
   "outputs": [
    {
     "name": "stdout",
     "output_type": "stream",
     "text": [
      "Element Wise answer = [[0.78684218]\n",
      " [0.29222529]\n",
      " [0.04329368]\n",
      " ...\n",
      " [0.09043276]\n",
      " [0.33056297]\n",
      " [0.01000263]]\n",
      "Time Taken = 3640.625 ms\n"
     ]
    }
   ],
   "source": [
    "start = time.process_time()\n",
    "answer = np.zeros((1000000, 1))\n",
    "for i in range(len(v1)):\n",
    " answer[i] = v1[i] * v2[i]\n",
    "\n",
    "end = time.process_time()\n",
    "print(\"Element Wise answer = \" + str(answer))\n",
    "print(\"Time Taken = \" + str(1000*(end - start)) + \" ms\")"
   ]
  },
  {
   "cell_type": "code",
   "execution_count": 136,
   "id": "8414f268-c570-4039-bcc4-ec438745ec83",
   "metadata": {},
   "outputs": [
    {
     "name": "stdout",
     "output_type": "stream",
     "text": [
      "Element Wise answer = [[0.78684218]\n",
      " [0.29222529]\n",
      " [0.04329368]\n",
      " ...\n",
      " [0.09043276]\n",
      " [0.33056297]\n",
      " [0.01000263]]\n",
      "Time Taken = 0.0 ms\n"
     ]
    }
   ],
   "source": [
    "start = time.process_time()\n",
    "answer = np.zeros((1000000, 1))\n",
    "answer = v1 * v2\n",
    "end = time.process_time()\n",
    "print(\"Element Wise answer = \" + str(answer))\n",
    "print(\"Time Taken = \" + str(1000*(end - start)) + \" ms\")"
   ]
  },
  {
   "cell_type": "code",
   "execution_count": 152,
   "id": "a35cacfd-f108-4863-ba77-1eff22d473b3",
   "metadata": {},
   "outputs": [
    {
     "name": "stdout",
     "output_type": "stream",
     "text": [
      "Element Wise Matrix answer = [[6.46203250e-02 6.11043062e-01 3.72552908e-02 ... 1.62391116e-01\n",
      "  3.21705592e-01 5.15021136e-01]\n",
      " [1.23388710e-01 2.55410394e-01 9.09648010e-02 ... 4.01042589e-01\n",
      "  1.99666227e-04 6.36898884e-02]\n",
      " [4.77602526e-02 6.58834510e-01 5.25982211e-02 ... 4.56129863e-03\n",
      "  5.01241336e-01 4.77872032e-01]\n",
      " ...\n",
      " [1.50029486e-01 1.61074088e-02 3.98920982e-02 ... 3.13348788e-02\n",
      "  4.92794553e-01 4.15735596e-01]\n",
      " [7.56847454e-02 2.40557794e-01 3.39072679e-01 ... 5.88737074e-01\n",
      "  3.15388322e-01 6.45734845e-03]\n",
      " [1.81249096e-01 3.71207821e-01 3.95660890e-01 ... 5.43542225e-01\n",
      "  5.72322284e-01 7.56060389e-02]]\n",
      "Time Taken = 843.75 ms\n"
     ]
    }
   ],
   "source": [
    "#import numpy as np\n",
    "import time\n",
    "\n",
    "m1 = np.random.rand(10000, 10000)\n",
    "m2 = np.random.rand(10000, 10000)\n",
    "\n",
    "answer = np.zeros((10000, 10000))\n",
    "\n",
    "start = time.process_time()\n",
    "\n",
    "answer = m1 * m2\n",
    "\n",
    "end = time.process_time()\n",
    "\n",
    "print(\"Element Wise Matrix answer = \" + str(answer))\n",
    "print(\"Time Taken = \" + str(1000 * (end - start)) + \" ms\")\n"
   ]
  },
  {
   "cell_type": "code",
   "execution_count": 153,
   "id": "87274145-f47b-4fb1-ad8e-4321bc752477",
   "metadata": {},
   "outputs": [
    {
     "name": "stdout",
     "output_type": "stream",
     "text": [
      "Element Wise Matrix answer = [[6.46203250e-02 6.11043062e-01 3.72552908e-02 ... 1.62391116e-01\n",
      "  3.21705592e-01 5.15021136e-01]\n",
      " [1.23388710e-01 2.55410394e-01 9.09648010e-02 ... 4.01042589e-01\n",
      "  1.99666227e-04 6.36898884e-02]\n",
      " [4.77602526e-02 6.58834510e-01 5.25982211e-02 ... 4.56129863e-03\n",
      "  5.01241336e-01 4.77872032e-01]\n",
      " ...\n",
      " [1.50029486e-01 1.61074088e-02 3.98920982e-02 ... 3.13348788e-02\n",
      "  4.92794553e-01 4.15735596e-01]\n",
      " [7.56847454e-02 2.40557794e-01 3.39072679e-01 ... 5.88737074e-01\n",
      "  3.15388322e-01 6.45734845e-03]\n",
      " [1.81249096e-01 3.71207821e-01 3.95660890e-01 ... 5.43542225e-01\n",
      "  5.72322284e-01 7.56060389e-02]]\n",
      "Time Taken = 375.0 ms\n"
     ]
    }
   ],
   "source": [
    "\n",
    "answer = np.zeros((10000, 10000))\n",
    "start = time.process_time()\n",
    "answer = np.multiply(m1, m2)\n",
    "end = time.process_time()\n",
    "print(\"Element Wise Matrix answer = \" + str(answer))\n",
    "print(\"Time Taken = \" + str(1000*(end - start)) + \" ms\")"
   ]
  },
  {
   "cell_type": "code",
   "execution_count": 154,
   "id": "37f43501-bfe4-4b28-9d28-dc3e611548f3",
   "metadata": {},
   "outputs": [],
   "source": [
    "import pandas as pd\n",
    "sizes = [10, 100, 1000, 10000, 100000, 1000000, 10000000]\n",
    "complexity = pd.DataFrame(columns=['sizes', 'for_loop', 'numpy'])\n",
    "complexity['sizes'] = sizes"
   ]
  },
  {
   "cell_type": "code",
   "execution_count": 155,
   "id": "94c10ba8-57d0-4248-9c01-06695bf8d115",
   "metadata": {},
   "outputs": [
    {
     "ename": "IndentationError",
     "evalue": "expected an indented block after 'for' statement on line 10 (89272715.py, line 11)",
     "output_type": "error",
     "traceback": [
      "\u001b[1;36m  Cell \u001b[1;32mIn[155], line 11\u001b[1;36m\u001b[0m\n\u001b[1;33m    product += v1[i] * v2[i]\u001b[0m\n\u001b[1;37m    ^\u001b[0m\n\u001b[1;31mIndentationError\u001b[0m\u001b[1;31m:\u001b[0m expected an indented block after 'for' statement on line 10\n"
     ]
    }
   ],
   "source": [
    "for_loops = []\n",
    "numpy = []\n",
    "for size in sizes:\n",
    " v1 = np.random.rand(size, 1)\n",
    " v2 = np.random.rand(size, 1)\n",
    "\n",
    " #For loop implementation\n",
    " start = time.process_time()\n",
    " product = 0\n",
    " for i in range(len(v1)):\n",
    " product += v1[i] * v2[i]\n",
    " end = time.process_time()\n",
    "\n",
    " for_loops.append(1000*(end-start))\n",
    "\n",
    " #Vectorized implementation\n",
    "\n",
    " start = time.process_time()\n",
    " product = 0\n",
    " product = np.dot(v1.T, v2)\n",
    " end = time.process_time()\n",
    " numpy.append(1000*(end - start))   "
   ]
  },
  {
   "cell_type": "code",
   "execution_count": null,
   "id": "5674cbd0-731b-44b8-ac6f-d8a6d058257a",
   "metadata": {},
   "outputs": [],
   "source": [
    "complexity['for_loop'] = for_loops\n",
    "complexity['numpy'] = numpy\n",
    "complexity\n"
   ]
  },
  {
   "cell_type": "code",
   "execution_count": null,
   "id": "a587c44a-2b88-46b1-b3b0-e5c230fe72b1",
   "metadata": {},
   "outputs": [],
   "source": [
    "import pandas as pd\n",
    "import numpy as np\n",
    "marks = {'Chemistry': [67,90,66,32],\n",
    " 'Physics': [45,92,72,40],\n",
    " 'Mathematics': [50,87,81,12],\n",
    " 'English': [19,90,72,68]}\n",
    "marks_df = pd.DataFrame(marks, index = ['Subodh', 'Ram', 'Abdul', 'John'])\n",
    "marks_df\n"
   ]
  },
  {
   "cell_type": "code",
   "execution_count": 17,
   "id": "9fbbd962-2a79-4afc-b1a9-12f3f0c53afe",
   "metadata": {},
   "outputs": [
    {
     "ename": "NameError",
     "evalue": "name 'marks_df' is not defined",
     "output_type": "error",
     "traceback": [
      "\u001b[1;31m---------------------------------------------------------------------------\u001b[0m",
      "\u001b[1;31mNameError\u001b[0m                                 Traceback (most recent call last)",
      "Cell \u001b[1;32mIn[17], line 5\u001b[0m\n\u001b[0;32m      1\u001b[0m marks \u001b[38;5;241m=\u001b[39m {\u001b[38;5;124m'\u001b[39m\u001b[38;5;124mChemistry\u001b[39m\u001b[38;5;124m'\u001b[39m: [\u001b[38;5;241m67\u001b[39m,\u001b[38;5;241m90\u001b[39m,\u001b[38;5;241m66\u001b[39m,\u001b[38;5;241m32\u001b[39m],\n\u001b[0;32m      2\u001b[0m  \u001b[38;5;124m'\u001b[39m\u001b[38;5;124mPhysics\u001b[39m\u001b[38;5;124m'\u001b[39m: [\u001b[38;5;241m45\u001b[39m,\u001b[38;5;241m92\u001b[39m,\u001b[38;5;241m72\u001b[39m,\u001b[38;5;241m40\u001b[39m],\n\u001b[0;32m      3\u001b[0m  \u001b[38;5;124m'\u001b[39m\u001b[38;5;124mMathematics\u001b[39m\u001b[38;5;124m'\u001b[39m: [\u001b[38;5;241m50\u001b[39m,\u001b[38;5;241m87\u001b[39m,\u001b[38;5;241m81\u001b[39m,\u001b[38;5;241m12\u001b[39m],\n\u001b[0;32m      4\u001b[0m  \u001b[38;5;124m'\u001b[39m\u001b[38;5;124mEnglish\u001b[39m\u001b[38;5;124m'\u001b[39m: [\u001b[38;5;241m19\u001b[39m,\u001b[38;5;241m90\u001b[39m,\u001b[38;5;241m72\u001b[39m,\u001b[38;5;241m68\u001b[39m]}\n\u001b[1;32m----> 5\u001b[0m marks_df[\u001b[38;5;124m'\u001b[39m\u001b[38;5;124mTotal\u001b[39m\u001b[38;5;124m'\u001b[39m] \u001b[38;5;241m=\u001b[39m marks_df[\u001b[38;5;124m'\u001b[39m\u001b[38;5;124mChemistry\u001b[39m\u001b[38;5;124m'\u001b[39m] \u001b[38;5;241m+\u001b[39m marks_df[\u001b[38;5;124m'\u001b[39m\u001b[38;5;124mPhysics\u001b[39m\u001b[38;5;124m'\u001b[39m] \u001b[38;5;241m+\u001b[39m marks_df[\u001b[38;5;124m'\u001b[39m\u001b[38;5;124mMathematics\u001b[39m\u001b[38;5;124m'\u001b[39m]\n\u001b[0;32m      6\u001b[0m marks_df\n",
      "\u001b[1;31mNameError\u001b[0m: name 'marks_df' is not defined"
     ]
    }
   ],
   "source": [
    "marks = {'Chemistry': [67,90,66,32],\n",
    " 'Physics': [45,92,72,40],\n",
    " 'Mathematics': [50,87,81,12],\n",
    " 'English': [19,90,72,68]}\n",
    "marks_df['Total'] = marks_df['Chemistry'] + marks_df['Physics'] + marks_df['Mathematics']\n",
    "marks_df"
   ]
  },
  {
   "cell_type": "code",
   "execution_count": 161,
   "id": "0a914d98-36a6-4eeb-9bf5-f03873970c68",
   "metadata": {},
   "outputs": [
    {
     "ename": "NameError",
     "evalue": "name 'marks_df' is not defined",
     "output_type": "error",
     "traceback": [
      "\u001b[1;31m---------------------------------------------------------------------------\u001b[0m",
      "\u001b[1;31mNameError\u001b[0m                                 Traceback (most recent call last)",
      "Cell \u001b[1;32mIn[161], line 1\u001b[0m\n\u001b[1;32m----> 1\u001b[0m marks_df\u001b[38;5;241m.\u001b[39mdrop(columns \u001b[38;5;241m=\u001b[39m \u001b[38;5;124m'\u001b[39m\u001b[38;5;124mTotal\u001b[39m\u001b[38;5;124m'\u001b[39m, inplace \u001b[38;5;241m=\u001b[39m \u001b[38;5;28;01mTrue\u001b[39;00m)\n\u001b[0;32m      2\u001b[0m marks_df\n",
      "\u001b[1;31mNameError\u001b[0m: name 'marks_df' is not defined"
     ]
    }
   ],
   "source": [
    "marks_df.drop(columns = 'Total', inplace = True)\n",
    "marks_df"
   ]
  },
  {
   "cell_type": "code",
   "execution_count": 163,
   "id": "57e2bfe6-0b60-4cde-a7dc-9a55e468f088",
   "metadata": {},
   "outputs": [
    {
     "ename": "NameError",
     "evalue": "name 'marks_df' is not defined",
     "output_type": "error",
     "traceback": [
      "\u001b[1;31m---------------------------------------------------------------------------\u001b[0m",
      "\u001b[1;31mNameError\u001b[0m                                 Traceback (most recent call last)",
      "Cell \u001b[1;32mIn[163], line 1\u001b[0m\n\u001b[1;32m----> 1\u001b[0m new_marks \u001b[38;5;241m=\u001b[39m marks_df \u001b[38;5;241m+\u001b[39m \u001b[38;5;241m5\u001b[39m\n\u001b[0;32m      2\u001b[0m new_marks\n",
      "\u001b[1;31mNameError\u001b[0m: name 'marks_df' is not defined"
     ]
    }
   ],
   "source": [
    "new_marks = marks_df + 5\n",
    "new_marks"
   ]
  },
  {
   "cell_type": "code",
   "execution_count": 165,
   "id": "c4e8e734-90fb-4d66-9efa-74c0fae347c7",
   "metadata": {},
   "outputs": [
    {
     "ename": "NameError",
     "evalue": "name 'marks_df' is not defined",
     "output_type": "error",
     "traceback": [
      "\u001b[1;31m---------------------------------------------------------------------------\u001b[0m",
      "\u001b[1;31mNameError\u001b[0m                                 Traceback (most recent call last)",
      "Cell \u001b[1;32mIn[165], line 1\u001b[0m\n\u001b[1;32m----> 1\u001b[0m new_marks \u001b[38;5;241m=\u001b[39m marks_df \u001b[38;5;241m+\u001b[39m [\u001b[38;5;241m5\u001b[39m,\u001b[38;5;241m10\u001b[39m,\u001b[38;5;241m10\u001b[39m,\u001b[38;5;241m2\u001b[39m]\n\u001b[0;32m      2\u001b[0m new_marks\n",
      "\u001b[1;31mNameError\u001b[0m: name 'marks_df' is not defined"
     ]
    }
   ],
   "source": [
    "new_marks = marks_df + [5,10,10,2]\n",
    "new_marks"
   ]
  },
  {
   "cell_type": "code",
   "execution_count": 167,
   "id": "e27c8b12-0174-4b5f-9b65-a29af81c84a4",
   "metadata": {},
   "outputs": [
    {
     "ename": "NameError",
     "evalue": "name 'marks_df' is not defined",
     "output_type": "error",
     "traceback": [
      "\u001b[1;31m---------------------------------------------------------------------------\u001b[0m",
      "\u001b[1;31mNameError\u001b[0m                                 Traceback (most recent call last)",
      "Cell \u001b[1;32mIn[167], line 1\u001b[0m\n\u001b[1;32m----> 1\u001b[0m marks_df\u001b[38;5;241m.\u001b[39mapply(np\u001b[38;5;241m.\u001b[39msum, axis \u001b[38;5;241m=\u001b[39m \u001b[38;5;241m0\u001b[39m)\n",
      "\u001b[1;31mNameError\u001b[0m: name 'marks_df' is not defined"
     ]
    }
   ],
   "source": [
    "\n",
    "marks_df.apply(np.sum, axis = 0)"
   ]
  },
  {
   "cell_type": "code",
   "execution_count": 169,
   "id": "40009ca9-d7c5-46fc-860a-314dc49d515b",
   "metadata": {},
   "outputs": [
    {
     "ename": "NameError",
     "evalue": "name 'marks_df' is not defined",
     "output_type": "error",
     "traceback": [
      "\u001b[1;31m---------------------------------------------------------------------------\u001b[0m",
      "\u001b[1;31mNameError\u001b[0m                                 Traceback (most recent call last)",
      "Cell \u001b[1;32mIn[169], line 1\u001b[0m\n\u001b[1;32m----> 1\u001b[0m marks_df\u001b[38;5;241m.\u001b[39mapply(np\u001b[38;5;241m.\u001b[39msum, axis \u001b[38;5;241m=\u001b[39m \u001b[38;5;241m1\u001b[39m)\n",
      "\u001b[1;31mNameError\u001b[0m: name 'marks_df' is not defined"
     ]
    }
   ],
   "source": [
    "marks_df.apply(np.sum, axis = 1)"
   ]
  },
  {
   "cell_type": "code",
   "execution_count": 15,
   "id": "d08026a7-a988-4d46-829d-d10a96dea8e1",
   "metadata": {},
   "outputs": [
    {
     "ename": "NameError",
     "evalue": "name 'marks_df' is not defined",
     "output_type": "error",
     "traceback": [
      "\u001b[1;31m---------------------------------------------------------------------------\u001b[0m",
      "\u001b[1;31mNameError\u001b[0m                                 Traceback (most recent call last)",
      "Cell \u001b[1;32mIn[15], line 1\u001b[0m\n\u001b[1;32m----> 1\u001b[0m df \u001b[38;5;241m=\u001b[39m marks_df \u001b[38;5;241m<\u001b[39m \u001b[38;5;241m35\u001b[39m\n\u001b[0;32m      2\u001b[0m marks_df\u001b[38;5;241m.\u001b[39mmask(f, \u001b[38;5;124m'\u001b[39m\u001b[38;5;124mFail\u001b[39m\u001b[38;5;124m'\u001b[39m)\n",
      "\u001b[1;31mNameError\u001b[0m: name 'marks_df' is not defined"
     ]
    }
   ],
   "source": [
    "\n",
    "df = marks_df < 35\n",
    "marks_df.mask(f, 'Fail')"
   ]
  },
  {
   "cell_type": "code",
   "execution_count": 173,
   "id": "1bc5b059-ab0b-44b3-a3c7-a3d70dceca41",
   "metadata": {},
   "outputs": [],
   "source": [
    "\n",
    "import numpy as np\n",
    "import pandas as pd"
   ]
  },
  {
   "cell_type": "code",
   "execution_count": 175,
   "id": "8e4ac8a3-17f5-4c29-bf30-61821db0dea0",
   "metadata": {},
   "outputs": [
    {
     "data": {
      "text/html": [
       "<div>\n",
       "<style scoped>\n",
       "    .dataframe tbody tr th:only-of-type {\n",
       "        vertical-align: middle;\n",
       "    }\n",
       "\n",
       "    .dataframe tbody tr th {\n",
       "        vertical-align: top;\n",
       "    }\n",
       "\n",
       "    .dataframe thead th {\n",
       "        text-align: right;\n",
       "    }\n",
       "</style>\n",
       "<table border=\"1\" class=\"dataframe\">\n",
       "  <thead>\n",
       "    <tr style=\"text-align: right;\">\n",
       "      <th></th>\n",
       "      <th>mpg</th>\n",
       "      <th>cylinders</th>\n",
       "      <th>displacement</th>\n",
       "      <th>horsepower</th>\n",
       "      <th>weight</th>\n",
       "      <th>acceleration</th>\n",
       "      <th>model-year</th>\n",
       "    </tr>\n",
       "  </thead>\n",
       "  <tbody>\n",
       "    <tr>\n",
       "      <th>0</th>\n",
       "      <td>18.0</td>\n",
       "      <td>8</td>\n",
       "      <td>307.0</td>\n",
       "      <td>130.0</td>\n",
       "      <td>3504</td>\n",
       "      <td>12.0</td>\n",
       "      <td>70</td>\n",
       "    </tr>\n",
       "    <tr>\n",
       "      <th>1</th>\n",
       "      <td>15.0</td>\n",
       "      <td>8</td>\n",
       "      <td>350.0</td>\n",
       "      <td>165.0</td>\n",
       "      <td>3693</td>\n",
       "      <td>11.5</td>\n",
       "      <td>70</td>\n",
       "    </tr>\n",
       "    <tr>\n",
       "      <th>2</th>\n",
       "      <td>18.0</td>\n",
       "      <td>8</td>\n",
       "      <td>318.0</td>\n",
       "      <td>150.0</td>\n",
       "      <td>3436</td>\n",
       "      <td>11.0</td>\n",
       "      <td>70</td>\n",
       "    </tr>\n",
       "    <tr>\n",
       "      <th>3</th>\n",
       "      <td>16.0</td>\n",
       "      <td>8</td>\n",
       "      <td>304.0</td>\n",
       "      <td>150.0</td>\n",
       "      <td>3433</td>\n",
       "      <td>12.0</td>\n",
       "      <td>70</td>\n",
       "    </tr>\n",
       "    <tr>\n",
       "      <th>4</th>\n",
       "      <td>17.0</td>\n",
       "      <td>8</td>\n",
       "      <td>302.0</td>\n",
       "      <td>140.0</td>\n",
       "      <td>3449</td>\n",
       "      <td>10.5</td>\n",
       "      <td>70</td>\n",
       "    </tr>\n",
       "  </tbody>\n",
       "</table>\n",
       "</div>"
      ],
      "text/plain": [
       "    mpg  cylinders  displacement  horsepower  weight  acceleration  model-year\n",
       "0  18.0          8         307.0       130.0    3504          12.0          70\n",
       "1  15.0          8         350.0       165.0    3693          11.5          70\n",
       "2  18.0          8         318.0       150.0    3436          11.0          70\n",
       "3  16.0          8         304.0       150.0    3433          12.0          70\n",
       "4  17.0          8         302.0       140.0    3449          10.5          70"
      ]
     },
     "execution_count": 175,
     "metadata": {},
     "output_type": "execute_result"
    }
   ],
   "source": [
    "import pandas as pd\n",
    "import numpy as np\n",
    "df = pd.read_csv(\"C:/Users/jeeva/Downloads/auto-mpg.csv\")\n",
    "df.head()\n"
   ]
  },
  {
   "cell_type": "code",
   "execution_count": 177,
   "id": "a35f6e83-8268-4438-ab9c-93ae8b164aae",
   "metadata": {},
   "outputs": [
    {
     "data": {
      "text/html": [
       "<div>\n",
       "<style scoped>\n",
       "    .dataframe tbody tr th:only-of-type {\n",
       "        vertical-align: middle;\n",
       "    }\n",
       "\n",
       "    .dataframe tbody tr th {\n",
       "        vertical-align: top;\n",
       "    }\n",
       "\n",
       "    .dataframe thead th {\n",
       "        text-align: right;\n",
       "    }\n",
       "</style>\n",
       "<table border=\"1\" class=\"dataframe\">\n",
       "  <thead>\n",
       "    <tr style=\"text-align: right;\">\n",
       "      <th></th>\n",
       "      <th>mpg</th>\n",
       "      <th>cylinders</th>\n",
       "      <th>displacement</th>\n",
       "      <th>horsepower</th>\n",
       "      <th>weight</th>\n",
       "      <th>acceleration</th>\n",
       "      <th>model-year</th>\n",
       "    </tr>\n",
       "  </thead>\n",
       "  <tbody>\n",
       "    <tr>\n",
       "      <th>51</th>\n",
       "      <td>30.0</td>\n",
       "      <td>4</td>\n",
       "      <td>79.0</td>\n",
       "      <td>70.0</td>\n",
       "      <td>2074</td>\n",
       "      <td>19.5</td>\n",
       "      <td>71</td>\n",
       "    </tr>\n",
       "    <tr>\n",
       "      <th>52</th>\n",
       "      <td>30.0</td>\n",
       "      <td>4</td>\n",
       "      <td>88.0</td>\n",
       "      <td>76.0</td>\n",
       "      <td>2065</td>\n",
       "      <td>14.5</td>\n",
       "      <td>71</td>\n",
       "    </tr>\n",
       "    <tr>\n",
       "      <th>53</th>\n",
       "      <td>31.0</td>\n",
       "      <td>4</td>\n",
       "      <td>71.0</td>\n",
       "      <td>65.0</td>\n",
       "      <td>1773</td>\n",
       "      <td>19.0</td>\n",
       "      <td>71</td>\n",
       "    </tr>\n",
       "    <tr>\n",
       "      <th>54</th>\n",
       "      <td>35.0</td>\n",
       "      <td>4</td>\n",
       "      <td>72.0</td>\n",
       "      <td>69.0</td>\n",
       "      <td>1613</td>\n",
       "      <td>18.0</td>\n",
       "      <td>71</td>\n",
       "    </tr>\n",
       "    <tr>\n",
       "      <th>129</th>\n",
       "      <td>31.0</td>\n",
       "      <td>4</td>\n",
       "      <td>79.0</td>\n",
       "      <td>67.0</td>\n",
       "      <td>1950</td>\n",
       "      <td>19.0</td>\n",
       "      <td>74</td>\n",
       "    </tr>\n",
       "    <tr>\n",
       "      <th>...</th>\n",
       "      <td>...</td>\n",
       "      <td>...</td>\n",
       "      <td>...</td>\n",
       "      <td>...</td>\n",
       "      <td>...</td>\n",
       "      <td>...</td>\n",
       "      <td>...</td>\n",
       "    </tr>\n",
       "    <tr>\n",
       "      <th>384</th>\n",
       "      <td>32.0</td>\n",
       "      <td>4</td>\n",
       "      <td>91.0</td>\n",
       "      <td>67.0</td>\n",
       "      <td>1965</td>\n",
       "      <td>15.7</td>\n",
       "      <td>82</td>\n",
       "    </tr>\n",
       "    <tr>\n",
       "      <th>385</th>\n",
       "      <td>38.0</td>\n",
       "      <td>4</td>\n",
       "      <td>91.0</td>\n",
       "      <td>67.0</td>\n",
       "      <td>1995</td>\n",
       "      <td>16.2</td>\n",
       "      <td>82</td>\n",
       "    </tr>\n",
       "    <tr>\n",
       "      <th>391</th>\n",
       "      <td>36.0</td>\n",
       "      <td>4</td>\n",
       "      <td>135.0</td>\n",
       "      <td>84.0</td>\n",
       "      <td>2370</td>\n",
       "      <td>13.0</td>\n",
       "      <td>82</td>\n",
       "    </tr>\n",
       "    <tr>\n",
       "      <th>394</th>\n",
       "      <td>44.0</td>\n",
       "      <td>4</td>\n",
       "      <td>97.0</td>\n",
       "      <td>52.0</td>\n",
       "      <td>2130</td>\n",
       "      <td>24.6</td>\n",
       "      <td>82</td>\n",
       "    </tr>\n",
       "    <tr>\n",
       "      <th>395</th>\n",
       "      <td>32.0</td>\n",
       "      <td>4</td>\n",
       "      <td>135.0</td>\n",
       "      <td>84.0</td>\n",
       "      <td>2295</td>\n",
       "      <td>11.6</td>\n",
       "      <td>82</td>\n",
       "    </tr>\n",
       "  </tbody>\n",
       "</table>\n",
       "<p>83 rows × 7 columns</p>\n",
       "</div>"
      ],
      "text/plain": [
       "      mpg  cylinders  displacement  horsepower  weight  acceleration  \\\n",
       "51   30.0          4          79.0        70.0    2074          19.5   \n",
       "52   30.0          4          88.0        76.0    2065          14.5   \n",
       "53   31.0          4          71.0        65.0    1773          19.0   \n",
       "54   35.0          4          72.0        69.0    1613          18.0   \n",
       "129  31.0          4          79.0        67.0    1950          19.0   \n",
       "..    ...        ...           ...         ...     ...           ...   \n",
       "384  32.0          4          91.0        67.0    1965          15.7   \n",
       "385  38.0          4          91.0        67.0    1995          16.2   \n",
       "391  36.0          4         135.0        84.0    2370          13.0   \n",
       "394  44.0          4          97.0        52.0    2130          24.6   \n",
       "395  32.0          4         135.0        84.0    2295          11.6   \n",
       "\n",
       "     model-year  \n",
       "51           71  \n",
       "52           71  \n",
       "53           71  \n",
       "54           71  \n",
       "129          74  \n",
       "..          ...  \n",
       "384          82  \n",
       "385          82  \n",
       "391          82  \n",
       "394          82  \n",
       "395          82  \n",
       "\n",
       "[83 rows x 7 columns]"
      ]
     },
     "execution_count": 177,
     "metadata": {},
     "output_type": "execute_result"
    }
   ],
   "source": [
    "df.loc[(df['mpg'] > 29) & (df['horsepower'] < 93.5) & (df['weight'] < 2500)]"
   ]
  },
  {
   "cell_type": "code",
   "execution_count": 179,
   "id": "44157c52-5db3-446a-a89b-bb8600545ec8",
   "metadata": {},
   "outputs": [
    {
     "data": {
      "text/html": [
       "<div>\n",
       "<style scoped>\n",
       "    .dataframe tbody tr th:only-of-type {\n",
       "        vertical-align: middle;\n",
       "    }\n",
       "\n",
       "    .dataframe tbody tr th {\n",
       "        vertical-align: top;\n",
       "    }\n",
       "\n",
       "    .dataframe thead th {\n",
       "        text-align: right;\n",
       "    }\n",
       "</style>\n",
       "<table border=\"1\" class=\"dataframe\">\n",
       "  <thead>\n",
       "    <tr style=\"text-align: right;\">\n",
       "      <th></th>\n",
       "      <th>mpg</th>\n",
       "      <th>cylinders</th>\n",
       "      <th>displacement</th>\n",
       "      <th>horsepower</th>\n",
       "      <th>weight</th>\n",
       "      <th>acceleration</th>\n",
       "      <th>model-year</th>\n",
       "    </tr>\n",
       "  </thead>\n",
       "  <tbody>\n",
       "    <tr>\n",
       "      <th>0</th>\n",
       "      <td>18.0</td>\n",
       "      <td>8</td>\n",
       "      <td>307.0</td>\n",
       "      <td>130.0</td>\n",
       "      <td>3504</td>\n",
       "      <td>12.0</td>\n",
       "      <td>70</td>\n",
       "    </tr>\n",
       "    <tr>\n",
       "      <th>1</th>\n",
       "      <td>15.0</td>\n",
       "      <td>8</td>\n",
       "      <td>350.0</td>\n",
       "      <td>165.0</td>\n",
       "      <td>3693</td>\n",
       "      <td>11.5</td>\n",
       "      <td>70</td>\n",
       "    </tr>\n",
       "    <tr>\n",
       "      <th>2</th>\n",
       "      <td>18.0</td>\n",
       "      <td>8</td>\n",
       "      <td>318.0</td>\n",
       "      <td>150.0</td>\n",
       "      <td>3436</td>\n",
       "      <td>11.0</td>\n",
       "      <td>70</td>\n",
       "    </tr>\n",
       "    <tr>\n",
       "      <th>3</th>\n",
       "      <td>16.0</td>\n",
       "      <td>8</td>\n",
       "      <td>304.0</td>\n",
       "      <td>150.0</td>\n",
       "      <td>3433</td>\n",
       "      <td>12.0</td>\n",
       "      <td>70</td>\n",
       "    </tr>\n",
       "    <tr>\n",
       "      <th>4</th>\n",
       "      <td>17.0</td>\n",
       "      <td>8</td>\n",
       "      <td>302.0</td>\n",
       "      <td>140.0</td>\n",
       "      <td>3449</td>\n",
       "      <td>10.5</td>\n",
       "      <td>70</td>\n",
       "    </tr>\n",
       "    <tr>\n",
       "      <th>...</th>\n",
       "      <td>...</td>\n",
       "      <td>...</td>\n",
       "      <td>...</td>\n",
       "      <td>...</td>\n",
       "      <td>...</td>\n",
       "      <td>...</td>\n",
       "      <td>...</td>\n",
       "    </tr>\n",
       "    <tr>\n",
       "      <th>287</th>\n",
       "      <td>16.5</td>\n",
       "      <td>8</td>\n",
       "      <td>351.0</td>\n",
       "      <td>138.0</td>\n",
       "      <td>3955</td>\n",
       "      <td>13.2</td>\n",
       "      <td>79</td>\n",
       "    </tr>\n",
       "    <tr>\n",
       "      <th>288</th>\n",
       "      <td>18.2</td>\n",
       "      <td>8</td>\n",
       "      <td>318.0</td>\n",
       "      <td>135.0</td>\n",
       "      <td>3830</td>\n",
       "      <td>15.2</td>\n",
       "      <td>79</td>\n",
       "    </tr>\n",
       "    <tr>\n",
       "      <th>289</th>\n",
       "      <td>16.9</td>\n",
       "      <td>8</td>\n",
       "      <td>350.0</td>\n",
       "      <td>155.0</td>\n",
       "      <td>4360</td>\n",
       "      <td>14.9</td>\n",
       "      <td>79</td>\n",
       "    </tr>\n",
       "    <tr>\n",
       "      <th>290</th>\n",
       "      <td>15.5</td>\n",
       "      <td>8</td>\n",
       "      <td>351.0</td>\n",
       "      <td>142.0</td>\n",
       "      <td>4054</td>\n",
       "      <td>14.3</td>\n",
       "      <td>79</td>\n",
       "    </tr>\n",
       "    <tr>\n",
       "      <th>292</th>\n",
       "      <td>18.5</td>\n",
       "      <td>8</td>\n",
       "      <td>360.0</td>\n",
       "      <td>150.0</td>\n",
       "      <td>3940</td>\n",
       "      <td>13.0</td>\n",
       "      <td>79</td>\n",
       "    </tr>\n",
       "  </tbody>\n",
       "</table>\n",
       "<p>95 rows × 7 columns</p>\n",
       "</div>"
      ],
      "text/plain": [
       "      mpg  cylinders  displacement  horsepower  weight  acceleration  \\\n",
       "0    18.0          8         307.0       130.0    3504          12.0   \n",
       "1    15.0          8         350.0       165.0    3693          11.5   \n",
       "2    18.0          8         318.0       150.0    3436          11.0   \n",
       "3    16.0          8         304.0       150.0    3433          12.0   \n",
       "4    17.0          8         302.0       140.0    3449          10.5   \n",
       "..    ...        ...           ...         ...     ...           ...   \n",
       "287  16.5          8         351.0       138.0    3955          13.2   \n",
       "288  18.2          8         318.0       135.0    3830          15.2   \n",
       "289  16.9          8         350.0       155.0    4360          14.9   \n",
       "290  15.5          8         351.0       142.0    4054          14.3   \n",
       "292  18.5          8         360.0       150.0    3940          13.0   \n",
       "\n",
       "     model-year  \n",
       "0            70  \n",
       "1            70  \n",
       "2            70  \n",
       "3            70  \n",
       "4            70  \n",
       "..          ...  \n",
       "287          79  \n",
       "288          79  \n",
       "289          79  \n",
       "290          79  \n",
       "292          79  \n",
       "\n",
       "[95 rows x 7 columns]"
      ]
     },
     "execution_count": 179,
     "metadata": {},
     "output_type": "execute_result"
    }
   ],
   "source": [
    "df.loc[(df['displacement'] > 262) & (df['horsepower'] > 126) & (df['weight'] >=2800)]"
   ]
  },
  {
   "cell_type": "code",
   "execution_count": 181,
   "id": "4fce1013-e56d-4486-b9ad-52385989b30f",
   "metadata": {},
   "outputs": [
    {
     "data": {
      "text/html": [
       "<div>\n",
       "<style scoped>\n",
       "    .dataframe tbody tr th:only-of-type {\n",
       "        vertical-align: middle;\n",
       "    }\n",
       "\n",
       "    .dataframe tbody tr th {\n",
       "        vertical-align: top;\n",
       "    }\n",
       "\n",
       "    .dataframe thead th {\n",
       "        text-align: right;\n",
       "    }\n",
       "</style>\n",
       "<table border=\"1\" class=\"dataframe\">\n",
       "  <thead>\n",
       "    <tr style=\"text-align: right;\">\n",
       "      <th></th>\n",
       "      <th>mpg</th>\n",
       "      <th>cylinders</th>\n",
       "      <th>displacement</th>\n",
       "      <th>horsepower</th>\n",
       "      <th>weight</th>\n",
       "      <th>acceleration</th>\n",
       "      <th>model-year</th>\n",
       "    </tr>\n",
       "  </thead>\n",
       "  <tbody>\n",
       "    <tr>\n",
       "      <th>25</th>\n",
       "      <td>10.0</td>\n",
       "      <td>8</td>\n",
       "      <td>360.0</td>\n",
       "      <td>215.0</td>\n",
       "      <td>4615</td>\n",
       "      <td>14.0</td>\n",
       "      <td>70</td>\n",
       "    </tr>\n",
       "    <tr>\n",
       "      <th>28</th>\n",
       "      <td>9.0</td>\n",
       "      <td>8</td>\n",
       "      <td>304.0</td>\n",
       "      <td>193.0</td>\n",
       "      <td>4732</td>\n",
       "      <td>18.5</td>\n",
       "      <td>70</td>\n",
       "    </tr>\n",
       "    <tr>\n",
       "      <th>42</th>\n",
       "      <td>12.0</td>\n",
       "      <td>8</td>\n",
       "      <td>383.0</td>\n",
       "      <td>180.0</td>\n",
       "      <td>4955</td>\n",
       "      <td>11.5</td>\n",
       "      <td>71</td>\n",
       "    </tr>\n",
       "    <tr>\n",
       "      <th>43</th>\n",
       "      <td>13.0</td>\n",
       "      <td>8</td>\n",
       "      <td>400.0</td>\n",
       "      <td>170.0</td>\n",
       "      <td>4746</td>\n",
       "      <td>12.0</td>\n",
       "      <td>71</td>\n",
       "    </tr>\n",
       "    <tr>\n",
       "      <th>44</th>\n",
       "      <td>13.0</td>\n",
       "      <td>8</td>\n",
       "      <td>400.0</td>\n",
       "      <td>175.0</td>\n",
       "      <td>5140</td>\n",
       "      <td>12.0</td>\n",
       "      <td>71</td>\n",
       "    </tr>\n",
       "    <tr>\n",
       "      <th>67</th>\n",
       "      <td>11.0</td>\n",
       "      <td>8</td>\n",
       "      <td>429.0</td>\n",
       "      <td>208.0</td>\n",
       "      <td>4633</td>\n",
       "      <td>11.0</td>\n",
       "      <td>72</td>\n",
       "    </tr>\n",
       "    <tr>\n",
       "      <th>68</th>\n",
       "      <td>13.0</td>\n",
       "      <td>8</td>\n",
       "      <td>350.0</td>\n",
       "      <td>155.0</td>\n",
       "      <td>4502</td>\n",
       "      <td>13.5</td>\n",
       "      <td>72</td>\n",
       "    </tr>\n",
       "    <tr>\n",
       "      <th>90</th>\n",
       "      <td>12.0</td>\n",
       "      <td>8</td>\n",
       "      <td>429.0</td>\n",
       "      <td>198.0</td>\n",
       "      <td>4952</td>\n",
       "      <td>11.5</td>\n",
       "      <td>73</td>\n",
       "    </tr>\n",
       "    <tr>\n",
       "      <th>94</th>\n",
       "      <td>13.0</td>\n",
       "      <td>8</td>\n",
       "      <td>440.0</td>\n",
       "      <td>215.0</td>\n",
       "      <td>4735</td>\n",
       "      <td>11.0</td>\n",
       "      <td>73</td>\n",
       "    </tr>\n",
       "    <tr>\n",
       "      <th>95</th>\n",
       "      <td>12.0</td>\n",
       "      <td>8</td>\n",
       "      <td>455.0</td>\n",
       "      <td>225.0</td>\n",
       "      <td>4951</td>\n",
       "      <td>11.0</td>\n",
       "      <td>73</td>\n",
       "    </tr>\n",
       "    <tr>\n",
       "      <th>103</th>\n",
       "      <td>11.0</td>\n",
       "      <td>8</td>\n",
       "      <td>400.0</td>\n",
       "      <td>150.0</td>\n",
       "      <td>4997</td>\n",
       "      <td>14.0</td>\n",
       "      <td>73</td>\n",
       "    </tr>\n",
       "    <tr>\n",
       "      <th>104</th>\n",
       "      <td>12.0</td>\n",
       "      <td>8</td>\n",
       "      <td>400.0</td>\n",
       "      <td>167.0</td>\n",
       "      <td>4906</td>\n",
       "      <td>12.5</td>\n",
       "      <td>73</td>\n",
       "    </tr>\n",
       "    <tr>\n",
       "      <th>105</th>\n",
       "      <td>13.0</td>\n",
       "      <td>8</td>\n",
       "      <td>360.0</td>\n",
       "      <td>170.0</td>\n",
       "      <td>4654</td>\n",
       "      <td>13.0</td>\n",
       "      <td>73</td>\n",
       "    </tr>\n",
       "    <tr>\n",
       "      <th>137</th>\n",
       "      <td>13.0</td>\n",
       "      <td>8</td>\n",
       "      <td>350.0</td>\n",
       "      <td>150.0</td>\n",
       "      <td>4699</td>\n",
       "      <td>14.5</td>\n",
       "      <td>74</td>\n",
       "    </tr>\n",
       "    <tr>\n",
       "      <th>156</th>\n",
       "      <td>16.0</td>\n",
       "      <td>8</td>\n",
       "      <td>400.0</td>\n",
       "      <td>170.0</td>\n",
       "      <td>4668</td>\n",
       "      <td>11.5</td>\n",
       "      <td>75</td>\n",
       "    </tr>\n",
       "    <tr>\n",
       "      <th>159</th>\n",
       "      <td>14.0</td>\n",
       "      <td>8</td>\n",
       "      <td>351.0</td>\n",
       "      <td>148.0</td>\n",
       "      <td>4657</td>\n",
       "      <td>13.5</td>\n",
       "      <td>75</td>\n",
       "    </tr>\n",
       "  </tbody>\n",
       "</table>\n",
       "</div>"
      ],
      "text/plain": [
       "      mpg  cylinders  displacement  horsepower  weight  acceleration  \\\n",
       "25   10.0          8         360.0       215.0    4615          14.0   \n",
       "28    9.0          8         304.0       193.0    4732          18.5   \n",
       "42   12.0          8         383.0       180.0    4955          11.5   \n",
       "43   13.0          8         400.0       170.0    4746          12.0   \n",
       "44   13.0          8         400.0       175.0    5140          12.0   \n",
       "67   11.0          8         429.0       208.0    4633          11.0   \n",
       "68   13.0          8         350.0       155.0    4502          13.5   \n",
       "90   12.0          8         429.0       198.0    4952          11.5   \n",
       "94   13.0          8         440.0       215.0    4735          11.0   \n",
       "95   12.0          8         455.0       225.0    4951          11.0   \n",
       "103  11.0          8         400.0       150.0    4997          14.0   \n",
       "104  12.0          8         400.0       167.0    4906          12.5   \n",
       "105  13.0          8         360.0       170.0    4654          13.0   \n",
       "137  13.0          8         350.0       150.0    4699          14.5   \n",
       "156  16.0          8         400.0       170.0    4668          11.5   \n",
       "159  14.0          8         351.0       148.0    4657          13.5   \n",
       "\n",
       "     model-year  \n",
       "25           70  \n",
       "28           70  \n",
       "42           71  \n",
       "43           71  \n",
       "44           71  \n",
       "67           72  \n",
       "68           72  \n",
       "90           73  \n",
       "94           73  \n",
       "95           73  \n",
       "103          73  \n",
       "104          73  \n",
       "105          73  \n",
       "137          74  \n",
       "156          75  \n",
       "159          75  "
      ]
     },
     "execution_count": 181,
     "metadata": {},
     "output_type": "execute_result"
    }
   ],
   "source": [
    "df.loc[(df['horsepower'] > 140) & (df['weight'] >=4500)]"
   ]
  },
  {
   "cell_type": "code",
   "execution_count": 183,
   "id": "2686e0bd-c140-4dc5-b2a7-6ea27e6e5cfe",
   "metadata": {},
   "outputs": [
    {
     "data": {
      "text/html": [
       "<div>\n",
       "<style scoped>\n",
       "    .dataframe tbody tr th:only-of-type {\n",
       "        vertical-align: middle;\n",
       "    }\n",
       "\n",
       "    .dataframe tbody tr th {\n",
       "        vertical-align: top;\n",
       "    }\n",
       "\n",
       "    .dataframe thead th {\n",
       "        text-align: right;\n",
       "    }\n",
       "</style>\n",
       "<table border=\"1\" class=\"dataframe\">\n",
       "  <thead>\n",
       "    <tr style=\"text-align: right;\">\n",
       "      <th></th>\n",
       "      <th>mpg</th>\n",
       "      <th>cylinders</th>\n",
       "      <th>displacement</th>\n",
       "      <th>horsepower</th>\n",
       "      <th>weight</th>\n",
       "      <th>acceleration</th>\n",
       "      <th>model-year</th>\n",
       "    </tr>\n",
       "  </thead>\n",
       "  <tbody>\n",
       "    <tr>\n",
       "      <th>19</th>\n",
       "      <td>26.0</td>\n",
       "      <td>4</td>\n",
       "      <td>97.0</td>\n",
       "      <td>46.0</td>\n",
       "      <td>1835</td>\n",
       "      <td>20.5</td>\n",
       "      <td>70</td>\n",
       "    </tr>\n",
       "    <tr>\n",
       "      <th>32</th>\n",
       "      <td>25.0</td>\n",
       "      <td>4</td>\n",
       "      <td>98.0</td>\n",
       "      <td>NaN</td>\n",
       "      <td>2046</td>\n",
       "      <td>19.0</td>\n",
       "      <td>71</td>\n",
       "    </tr>\n",
       "    <tr>\n",
       "      <th>51</th>\n",
       "      <td>30.0</td>\n",
       "      <td>4</td>\n",
       "      <td>79.0</td>\n",
       "      <td>70.0</td>\n",
       "      <td>2074</td>\n",
       "      <td>19.5</td>\n",
       "      <td>71</td>\n",
       "    </tr>\n",
       "    <tr>\n",
       "      <th>53</th>\n",
       "      <td>31.0</td>\n",
       "      <td>4</td>\n",
       "      <td>71.0</td>\n",
       "      <td>65.0</td>\n",
       "      <td>1773</td>\n",
       "      <td>19.0</td>\n",
       "      <td>71</td>\n",
       "    </tr>\n",
       "    <tr>\n",
       "      <th>54</th>\n",
       "      <td>35.0</td>\n",
       "      <td>4</td>\n",
       "      <td>72.0</td>\n",
       "      <td>69.0</td>\n",
       "      <td>1613</td>\n",
       "      <td>18.0</td>\n",
       "      <td>71</td>\n",
       "    </tr>\n",
       "    <tr>\n",
       "      <th>55</th>\n",
       "      <td>27.0</td>\n",
       "      <td>4</td>\n",
       "      <td>97.0</td>\n",
       "      <td>60.0</td>\n",
       "      <td>1834</td>\n",
       "      <td>19.0</td>\n",
       "      <td>71</td>\n",
       "    </tr>\n",
       "    <tr>\n",
       "      <th>56</th>\n",
       "      <td>26.0</td>\n",
       "      <td>4</td>\n",
       "      <td>91.0</td>\n",
       "      <td>70.0</td>\n",
       "      <td>1955</td>\n",
       "      <td>20.5</td>\n",
       "      <td>71</td>\n",
       "    </tr>\n",
       "    <tr>\n",
       "      <th>79</th>\n",
       "      <td>26.0</td>\n",
       "      <td>4</td>\n",
       "      <td>96.0</td>\n",
       "      <td>69.0</td>\n",
       "      <td>2189</td>\n",
       "      <td>18.0</td>\n",
       "      <td>72</td>\n",
       "    </tr>\n",
       "    <tr>\n",
       "      <th>102</th>\n",
       "      <td>26.0</td>\n",
       "      <td>4</td>\n",
       "      <td>97.0</td>\n",
       "      <td>46.0</td>\n",
       "      <td>1950</td>\n",
       "      <td>21.0</td>\n",
       "      <td>73</td>\n",
       "    </tr>\n",
       "    <tr>\n",
       "      <th>117</th>\n",
       "      <td>29.0</td>\n",
       "      <td>4</td>\n",
       "      <td>68.0</td>\n",
       "      <td>49.0</td>\n",
       "      <td>1867</td>\n",
       "      <td>19.5</td>\n",
       "      <td>73</td>\n",
       "    </tr>\n",
       "    <tr>\n",
       "      <th>129</th>\n",
       "      <td>31.0</td>\n",
       "      <td>4</td>\n",
       "      <td>79.0</td>\n",
       "      <td>67.0</td>\n",
       "      <td>1950</td>\n",
       "      <td>19.0</td>\n",
       "      <td>74</td>\n",
       "    </tr>\n",
       "    <tr>\n",
       "      <th>131</th>\n",
       "      <td>32.0</td>\n",
       "      <td>4</td>\n",
       "      <td>71.0</td>\n",
       "      <td>65.0</td>\n",
       "      <td>1836</td>\n",
       "      <td>21.0</td>\n",
       "      <td>74</td>\n",
       "    </tr>\n",
       "    <tr>\n",
       "      <th>145</th>\n",
       "      <td>32.0</td>\n",
       "      <td>4</td>\n",
       "      <td>83.0</td>\n",
       "      <td>61.0</td>\n",
       "      <td>2003</td>\n",
       "      <td>19.0</td>\n",
       "      <td>74</td>\n",
       "    </tr>\n",
       "    <tr>\n",
       "      <th>181</th>\n",
       "      <td>33.0</td>\n",
       "      <td>4</td>\n",
       "      <td>91.0</td>\n",
       "      <td>53.0</td>\n",
       "      <td>1795</td>\n",
       "      <td>17.5</td>\n",
       "      <td>75</td>\n",
       "    </tr>\n",
       "    <tr>\n",
       "      <th>195</th>\n",
       "      <td>29.0</td>\n",
       "      <td>4</td>\n",
       "      <td>85.0</td>\n",
       "      <td>52.0</td>\n",
       "      <td>2035</td>\n",
       "      <td>22.2</td>\n",
       "      <td>76</td>\n",
       "    </tr>\n",
       "    <tr>\n",
       "      <th>196</th>\n",
       "      <td>24.5</td>\n",
       "      <td>4</td>\n",
       "      <td>98.0</td>\n",
       "      <td>60.0</td>\n",
       "      <td>2164</td>\n",
       "      <td>22.1</td>\n",
       "      <td>76</td>\n",
       "    </tr>\n",
       "    <tr>\n",
       "      <th>198</th>\n",
       "      <td>33.0</td>\n",
       "      <td>4</td>\n",
       "      <td>91.0</td>\n",
       "      <td>53.0</td>\n",
       "      <td>1795</td>\n",
       "      <td>17.4</td>\n",
       "      <td>76</td>\n",
       "    </tr>\n",
       "    <tr>\n",
       "      <th>216</th>\n",
       "      <td>31.5</td>\n",
       "      <td>4</td>\n",
       "      <td>98.0</td>\n",
       "      <td>68.0</td>\n",
       "      <td>2045</td>\n",
       "      <td>18.5</td>\n",
       "      <td>77</td>\n",
       "    </tr>\n",
       "    <tr>\n",
       "      <th>218</th>\n",
       "      <td>36.0</td>\n",
       "      <td>4</td>\n",
       "      <td>79.0</td>\n",
       "      <td>58.0</td>\n",
       "      <td>1825</td>\n",
       "      <td>18.6</td>\n",
       "      <td>77</td>\n",
       "    </tr>\n",
       "    <tr>\n",
       "      <th>244</th>\n",
       "      <td>43.1</td>\n",
       "      <td>4</td>\n",
       "      <td>90.0</td>\n",
       "      <td>48.0</td>\n",
       "      <td>1985</td>\n",
       "      <td>21.5</td>\n",
       "      <td>78</td>\n",
       "    </tr>\n",
       "    <tr>\n",
       "      <th>246</th>\n",
       "      <td>32.8</td>\n",
       "      <td>4</td>\n",
       "      <td>78.0</td>\n",
       "      <td>52.0</td>\n",
       "      <td>1985</td>\n",
       "      <td>19.4</td>\n",
       "      <td>78</td>\n",
       "    </tr>\n",
       "    <tr>\n",
       "      <th>247</th>\n",
       "      <td>39.4</td>\n",
       "      <td>4</td>\n",
       "      <td>85.0</td>\n",
       "      <td>70.0</td>\n",
       "      <td>2070</td>\n",
       "      <td>18.6</td>\n",
       "      <td>78</td>\n",
       "    </tr>\n",
       "    <tr>\n",
       "      <th>303</th>\n",
       "      <td>31.8</td>\n",
       "      <td>4</td>\n",
       "      <td>85.0</td>\n",
       "      <td>65.0</td>\n",
       "      <td>2020</td>\n",
       "      <td>19.2</td>\n",
       "      <td>79</td>\n",
       "    </tr>\n",
       "    <tr>\n",
       "      <th>310</th>\n",
       "      <td>38.1</td>\n",
       "      <td>4</td>\n",
       "      <td>89.0</td>\n",
       "      <td>60.0</td>\n",
       "      <td>1968</td>\n",
       "      <td>18.8</td>\n",
       "      <td>80</td>\n",
       "    </tr>\n",
       "    <tr>\n",
       "      <th>322</th>\n",
       "      <td>46.6</td>\n",
       "      <td>4</td>\n",
       "      <td>86.0</td>\n",
       "      <td>65.0</td>\n",
       "      <td>2110</td>\n",
       "      <td>17.9</td>\n",
       "      <td>80</td>\n",
       "    </tr>\n",
       "    <tr>\n",
       "      <th>324</th>\n",
       "      <td>40.8</td>\n",
       "      <td>4</td>\n",
       "      <td>85.0</td>\n",
       "      <td>65.0</td>\n",
       "      <td>2110</td>\n",
       "      <td>19.2</td>\n",
       "      <td>80</td>\n",
       "    </tr>\n",
       "    <tr>\n",
       "      <th>325</th>\n",
       "      <td>44.3</td>\n",
       "      <td>4</td>\n",
       "      <td>90.0</td>\n",
       "      <td>48.0</td>\n",
       "      <td>2085</td>\n",
       "      <td>21.7</td>\n",
       "      <td>80</td>\n",
       "    </tr>\n",
       "    <tr>\n",
       "      <th>330</th>\n",
       "      <td>40.9</td>\n",
       "      <td>4</td>\n",
       "      <td>85.0</td>\n",
       "      <td>67.0</td>\n",
       "      <td>1835</td>\n",
       "      <td>17.3</td>\n",
       "      <td>80</td>\n",
       "    </tr>\n",
       "    <tr>\n",
       "      <th>331</th>\n",
       "      <td>33.8</td>\n",
       "      <td>4</td>\n",
       "      <td>97.0</td>\n",
       "      <td>67.0</td>\n",
       "      <td>2145</td>\n",
       "      <td>18.0</td>\n",
       "      <td>80</td>\n",
       "    </tr>\n",
       "    <tr>\n",
       "      <th>346</th>\n",
       "      <td>32.3</td>\n",
       "      <td>4</td>\n",
       "      <td>97.0</td>\n",
       "      <td>67.0</td>\n",
       "      <td>2065</td>\n",
       "      <td>17.8</td>\n",
       "      <td>81</td>\n",
       "    </tr>\n",
       "    <tr>\n",
       "      <th>347</th>\n",
       "      <td>37.0</td>\n",
       "      <td>4</td>\n",
       "      <td>85.0</td>\n",
       "      <td>65.0</td>\n",
       "      <td>1975</td>\n",
       "      <td>19.4</td>\n",
       "      <td>81</td>\n",
       "    </tr>\n",
       "    <tr>\n",
       "      <th>348</th>\n",
       "      <td>37.7</td>\n",
       "      <td>4</td>\n",
       "      <td>89.0</td>\n",
       "      <td>62.0</td>\n",
       "      <td>2050</td>\n",
       "      <td>17.3</td>\n",
       "      <td>81</td>\n",
       "    </tr>\n",
       "    <tr>\n",
       "      <th>376</th>\n",
       "      <td>37.0</td>\n",
       "      <td>4</td>\n",
       "      <td>91.0</td>\n",
       "      <td>68.0</td>\n",
       "      <td>2025</td>\n",
       "      <td>18.2</td>\n",
       "      <td>82</td>\n",
       "    </tr>\n",
       "    <tr>\n",
       "      <th>377</th>\n",
       "      <td>31.0</td>\n",
       "      <td>4</td>\n",
       "      <td>91.0</td>\n",
       "      <td>68.0</td>\n",
       "      <td>1970</td>\n",
       "      <td>17.6</td>\n",
       "      <td>82</td>\n",
       "    </tr>\n",
       "    <tr>\n",
       "      <th>379</th>\n",
       "      <td>36.0</td>\n",
       "      <td>4</td>\n",
       "      <td>98.0</td>\n",
       "      <td>70.0</td>\n",
       "      <td>2125</td>\n",
       "      <td>17.3</td>\n",
       "      <td>82</td>\n",
       "    </tr>\n",
       "    <tr>\n",
       "      <th>394</th>\n",
       "      <td>44.0</td>\n",
       "      <td>4</td>\n",
       "      <td>97.0</td>\n",
       "      <td>52.0</td>\n",
       "      <td>2130</td>\n",
       "      <td>24.6</td>\n",
       "      <td>82</td>\n",
       "    </tr>\n",
       "  </tbody>\n",
       "</table>\n",
       "</div>"
      ],
      "text/plain": [
       "      mpg  cylinders  displacement  horsepower  weight  acceleration  \\\n",
       "19   26.0          4          97.0        46.0    1835          20.5   \n",
       "32   25.0          4          98.0         NaN    2046          19.0   \n",
       "51   30.0          4          79.0        70.0    2074          19.5   \n",
       "53   31.0          4          71.0        65.0    1773          19.0   \n",
       "54   35.0          4          72.0        69.0    1613          18.0   \n",
       "55   27.0          4          97.0        60.0    1834          19.0   \n",
       "56   26.0          4          91.0        70.0    1955          20.5   \n",
       "79   26.0          4          96.0        69.0    2189          18.0   \n",
       "102  26.0          4          97.0        46.0    1950          21.0   \n",
       "117  29.0          4          68.0        49.0    1867          19.5   \n",
       "129  31.0          4          79.0        67.0    1950          19.0   \n",
       "131  32.0          4          71.0        65.0    1836          21.0   \n",
       "145  32.0          4          83.0        61.0    2003          19.0   \n",
       "181  33.0          4          91.0        53.0    1795          17.5   \n",
       "195  29.0          4          85.0        52.0    2035          22.2   \n",
       "196  24.5          4          98.0        60.0    2164          22.1   \n",
       "198  33.0          4          91.0        53.0    1795          17.4   \n",
       "216  31.5          4          98.0        68.0    2045          18.5   \n",
       "218  36.0          4          79.0        58.0    1825          18.6   \n",
       "244  43.1          4          90.0        48.0    1985          21.5   \n",
       "246  32.8          4          78.0        52.0    1985          19.4   \n",
       "247  39.4          4          85.0        70.0    2070          18.6   \n",
       "303  31.8          4          85.0        65.0    2020          19.2   \n",
       "310  38.1          4          89.0        60.0    1968          18.8   \n",
       "322  46.6          4          86.0        65.0    2110          17.9   \n",
       "324  40.8          4          85.0        65.0    2110          19.2   \n",
       "325  44.3          4          90.0        48.0    2085          21.7   \n",
       "330  40.9          4          85.0        67.0    1835          17.3   \n",
       "331  33.8          4          97.0        67.0    2145          18.0   \n",
       "346  32.3          4          97.0        67.0    2065          17.8   \n",
       "347  37.0          4          85.0        65.0    1975          19.4   \n",
       "348  37.7          4          89.0        62.0    2050          17.3   \n",
       "376  37.0          4          91.0        68.0    2025          18.2   \n",
       "377  31.0          4          91.0        68.0    1970          17.6   \n",
       "379  36.0          4          98.0        70.0    2125          17.3   \n",
       "394  44.0          4          97.0        52.0    2130          24.6   \n",
       "\n",
       "     model-year  \n",
       "19           70  \n",
       "32           71  \n",
       "51           71  \n",
       "53           71  \n",
       "54           71  \n",
       "55           71  \n",
       "56           71  \n",
       "79           72  \n",
       "102          73  \n",
       "117          73  \n",
       "129          74  \n",
       "131          74  \n",
       "145          74  \n",
       "181          75  \n",
       "195          76  \n",
       "196          76  \n",
       "198          76  \n",
       "216          77  \n",
       "218          77  \n",
       "244          78  \n",
       "246          78  \n",
       "247          78  \n",
       "303          79  \n",
       "310          80  \n",
       "322          80  \n",
       "324          80  \n",
       "325          80  \n",
       "330          80  \n",
       "331          80  \n",
       "346          81  \n",
       "347          81  \n",
       "348          81  \n",
       "376          82  \n",
       "377          82  \n",
       "379          82  \n",
       "394          82  "
      ]
     },
     "execution_count": 183,
     "metadata": {},
     "output_type": "execute_result"
    }
   ],
   "source": [
    "df.loc[(df['acceleration'] > 17) & (df['weight'] < 2223)]"
   ]
  },
  {
   "cell_type": "code",
   "execution_count": 185,
   "id": "d579540a-9884-49a2-9261-e48e6202d5ff",
   "metadata": {},
   "outputs": [
    {
     "data": {
      "text/html": [
       "<div>\n",
       "<style scoped>\n",
       "    .dataframe tbody tr th:only-of-type {\n",
       "        vertical-align: middle;\n",
       "    }\n",
       "\n",
       "    .dataframe tbody tr th {\n",
       "        vertical-align: top;\n",
       "    }\n",
       "\n",
       "    .dataframe thead th {\n",
       "        text-align: right;\n",
       "    }\n",
       "</style>\n",
       "<table border=\"1\" class=\"dataframe\">\n",
       "  <thead>\n",
       "    <tr style=\"text-align: right;\">\n",
       "      <th></th>\n",
       "      <th>mpg</th>\n",
       "      <th>cylinders</th>\n",
       "      <th>displacement</th>\n",
       "      <th>horsepower</th>\n",
       "      <th>weight</th>\n",
       "      <th>acceleration</th>\n",
       "      <th>model-year</th>\n",
       "    </tr>\n",
       "  </thead>\n",
       "  <tbody>\n",
       "    <tr>\n",
       "      <th>111</th>\n",
       "      <td>18.0</td>\n",
       "      <td>3</td>\n",
       "      <td>70.0</td>\n",
       "      <td>90.0</td>\n",
       "      <td>2124</td>\n",
       "      <td>13.5</td>\n",
       "      <td>73</td>\n",
       "    </tr>\n",
       "    <tr>\n",
       "      <th>71</th>\n",
       "      <td>19.0</td>\n",
       "      <td>3</td>\n",
       "      <td>70.0</td>\n",
       "      <td>97.0</td>\n",
       "      <td>2330</td>\n",
       "      <td>13.5</td>\n",
       "      <td>72</td>\n",
       "    </tr>\n",
       "    <tr>\n",
       "      <th>334</th>\n",
       "      <td>23.7</td>\n",
       "      <td>3</td>\n",
       "      <td>70.0</td>\n",
       "      <td>100.0</td>\n",
       "      <td>2420</td>\n",
       "      <td>12.5</td>\n",
       "      <td>80</td>\n",
       "    </tr>\n",
       "    <tr>\n",
       "      <th>243</th>\n",
       "      <td>21.5</td>\n",
       "      <td>3</td>\n",
       "      <td>80.0</td>\n",
       "      <td>110.0</td>\n",
       "      <td>2720</td>\n",
       "      <td>13.5</td>\n",
       "      <td>77</td>\n",
       "    </tr>\n",
       "    <tr>\n",
       "      <th>267</th>\n",
       "      <td>27.5</td>\n",
       "      <td>4</td>\n",
       "      <td>134.0</td>\n",
       "      <td>95.0</td>\n",
       "      <td>2560</td>\n",
       "      <td>14.2</td>\n",
       "      <td>78</td>\n",
       "    </tr>\n",
       "    <tr>\n",
       "      <th>...</th>\n",
       "      <td>...</td>\n",
       "      <td>...</td>\n",
       "      <td>...</td>\n",
       "      <td>...</td>\n",
       "      <td>...</td>\n",
       "      <td>...</td>\n",
       "      <td>...</td>\n",
       "    </tr>\n",
       "    <tr>\n",
       "      <th>86</th>\n",
       "      <td>14.0</td>\n",
       "      <td>8</td>\n",
       "      <td>304.0</td>\n",
       "      <td>150.0</td>\n",
       "      <td>3672</td>\n",
       "      <td>11.5</td>\n",
       "      <td>73</td>\n",
       "    </tr>\n",
       "    <tr>\n",
       "      <th>285</th>\n",
       "      <td>17.0</td>\n",
       "      <td>8</td>\n",
       "      <td>305.0</td>\n",
       "      <td>130.0</td>\n",
       "      <td>3840</td>\n",
       "      <td>15.4</td>\n",
       "      <td>79</td>\n",
       "    </tr>\n",
       "    <tr>\n",
       "      <th>286</th>\n",
       "      <td>17.6</td>\n",
       "      <td>8</td>\n",
       "      <td>302.0</td>\n",
       "      <td>129.0</td>\n",
       "      <td>3725</td>\n",
       "      <td>13.4</td>\n",
       "      <td>79</td>\n",
       "    </tr>\n",
       "    <tr>\n",
       "      <th>92</th>\n",
       "      <td>13.0</td>\n",
       "      <td>8</td>\n",
       "      <td>351.0</td>\n",
       "      <td>158.0</td>\n",
       "      <td>4363</td>\n",
       "      <td>13.0</td>\n",
       "      <td>73</td>\n",
       "    </tr>\n",
       "    <tr>\n",
       "      <th>0</th>\n",
       "      <td>18.0</td>\n",
       "      <td>8</td>\n",
       "      <td>307.0</td>\n",
       "      <td>130.0</td>\n",
       "      <td>3504</td>\n",
       "      <td>12.0</td>\n",
       "      <td>70</td>\n",
       "    </tr>\n",
       "  </tbody>\n",
       "</table>\n",
       "<p>398 rows × 7 columns</p>\n",
       "</div>"
      ],
      "text/plain": [
       "      mpg  cylinders  displacement  horsepower  weight  acceleration  \\\n",
       "111  18.0          3          70.0        90.0    2124          13.5   \n",
       "71   19.0          3          70.0        97.0    2330          13.5   \n",
       "334  23.7          3          70.0       100.0    2420          12.5   \n",
       "243  21.5          3          80.0       110.0    2720          13.5   \n",
       "267  27.5          4         134.0        95.0    2560          14.2   \n",
       "..    ...        ...           ...         ...     ...           ...   \n",
       "86   14.0          8         304.0       150.0    3672          11.5   \n",
       "285  17.0          8         305.0       130.0    3840          15.4   \n",
       "286  17.6          8         302.0       129.0    3725          13.4   \n",
       "92   13.0          8         351.0       158.0    4363          13.0   \n",
       "0    18.0          8         307.0       130.0    3504          12.0   \n",
       "\n",
       "     model-year  \n",
       "111          73  \n",
       "71           72  \n",
       "334          80  \n",
       "243          77  \n",
       "267          78  \n",
       "..          ...  \n",
       "86           73  \n",
       "285          79  \n",
       "286          79  \n",
       "92           73  \n",
       "0            70  \n",
       "\n",
       "[398 rows x 7 columns]"
      ]
     },
     "execution_count": 185,
     "metadata": {},
     "output_type": "execute_result"
    }
   ],
   "source": [
    "import pandas as pd\n",
    "df = pd.read_csv(\"C:/Users/jeeva/Downloads/auto-mpg.csv\")\n",
    "df.sort_values(by = 'cylinders')"
   ]
  },
  {
   "cell_type": "code",
   "execution_count": 187,
   "id": "9cd7c901-0d2f-4368-8bb4-23e02e3940a4",
   "metadata": {},
   "outputs": [
    {
     "data": {
      "text/html": [
       "<div>\n",
       "<style scoped>\n",
       "    .dataframe tbody tr th:only-of-type {\n",
       "        vertical-align: middle;\n",
       "    }\n",
       "\n",
       "    .dataframe tbody tr th {\n",
       "        vertical-align: top;\n",
       "    }\n",
       "\n",
       "    .dataframe thead th {\n",
       "        text-align: right;\n",
       "    }\n",
       "</style>\n",
       "<table border=\"1\" class=\"dataframe\">\n",
       "  <thead>\n",
       "    <tr style=\"text-align: right;\">\n",
       "      <th></th>\n",
       "      <th>mpg</th>\n",
       "      <th>cylinders</th>\n",
       "      <th>displacement</th>\n",
       "      <th>horsepower</th>\n",
       "      <th>weight</th>\n",
       "      <th>acceleration</th>\n",
       "      <th>model-year</th>\n",
       "    </tr>\n",
       "  </thead>\n",
       "  <tbody>\n",
       "    <tr>\n",
       "      <th>11</th>\n",
       "      <td>14.0</td>\n",
       "      <td>8</td>\n",
       "      <td>340.0</td>\n",
       "      <td>160.0</td>\n",
       "      <td>3609</td>\n",
       "      <td>8.0</td>\n",
       "      <td>70</td>\n",
       "    </tr>\n",
       "    <tr>\n",
       "      <th>7</th>\n",
       "      <td>14.0</td>\n",
       "      <td>8</td>\n",
       "      <td>440.0</td>\n",
       "      <td>215.0</td>\n",
       "      <td>4312</td>\n",
       "      <td>8.5</td>\n",
       "      <td>70</td>\n",
       "    </tr>\n",
       "    <tr>\n",
       "      <th>9</th>\n",
       "      <td>15.0</td>\n",
       "      <td>8</td>\n",
       "      <td>390.0</td>\n",
       "      <td>190.0</td>\n",
       "      <td>3850</td>\n",
       "      <td>8.5</td>\n",
       "      <td>70</td>\n",
       "    </tr>\n",
       "    <tr>\n",
       "      <th>6</th>\n",
       "      <td>14.0</td>\n",
       "      <td>8</td>\n",
       "      <td>454.0</td>\n",
       "      <td>220.0</td>\n",
       "      <td>4354</td>\n",
       "      <td>9.0</td>\n",
       "      <td>70</td>\n",
       "    </tr>\n",
       "    <tr>\n",
       "      <th>116</th>\n",
       "      <td>16.0</td>\n",
       "      <td>8</td>\n",
       "      <td>400.0</td>\n",
       "      <td>230.0</td>\n",
       "      <td>4278</td>\n",
       "      <td>9.5</td>\n",
       "      <td>73</td>\n",
       "    </tr>\n",
       "    <tr>\n",
       "      <th>...</th>\n",
       "      <td>...</td>\n",
       "      <td>...</td>\n",
       "      <td>...</td>\n",
       "      <td>...</td>\n",
       "      <td>...</td>\n",
       "      <td>...</td>\n",
       "      <td>...</td>\n",
       "    </tr>\n",
       "    <tr>\n",
       "      <th>195</th>\n",
       "      <td>29.0</td>\n",
       "      <td>4</td>\n",
       "      <td>85.0</td>\n",
       "      <td>52.0</td>\n",
       "      <td>2035</td>\n",
       "      <td>22.2</td>\n",
       "      <td>76</td>\n",
       "    </tr>\n",
       "    <tr>\n",
       "      <th>59</th>\n",
       "      <td>23.0</td>\n",
       "      <td>4</td>\n",
       "      <td>97.0</td>\n",
       "      <td>54.0</td>\n",
       "      <td>2254</td>\n",
       "      <td>23.5</td>\n",
       "      <td>72</td>\n",
       "    </tr>\n",
       "    <tr>\n",
       "      <th>326</th>\n",
       "      <td>43.4</td>\n",
       "      <td>4</td>\n",
       "      <td>90.0</td>\n",
       "      <td>48.0</td>\n",
       "      <td>2335</td>\n",
       "      <td>23.7</td>\n",
       "      <td>80</td>\n",
       "    </tr>\n",
       "    <tr>\n",
       "      <th>394</th>\n",
       "      <td>44.0</td>\n",
       "      <td>4</td>\n",
       "      <td>97.0</td>\n",
       "      <td>52.0</td>\n",
       "      <td>2130</td>\n",
       "      <td>24.6</td>\n",
       "      <td>82</td>\n",
       "    </tr>\n",
       "    <tr>\n",
       "      <th>299</th>\n",
       "      <td>27.2</td>\n",
       "      <td>4</td>\n",
       "      <td>141.0</td>\n",
       "      <td>71.0</td>\n",
       "      <td>3190</td>\n",
       "      <td>24.8</td>\n",
       "      <td>79</td>\n",
       "    </tr>\n",
       "  </tbody>\n",
       "</table>\n",
       "<p>398 rows × 7 columns</p>\n",
       "</div>"
      ],
      "text/plain": [
       "      mpg  cylinders  displacement  horsepower  weight  acceleration  \\\n",
       "11   14.0          8         340.0       160.0    3609           8.0   \n",
       "7    14.0          8         440.0       215.0    4312           8.5   \n",
       "9    15.0          8         390.0       190.0    3850           8.5   \n",
       "6    14.0          8         454.0       220.0    4354           9.0   \n",
       "116  16.0          8         400.0       230.0    4278           9.5   \n",
       "..    ...        ...           ...         ...     ...           ...   \n",
       "195  29.0          4          85.0        52.0    2035          22.2   \n",
       "59   23.0          4          97.0        54.0    2254          23.5   \n",
       "326  43.4          4          90.0        48.0    2335          23.7   \n",
       "394  44.0          4          97.0        52.0    2130          24.6   \n",
       "299  27.2          4         141.0        71.0    3190          24.8   \n",
       "\n",
       "     model-year  \n",
       "11           70  \n",
       "7            70  \n",
       "9            70  \n",
       "6            70  \n",
       "116          73  \n",
       "..          ...  \n",
       "195          76  \n",
       "59           72  \n",
       "326          80  \n",
       "394          82  \n",
       "299          79  \n",
       "\n",
       "[398 rows x 7 columns]"
      ]
     },
     "execution_count": 187,
     "metadata": {},
     "output_type": "execute_result"
    }
   ],
   "source": [
    "df.sort_values(['acceleration', 'horsepower'], ascending = (1,0))"
   ]
  },
  {
   "cell_type": "code",
   "execution_count": 189,
   "id": "d0699e5d-d3aa-4cef-9c03-47db6eb2f622",
   "metadata": {},
   "outputs": [],
   "source": [
    "import numpy as np\n",
    "import pandas as pd\n"
   ]
  },
  {
   "cell_type": "code",
   "execution_count": 191,
   "id": "9965b332-60b5-4bf6-a7f3-6209e1049434",
   "metadata": {},
   "outputs": [
    {
     "data": {
      "text/html": [
       "<div>\n",
       "<style scoped>\n",
       "    .dataframe tbody tr th:only-of-type {\n",
       "        vertical-align: middle;\n",
       "    }\n",
       "\n",
       "    .dataframe tbody tr th {\n",
       "        vertical-align: top;\n",
       "    }\n",
       "\n",
       "    .dataframe thead th {\n",
       "        text-align: right;\n",
       "    }\n",
       "</style>\n",
       "<table border=\"1\" class=\"dataframe\">\n",
       "  <thead>\n",
       "    <tr style=\"text-align: right;\">\n",
       "      <th></th>\n",
       "      <th>SUBDIVISION</th>\n",
       "      <th>YEAR</th>\n",
       "      <th>JAN</th>\n",
       "      <th>FEB</th>\n",
       "      <th>MAR</th>\n",
       "      <th>APR</th>\n",
       "      <th>MAY</th>\n",
       "      <th>JUN</th>\n",
       "      <th>JUL</th>\n",
       "      <th>AUG</th>\n",
       "      <th>SEP</th>\n",
       "      <th>OCT</th>\n",
       "      <th>NOV</th>\n",
       "      <th>DEC</th>\n",
       "      <th>ANNUAL</th>\n",
       "      <th>Jan-Feb</th>\n",
       "      <th>Mar-May</th>\n",
       "      <th>Jun-Sep</th>\n",
       "      <th>Oct-Dec</th>\n",
       "    </tr>\n",
       "  </thead>\n",
       "  <tbody>\n",
       "    <tr>\n",
       "      <th>0</th>\n",
       "      <td>ANDAMAN &amp; NICOBAR ISLANDS</td>\n",
       "      <td>1901</td>\n",
       "      <td>49.2</td>\n",
       "      <td>87.1</td>\n",
       "      <td>29.2</td>\n",
       "      <td>2.3</td>\n",
       "      <td>528.8</td>\n",
       "      <td>517.5</td>\n",
       "      <td>365.1</td>\n",
       "      <td>481.1</td>\n",
       "      <td>332.6</td>\n",
       "      <td>388.5</td>\n",
       "      <td>558.2</td>\n",
       "      <td>33.6</td>\n",
       "      <td>3373.2</td>\n",
       "      <td>136.3</td>\n",
       "      <td>560.3</td>\n",
       "      <td>1696.3</td>\n",
       "      <td>980.3</td>\n",
       "    </tr>\n",
       "    <tr>\n",
       "      <th>1</th>\n",
       "      <td>ANDAMAN &amp; NICOBAR ISLANDS</td>\n",
       "      <td>1902</td>\n",
       "      <td>0.0</td>\n",
       "      <td>159.8</td>\n",
       "      <td>12.2</td>\n",
       "      <td>0.0</td>\n",
       "      <td>446.1</td>\n",
       "      <td>537.1</td>\n",
       "      <td>228.9</td>\n",
       "      <td>753.7</td>\n",
       "      <td>666.2</td>\n",
       "      <td>197.2</td>\n",
       "      <td>359.0</td>\n",
       "      <td>160.5</td>\n",
       "      <td>3520.7</td>\n",
       "      <td>159.8</td>\n",
       "      <td>458.3</td>\n",
       "      <td>2185.9</td>\n",
       "      <td>716.7</td>\n",
       "    </tr>\n",
       "    <tr>\n",
       "      <th>2</th>\n",
       "      <td>ANDAMAN &amp; NICOBAR ISLANDS</td>\n",
       "      <td>1903</td>\n",
       "      <td>12.7</td>\n",
       "      <td>144.0</td>\n",
       "      <td>0.0</td>\n",
       "      <td>1.0</td>\n",
       "      <td>235.1</td>\n",
       "      <td>479.9</td>\n",
       "      <td>728.4</td>\n",
       "      <td>326.7</td>\n",
       "      <td>339.0</td>\n",
       "      <td>181.2</td>\n",
       "      <td>284.4</td>\n",
       "      <td>225.0</td>\n",
       "      <td>2957.4</td>\n",
       "      <td>156.7</td>\n",
       "      <td>236.1</td>\n",
       "      <td>1874.0</td>\n",
       "      <td>690.6</td>\n",
       "    </tr>\n",
       "    <tr>\n",
       "      <th>3</th>\n",
       "      <td>ANDAMAN &amp; NICOBAR ISLANDS</td>\n",
       "      <td>1904</td>\n",
       "      <td>9.4</td>\n",
       "      <td>14.7</td>\n",
       "      <td>0.0</td>\n",
       "      <td>202.4</td>\n",
       "      <td>304.5</td>\n",
       "      <td>495.1</td>\n",
       "      <td>502.0</td>\n",
       "      <td>160.1</td>\n",
       "      <td>820.4</td>\n",
       "      <td>222.2</td>\n",
       "      <td>308.7</td>\n",
       "      <td>40.1</td>\n",
       "      <td>3079.6</td>\n",
       "      <td>24.1</td>\n",
       "      <td>506.9</td>\n",
       "      <td>1977.6</td>\n",
       "      <td>571.0</td>\n",
       "    </tr>\n",
       "    <tr>\n",
       "      <th>4</th>\n",
       "      <td>ANDAMAN &amp; NICOBAR ISLANDS</td>\n",
       "      <td>1905</td>\n",
       "      <td>1.3</td>\n",
       "      <td>0.0</td>\n",
       "      <td>3.3</td>\n",
       "      <td>26.9</td>\n",
       "      <td>279.5</td>\n",
       "      <td>628.7</td>\n",
       "      <td>368.7</td>\n",
       "      <td>330.5</td>\n",
       "      <td>297.0</td>\n",
       "      <td>260.7</td>\n",
       "      <td>25.4</td>\n",
       "      <td>344.7</td>\n",
       "      <td>2566.7</td>\n",
       "      <td>1.3</td>\n",
       "      <td>309.7</td>\n",
       "      <td>1624.9</td>\n",
       "      <td>630.8</td>\n",
       "    </tr>\n",
       "    <tr>\n",
       "      <th>...</th>\n",
       "      <td>...</td>\n",
       "      <td>...</td>\n",
       "      <td>...</td>\n",
       "      <td>...</td>\n",
       "      <td>...</td>\n",
       "      <td>...</td>\n",
       "      <td>...</td>\n",
       "      <td>...</td>\n",
       "      <td>...</td>\n",
       "      <td>...</td>\n",
       "      <td>...</td>\n",
       "      <td>...</td>\n",
       "      <td>...</td>\n",
       "      <td>...</td>\n",
       "      <td>...</td>\n",
       "      <td>...</td>\n",
       "      <td>...</td>\n",
       "      <td>...</td>\n",
       "      <td>...</td>\n",
       "    </tr>\n",
       "    <tr>\n",
       "      <th>4111</th>\n",
       "      <td>LAKSHADWEEP</td>\n",
       "      <td>2011</td>\n",
       "      <td>5.1</td>\n",
       "      <td>2.8</td>\n",
       "      <td>3.1</td>\n",
       "      <td>85.9</td>\n",
       "      <td>107.2</td>\n",
       "      <td>153.6</td>\n",
       "      <td>350.2</td>\n",
       "      <td>254.0</td>\n",
       "      <td>255.2</td>\n",
       "      <td>117.4</td>\n",
       "      <td>184.3</td>\n",
       "      <td>14.9</td>\n",
       "      <td>1533.7</td>\n",
       "      <td>7.9</td>\n",
       "      <td>196.2</td>\n",
       "      <td>1013.0</td>\n",
       "      <td>316.6</td>\n",
       "    </tr>\n",
       "    <tr>\n",
       "      <th>4112</th>\n",
       "      <td>LAKSHADWEEP</td>\n",
       "      <td>2012</td>\n",
       "      <td>19.2</td>\n",
       "      <td>0.1</td>\n",
       "      <td>1.6</td>\n",
       "      <td>76.8</td>\n",
       "      <td>21.2</td>\n",
       "      <td>327.0</td>\n",
       "      <td>231.5</td>\n",
       "      <td>381.2</td>\n",
       "      <td>179.8</td>\n",
       "      <td>145.9</td>\n",
       "      <td>12.4</td>\n",
       "      <td>8.8</td>\n",
       "      <td>1405.5</td>\n",
       "      <td>19.3</td>\n",
       "      <td>99.6</td>\n",
       "      <td>1119.5</td>\n",
       "      <td>167.1</td>\n",
       "    </tr>\n",
       "    <tr>\n",
       "      <th>4113</th>\n",
       "      <td>LAKSHADWEEP</td>\n",
       "      <td>2013</td>\n",
       "      <td>26.2</td>\n",
       "      <td>34.4</td>\n",
       "      <td>37.5</td>\n",
       "      <td>5.3</td>\n",
       "      <td>88.3</td>\n",
       "      <td>426.2</td>\n",
       "      <td>296.4</td>\n",
       "      <td>154.4</td>\n",
       "      <td>180.0</td>\n",
       "      <td>72.8</td>\n",
       "      <td>78.1</td>\n",
       "      <td>26.7</td>\n",
       "      <td>1426.3</td>\n",
       "      <td>60.6</td>\n",
       "      <td>131.1</td>\n",
       "      <td>1057.0</td>\n",
       "      <td>177.6</td>\n",
       "    </tr>\n",
       "    <tr>\n",
       "      <th>4114</th>\n",
       "      <td>LAKSHADWEEP</td>\n",
       "      <td>2014</td>\n",
       "      <td>53.2</td>\n",
       "      <td>16.1</td>\n",
       "      <td>4.4</td>\n",
       "      <td>14.9</td>\n",
       "      <td>57.4</td>\n",
       "      <td>244.1</td>\n",
       "      <td>116.1</td>\n",
       "      <td>466.1</td>\n",
       "      <td>132.2</td>\n",
       "      <td>169.2</td>\n",
       "      <td>59.0</td>\n",
       "      <td>62.3</td>\n",
       "      <td>1395.0</td>\n",
       "      <td>69.3</td>\n",
       "      <td>76.7</td>\n",
       "      <td>958.5</td>\n",
       "      <td>290.5</td>\n",
       "    </tr>\n",
       "    <tr>\n",
       "      <th>4115</th>\n",
       "      <td>LAKSHADWEEP</td>\n",
       "      <td>2015</td>\n",
       "      <td>2.2</td>\n",
       "      <td>0.5</td>\n",
       "      <td>3.7</td>\n",
       "      <td>87.1</td>\n",
       "      <td>133.1</td>\n",
       "      <td>296.6</td>\n",
       "      <td>257.5</td>\n",
       "      <td>146.4</td>\n",
       "      <td>160.4</td>\n",
       "      <td>165.4</td>\n",
       "      <td>231.0</td>\n",
       "      <td>159.0</td>\n",
       "      <td>1642.9</td>\n",
       "      <td>2.7</td>\n",
       "      <td>223.9</td>\n",
       "      <td>860.9</td>\n",
       "      <td>555.4</td>\n",
       "    </tr>\n",
       "  </tbody>\n",
       "</table>\n",
       "<p>4116 rows × 19 columns</p>\n",
       "</div>"
      ],
      "text/plain": [
       "                    SUBDIVISION  YEAR   JAN    FEB   MAR    APR    MAY    JUN  \\\n",
       "0     ANDAMAN & NICOBAR ISLANDS  1901  49.2   87.1  29.2    2.3  528.8  517.5   \n",
       "1     ANDAMAN & NICOBAR ISLANDS  1902   0.0  159.8  12.2    0.0  446.1  537.1   \n",
       "2     ANDAMAN & NICOBAR ISLANDS  1903  12.7  144.0   0.0    1.0  235.1  479.9   \n",
       "3     ANDAMAN & NICOBAR ISLANDS  1904   9.4   14.7   0.0  202.4  304.5  495.1   \n",
       "4     ANDAMAN & NICOBAR ISLANDS  1905   1.3    0.0   3.3   26.9  279.5  628.7   \n",
       "...                         ...   ...   ...    ...   ...    ...    ...    ...   \n",
       "4111                LAKSHADWEEP  2011   5.1    2.8   3.1   85.9  107.2  153.6   \n",
       "4112                LAKSHADWEEP  2012  19.2    0.1   1.6   76.8   21.2  327.0   \n",
       "4113                LAKSHADWEEP  2013  26.2   34.4  37.5    5.3   88.3  426.2   \n",
       "4114                LAKSHADWEEP  2014  53.2   16.1   4.4   14.9   57.4  244.1   \n",
       "4115                LAKSHADWEEP  2015   2.2    0.5   3.7   87.1  133.1  296.6   \n",
       "\n",
       "        JUL    AUG    SEP    OCT    NOV    DEC  ANNUAL  Jan-Feb  Mar-May  \\\n",
       "0     365.1  481.1  332.6  388.5  558.2   33.6  3373.2    136.3    560.3   \n",
       "1     228.9  753.7  666.2  197.2  359.0  160.5  3520.7    159.8    458.3   \n",
       "2     728.4  326.7  339.0  181.2  284.4  225.0  2957.4    156.7    236.1   \n",
       "3     502.0  160.1  820.4  222.2  308.7   40.1  3079.6     24.1    506.9   \n",
       "4     368.7  330.5  297.0  260.7   25.4  344.7  2566.7      1.3    309.7   \n",
       "...     ...    ...    ...    ...    ...    ...     ...      ...      ...   \n",
       "4111  350.2  254.0  255.2  117.4  184.3   14.9  1533.7      7.9    196.2   \n",
       "4112  231.5  381.2  179.8  145.9   12.4    8.8  1405.5     19.3     99.6   \n",
       "4113  296.4  154.4  180.0   72.8   78.1   26.7  1426.3     60.6    131.1   \n",
       "4114  116.1  466.1  132.2  169.2   59.0   62.3  1395.0     69.3     76.7   \n",
       "4115  257.5  146.4  160.4  165.4  231.0  159.0  1642.9      2.7    223.9   \n",
       "\n",
       "      Jun-Sep  Oct-Dec  \n",
       "0      1696.3    980.3  \n",
       "1      2185.9    716.7  \n",
       "2      1874.0    690.6  \n",
       "3      1977.6    571.0  \n",
       "4      1624.9    630.8  \n",
       "...       ...      ...  \n",
       "4111   1013.0    316.6  \n",
       "4112   1119.5    167.1  \n",
       "4113   1057.0    177.6  \n",
       "4114    958.5    290.5  \n",
       "4115    860.9    555.4  \n",
       "\n",
       "[4116 rows x 19 columns]"
      ]
     },
     "execution_count": 191,
     "metadata": {},
     "output_type": "execute_result"
    }
   ],
   "source": [
    "import pandas as pd\n",
    "import numpy as np\n",
    "df = pd.read_csv(\"C:/Users/jeeva/Downloads/Rainfall.csv\")\n",
    "df"
   ]
  },
  {
   "cell_type": "code",
   "execution_count": 193,
   "id": "a897f648-fcf8-4eb4-9039-1e6d00e45395",
   "metadata": {},
   "outputs": [
    {
     "name": "stdout",
     "output_type": "stream",
     "text": [
      "<class 'pandas.core.frame.DataFrame'>\n",
      "RangeIndex: 4116 entries, 0 to 4115\n",
      "Data columns (total 19 columns):\n",
      " #   Column       Non-Null Count  Dtype  \n",
      "---  ------       --------------  -----  \n",
      " 0   SUBDIVISION  4116 non-null   object \n",
      " 1   YEAR         4116 non-null   int64  \n",
      " 2   JAN          4112 non-null   float64\n",
      " 3   FEB          4113 non-null   float64\n",
      " 4   MAR          4110 non-null   float64\n",
      " 5   APR          4112 non-null   float64\n",
      " 6   MAY          4113 non-null   float64\n",
      " 7   JUN          4111 non-null   float64\n",
      " 8   JUL          4109 non-null   float64\n",
      " 9   AUG          4112 non-null   float64\n",
      " 10  SEP          4110 non-null   float64\n",
      " 11  OCT          4109 non-null   float64\n",
      " 12  NOV          4105 non-null   float64\n",
      " 13  DEC          4106 non-null   float64\n",
      " 14  ANNUAL       4090 non-null   float64\n",
      " 15  Jan-Feb      4110 non-null   float64\n",
      " 16  Mar-May      4107 non-null   float64\n",
      " 17  Jun-Sep      4106 non-null   float64\n",
      " 18  Oct-Dec      4103 non-null   float64\n",
      "dtypes: float64(17), int64(1), object(1)\n",
      "memory usage: 611.1+ KB\n"
     ]
    }
   ],
   "source": [
    "\n",
    "df.info()"
   ]
  },
  {
   "cell_type": "code",
   "execution_count": 195,
   "id": "fdd064d5-60d2-4119-b548-61abc1080de9",
   "metadata": {},
   "outputs": [
    {
     "name": "stdout",
     "output_type": "stream",
     "text": [
      "District that gets the highest annual rainfall: 1948\n"
     ]
    }
   ],
   "source": [
    "sorted_df = df.sort_values(by = 'ANNUAL', ascending=False)\n",
    "highest = sorted_df.iloc[0,1]\n",
    "print(\"District that gets the highest annual rainfall:\",highest)"
   ]
  },
  {
   "cell_type": "code",
   "execution_count": 197,
   "id": "a0384164-60fe-467c-9384-dea06ffdaad1",
   "metadata": {},
   "outputs": [
    {
     "data": {
      "text/html": [
       "<div>\n",
       "<style scoped>\n",
       "    .dataframe tbody tr th:only-of-type {\n",
       "        vertical-align: middle;\n",
       "    }\n",
       "\n",
       "    .dataframe tbody tr th {\n",
       "        vertical-align: top;\n",
       "    }\n",
       "\n",
       "    .dataframe thead th {\n",
       "        text-align: right;\n",
       "    }\n",
       "</style>\n",
       "<table border=\"1\" class=\"dataframe\">\n",
       "  <thead>\n",
       "    <tr style=\"text-align: right;\">\n",
       "      <th></th>\n",
       "      <th>SUBDIVISION</th>\n",
       "      <th>YEAR</th>\n",
       "      <th>JAN</th>\n",
       "      <th>FEB</th>\n",
       "      <th>MAR</th>\n",
       "      <th>APR</th>\n",
       "      <th>MAY</th>\n",
       "      <th>JUN</th>\n",
       "      <th>JUL</th>\n",
       "      <th>AUG</th>\n",
       "      <th>SEP</th>\n",
       "      <th>OCT</th>\n",
       "      <th>NOV</th>\n",
       "      <th>DEC</th>\n",
       "      <th>ANNUAL</th>\n",
       "      <th>Jan-Feb</th>\n",
       "      <th>Mar-May</th>\n",
       "      <th>Jun-Sep</th>\n",
       "      <th>Oct-Dec</th>\n",
       "    </tr>\n",
       "  </thead>\n",
       "  <tbody>\n",
       "    <tr>\n",
       "      <th>142</th>\n",
       "      <td>ARUNACHAL PRADESH</td>\n",
       "      <td>1948</td>\n",
       "      <td>35.6</td>\n",
       "      <td>119.5</td>\n",
       "      <td>136.1</td>\n",
       "      <td>441.1</td>\n",
       "      <td>1168.6</td>\n",
       "      <td>889.5</td>\n",
       "      <td>2362.8</td>\n",
       "      <td>603.3</td>\n",
       "      <td>350.4</td>\n",
       "      <td>150.1</td>\n",
       "      <td>52.7</td>\n",
       "      <td>21.4</td>\n",
       "      <td>6331.1</td>\n",
       "      <td>155.1</td>\n",
       "      <td>1745.8</td>\n",
       "      <td>4206.0</td>\n",
       "      <td>224.2</td>\n",
       "    </tr>\n",
       "    <tr>\n",
       "      <th>132</th>\n",
       "      <td>ARUNACHAL PRADESH</td>\n",
       "      <td>1938</td>\n",
       "      <td>144.8</td>\n",
       "      <td>121.6</td>\n",
       "      <td>340.5</td>\n",
       "      <td>395.3</td>\n",
       "      <td>306.5</td>\n",
       "      <td>1511.3</td>\n",
       "      <td>1355.1</td>\n",
       "      <td>790.8</td>\n",
       "      <td>877.3</td>\n",
       "      <td>220.6</td>\n",
       "      <td>59.7</td>\n",
       "      <td>5.6</td>\n",
       "      <td>6129.0</td>\n",
       "      <td>266.4</td>\n",
       "      <td>1042.3</td>\n",
       "      <td>4534.5</td>\n",
       "      <td>285.8</td>\n",
       "    </tr>\n",
       "    <tr>\n",
       "      <th>115</th>\n",
       "      <td>ARUNACHAL PRADESH</td>\n",
       "      <td>1921</td>\n",
       "      <td>78.9</td>\n",
       "      <td>54.3</td>\n",
       "      <td>180.3</td>\n",
       "      <td>358.0</td>\n",
       "      <td>598.0</td>\n",
       "      <td>1233.2</td>\n",
       "      <td>1433.0</td>\n",
       "      <td>885.9</td>\n",
       "      <td>603.4</td>\n",
       "      <td>246.3</td>\n",
       "      <td>4.6</td>\n",
       "      <td>15.5</td>\n",
       "      <td>5691.4</td>\n",
       "      <td>133.2</td>\n",
       "      <td>1136.3</td>\n",
       "      <td>4155.5</td>\n",
       "      <td>266.4</td>\n",
       "    </tr>\n",
       "    <tr>\n",
       "      <th>3602</th>\n",
       "      <td>COASTAL KARNATAKA</td>\n",
       "      <td>1961</td>\n",
       "      <td>0.0</td>\n",
       "      <td>0.0</td>\n",
       "      <td>0.9</td>\n",
       "      <td>47.7</td>\n",
       "      <td>635.0</td>\n",
       "      <td>1013.0</td>\n",
       "      <td>1884.9</td>\n",
       "      <td>936.3</td>\n",
       "      <td>702.8</td>\n",
       "      <td>309.6</td>\n",
       "      <td>21.0</td>\n",
       "      <td>2.7</td>\n",
       "      <td>5553.9</td>\n",
       "      <td>0.0</td>\n",
       "      <td>683.6</td>\n",
       "      <td>4536.9</td>\n",
       "      <td>333.4</td>\n",
       "    </tr>\n",
       "    <tr>\n",
       "      <th>112</th>\n",
       "      <td>ARUNACHAL PRADESH</td>\n",
       "      <td>1918</td>\n",
       "      <td>10.4</td>\n",
       "      <td>11.0</td>\n",
       "      <td>191.2</td>\n",
       "      <td>144.6</td>\n",
       "      <td>861.1</td>\n",
       "      <td>1609.9</td>\n",
       "      <td>1303.0</td>\n",
       "      <td>692.6</td>\n",
       "      <td>515.8</td>\n",
       "      <td>125.2</td>\n",
       "      <td>7.8</td>\n",
       "      <td>13.7</td>\n",
       "      <td>5486.3</td>\n",
       "      <td>21.4</td>\n",
       "      <td>1196.9</td>\n",
       "      <td>4121.3</td>\n",
       "      <td>146.7</td>\n",
       "    </tr>\n",
       "  </tbody>\n",
       "</table>\n",
       "</div>"
      ],
      "text/plain": [
       "            SUBDIVISION  YEAR    JAN    FEB    MAR    APR     MAY     JUN  \\\n",
       "142   ARUNACHAL PRADESH  1948   35.6  119.5  136.1  441.1  1168.6   889.5   \n",
       "132   ARUNACHAL PRADESH  1938  144.8  121.6  340.5  395.3   306.5  1511.3   \n",
       "115   ARUNACHAL PRADESH  1921   78.9   54.3  180.3  358.0   598.0  1233.2   \n",
       "3602  COASTAL KARNATAKA  1961    0.0    0.0    0.9   47.7   635.0  1013.0   \n",
       "112   ARUNACHAL PRADESH  1918   10.4   11.0  191.2  144.6   861.1  1609.9   \n",
       "\n",
       "         JUL    AUG    SEP    OCT   NOV   DEC  ANNUAL  Jan-Feb  Mar-May  \\\n",
       "142   2362.8  603.3  350.4  150.1  52.7  21.4  6331.1    155.1   1745.8   \n",
       "132   1355.1  790.8  877.3  220.6  59.7   5.6  6129.0    266.4   1042.3   \n",
       "115   1433.0  885.9  603.4  246.3   4.6  15.5  5691.4    133.2   1136.3   \n",
       "3602  1884.9  936.3  702.8  309.6  21.0   2.7  5553.9      0.0    683.6   \n",
       "112   1303.0  692.6  515.8  125.2   7.8  13.7  5486.3     21.4   1196.9   \n",
       "\n",
       "      Jun-Sep  Oct-Dec  \n",
       "142    4206.0    224.2  \n",
       "132    4534.5    285.8  \n",
       "115    4155.5    266.4  \n",
       "3602   4536.9    333.4  \n",
       "112    4121.3    146.7  "
      ]
     },
     "execution_count": 197,
     "metadata": {},
     "output_type": "execute_result"
    }
   ],
   "source": [
    "sorted_df.head(5)"
   ]
  },
  {
   "cell_type": "code",
   "execution_count": 199,
   "id": "923dadea-b72a-4189-863b-d0107019c462",
   "metadata": {},
   "outputs": [
    {
     "data": {
      "text/html": [
       "<div>\n",
       "<style scoped>\n",
       "    .dataframe tbody tr th:only-of-type {\n",
       "        vertical-align: middle;\n",
       "    }\n",
       "\n",
       "    .dataframe tbody tr th {\n",
       "        vertical-align: top;\n",
       "    }\n",
       "\n",
       "    .dataframe thead th {\n",
       "        text-align: right;\n",
       "    }\n",
       "</style>\n",
       "<table border=\"1\" class=\"dataframe\">\n",
       "  <thead>\n",
       "    <tr style=\"text-align: right;\">\n",
       "      <th></th>\n",
       "      <th>SUBDIVISION</th>\n",
       "      <th>YEAR</th>\n",
       "      <th>APR</th>\n",
       "      <th>MAY</th>\n",
       "      <th>AUG</th>\n",
       "      <th>NOV</th>\n",
       "      <th>ANNUAL</th>\n",
       "      <th>Jan-Feb</th>\n",
       "      <th>Mar-May</th>\n",
       "      <th>Jun-Sep</th>\n",
       "      <th>Oct-Dec</th>\n",
       "    </tr>\n",
       "  </thead>\n",
       "  <tbody>\n",
       "    <tr>\n",
       "      <th>0</th>\n",
       "      <td>ANDAMAN &amp; NICOBAR ISLANDS</td>\n",
       "      <td>1901</td>\n",
       "      <td>2.3</td>\n",
       "      <td>528.8</td>\n",
       "      <td>481.1</td>\n",
       "      <td>558.2</td>\n",
       "      <td>3373.2</td>\n",
       "      <td>136.3</td>\n",
       "      <td>560.3</td>\n",
       "      <td>1696.3</td>\n",
       "      <td>980.3</td>\n",
       "    </tr>\n",
       "    <tr>\n",
       "      <th>1</th>\n",
       "      <td>ANDAMAN &amp; NICOBAR ISLANDS</td>\n",
       "      <td>1902</td>\n",
       "      <td>0.0</td>\n",
       "      <td>446.1</td>\n",
       "      <td>753.7</td>\n",
       "      <td>359.0</td>\n",
       "      <td>3520.7</td>\n",
       "      <td>159.8</td>\n",
       "      <td>458.3</td>\n",
       "      <td>2185.9</td>\n",
       "      <td>716.7</td>\n",
       "    </tr>\n",
       "    <tr>\n",
       "      <th>2</th>\n",
       "      <td>ANDAMAN &amp; NICOBAR ISLANDS</td>\n",
       "      <td>1903</td>\n",
       "      <td>1.0</td>\n",
       "      <td>235.1</td>\n",
       "      <td>326.7</td>\n",
       "      <td>284.4</td>\n",
       "      <td>2957.4</td>\n",
       "      <td>156.7</td>\n",
       "      <td>236.1</td>\n",
       "      <td>1874.0</td>\n",
       "      <td>690.6</td>\n",
       "    </tr>\n",
       "    <tr>\n",
       "      <th>3</th>\n",
       "      <td>ANDAMAN &amp; NICOBAR ISLANDS</td>\n",
       "      <td>1904</td>\n",
       "      <td>202.4</td>\n",
       "      <td>304.5</td>\n",
       "      <td>160.1</td>\n",
       "      <td>308.7</td>\n",
       "      <td>3079.6</td>\n",
       "      <td>24.1</td>\n",
       "      <td>506.9</td>\n",
       "      <td>1977.6</td>\n",
       "      <td>571.0</td>\n",
       "    </tr>\n",
       "    <tr>\n",
       "      <th>4</th>\n",
       "      <td>ANDAMAN &amp; NICOBAR ISLANDS</td>\n",
       "      <td>1905</td>\n",
       "      <td>26.9</td>\n",
       "      <td>279.5</td>\n",
       "      <td>330.5</td>\n",
       "      <td>25.4</td>\n",
       "      <td>2566.7</td>\n",
       "      <td>1.3</td>\n",
       "      <td>309.7</td>\n",
       "      <td>1624.9</td>\n",
       "      <td>630.8</td>\n",
       "    </tr>\n",
       "    <tr>\n",
       "      <th>...</th>\n",
       "      <td>...</td>\n",
       "      <td>...</td>\n",
       "      <td>...</td>\n",
       "      <td>...</td>\n",
       "      <td>...</td>\n",
       "      <td>...</td>\n",
       "      <td>...</td>\n",
       "      <td>...</td>\n",
       "      <td>...</td>\n",
       "      <td>...</td>\n",
       "      <td>...</td>\n",
       "    </tr>\n",
       "    <tr>\n",
       "      <th>4111</th>\n",
       "      <td>LAKSHADWEEP</td>\n",
       "      <td>2011</td>\n",
       "      <td>85.9</td>\n",
       "      <td>107.2</td>\n",
       "      <td>254.0</td>\n",
       "      <td>184.3</td>\n",
       "      <td>1533.7</td>\n",
       "      <td>7.9</td>\n",
       "      <td>196.2</td>\n",
       "      <td>1013.0</td>\n",
       "      <td>316.6</td>\n",
       "    </tr>\n",
       "    <tr>\n",
       "      <th>4112</th>\n",
       "      <td>LAKSHADWEEP</td>\n",
       "      <td>2012</td>\n",
       "      <td>76.8</td>\n",
       "      <td>21.2</td>\n",
       "      <td>381.2</td>\n",
       "      <td>12.4</td>\n",
       "      <td>1405.5</td>\n",
       "      <td>19.3</td>\n",
       "      <td>99.6</td>\n",
       "      <td>1119.5</td>\n",
       "      <td>167.1</td>\n",
       "    </tr>\n",
       "    <tr>\n",
       "      <th>4113</th>\n",
       "      <td>LAKSHADWEEP</td>\n",
       "      <td>2013</td>\n",
       "      <td>5.3</td>\n",
       "      <td>88.3</td>\n",
       "      <td>154.4</td>\n",
       "      <td>78.1</td>\n",
       "      <td>1426.3</td>\n",
       "      <td>60.6</td>\n",
       "      <td>131.1</td>\n",
       "      <td>1057.0</td>\n",
       "      <td>177.6</td>\n",
       "    </tr>\n",
       "    <tr>\n",
       "      <th>4114</th>\n",
       "      <td>LAKSHADWEEP</td>\n",
       "      <td>2014</td>\n",
       "      <td>14.9</td>\n",
       "      <td>57.4</td>\n",
       "      <td>466.1</td>\n",
       "      <td>59.0</td>\n",
       "      <td>1395.0</td>\n",
       "      <td>69.3</td>\n",
       "      <td>76.7</td>\n",
       "      <td>958.5</td>\n",
       "      <td>290.5</td>\n",
       "    </tr>\n",
       "    <tr>\n",
       "      <th>4115</th>\n",
       "      <td>LAKSHADWEEP</td>\n",
       "      <td>2015</td>\n",
       "      <td>87.1</td>\n",
       "      <td>133.1</td>\n",
       "      <td>146.4</td>\n",
       "      <td>231.0</td>\n",
       "      <td>1642.9</td>\n",
       "      <td>2.7</td>\n",
       "      <td>223.9</td>\n",
       "      <td>860.9</td>\n",
       "      <td>555.4</td>\n",
       "    </tr>\n",
       "  </tbody>\n",
       "</table>\n",
       "<p>4116 rows × 11 columns</p>\n",
       "</div>"
      ],
      "text/plain": [
       "                    SUBDIVISION  YEAR    APR    MAY    AUG    NOV  ANNUAL  \\\n",
       "0     ANDAMAN & NICOBAR ISLANDS  1901    2.3  528.8  481.1  558.2  3373.2   \n",
       "1     ANDAMAN & NICOBAR ISLANDS  1902    0.0  446.1  753.7  359.0  3520.7   \n",
       "2     ANDAMAN & NICOBAR ISLANDS  1903    1.0  235.1  326.7  284.4  2957.4   \n",
       "3     ANDAMAN & NICOBAR ISLANDS  1904  202.4  304.5  160.1  308.7  3079.6   \n",
       "4     ANDAMAN & NICOBAR ISLANDS  1905   26.9  279.5  330.5   25.4  2566.7   \n",
       "...                         ...   ...    ...    ...    ...    ...     ...   \n",
       "4111                LAKSHADWEEP  2011   85.9  107.2  254.0  184.3  1533.7   \n",
       "4112                LAKSHADWEEP  2012   76.8   21.2  381.2   12.4  1405.5   \n",
       "4113                LAKSHADWEEP  2013    5.3   88.3  154.4   78.1  1426.3   \n",
       "4114                LAKSHADWEEP  2014   14.9   57.4  466.1   59.0  1395.0   \n",
       "4115                LAKSHADWEEP  2015   87.1  133.1  146.4  231.0  1642.9   \n",
       "\n",
       "      Jan-Feb  Mar-May  Jun-Sep  Oct-Dec  \n",
       "0       136.3    560.3   1696.3    980.3  \n",
       "1       159.8    458.3   2185.9    716.7  \n",
       "2       156.7    236.1   1874.0    690.6  \n",
       "3        24.1    506.9   1977.6    571.0  \n",
       "4         1.3    309.7   1624.9    630.8  \n",
       "...       ...      ...      ...      ...  \n",
       "4111      7.9    196.2   1013.0    316.6  \n",
       "4112     19.3     99.6   1119.5    167.1  \n",
       "4113     60.6    131.1   1057.0    177.6  \n",
       "4114     69.3     76.7    958.5    290.5  \n",
       "4115      2.7    223.9    860.9    555.4  \n",
       "\n",
       "[4116 rows x 11 columns]"
      ]
     },
     "execution_count": 199,
     "metadata": {},
     "output_type": "execute_result"
    }
   ],
   "source": [
    "new_df = df.drop(['JAN','FEB', 'MAR','JUN', 'JUL','SEP', 'OCT','DEC'],axis=1)\n",
    "new_df"
   ]
  },
  {
   "cell_type": "code",
   "execution_count": 201,
   "id": "93a666e2-6c50-41e3-ae37-37223199b546",
   "metadata": {},
   "outputs": [
    {
     "name": "stdout",
     "output_type": "stream",
     "text": [
      "                                           APR         AUG         DEC  \\\n",
      "SUBDIVISION                                                              \n",
      "ANDAMAN & NICOBAR ISLANDS            72.223148  400.047222  153.144860   \n",
      "ARUNACHAL PRADESH                   263.836082  495.229897   24.502105   \n",
      "ASSAM & MEGHALAYA                   203.115652  404.593043    8.951304   \n",
      "BIHAR                                16.918261  299.643478    3.694783   \n",
      "CHHATTISGARH                         16.773043  389.873043    5.248696   \n",
      "COASTAL ANDHRA PRADESH               26.740870  175.923478   11.420000   \n",
      "COASTAL KARNATAKA                    30.916522  713.618261   12.613913   \n",
      "EAST MADHYA PRADESH                   7.188696  369.368696    8.404348   \n",
      "EAST RAJASTHAN                        3.144348  218.277391    3.651304   \n",
      "EAST UTTAR PRADESH                    6.430435  275.613913    5.776522   \n",
      "GANGETIC WEST BENGAL                 44.885217  311.382609    5.690435   \n",
      "GUJARAT REGION                        1.116522  259.193043    1.339130   \n",
      "HARYANA DELHI & CHANDIGARH            7.633913  150.840870    7.186087   \n",
      "HIMACHAL PRADESH                     62.428696  273.933043   39.893043   \n",
      "JAMMU & KASHMIR                      93.702609  180.973043   55.425439   \n",
      "JHARKHAND                            19.366957  325.524348    4.939130   \n",
      "KERALA                              110.573913  421.977391   39.950435   \n",
      "KONKAN & GOA                          4.266087  682.756522    4.516522   \n",
      "LAKSHADWEEP                          45.163393  207.993750   60.810909   \n",
      "MADHYA MAHARASHTRA                    9.146957  184.397391    5.848696   \n",
      "MATATHWADA                            7.594783  166.484348    7.302609   \n",
      "NAGA MANI MIZO TRIPURA              170.733043  411.281739   12.399130   \n",
      "NORTH INTERIOR KARNATAKA             24.300870  119.459130    6.327826   \n",
      "ORISSA                               34.160000  355.382609    5.567826   \n",
      "PUNJAB                               12.660000  158.167826   12.694783   \n",
      "RAYALSEEMA                           19.808696  107.511304   34.260000   \n",
      "SAURASHTRA & KUTCH                    1.183478  118.770435    1.108696   \n",
      "SOUTH INTERIOR KARNATAKA             42.280870  174.239130   11.517391   \n",
      "SUB HIMALAYAN WEST BENGAL & SIKKIM  110.681739  520.763478    6.060000   \n",
      "TAMIL NADU                           44.995652   95.887826   81.137391   \n",
      "TELANGANA                            18.185217  215.059130    5.141739   \n",
      "UTTARAKHAND                          35.166087  382.023478   22.035652   \n",
      "VIDARBHA                              9.435652  285.949565    7.927826   \n",
      "WEST MADHYA PRADESH                   2.375652  288.108696    6.296522   \n",
      "WEST RAJASTHAN                        3.571304   94.555652    1.902609   \n",
      "WEST UTTAR PRADESH                    6.253043  251.299130    7.114783   \n",
      "\n",
      "                                           FEB         JAN          JUL  \\\n",
      "SUBDIVISION                                                               \n",
      "ANDAMAN & NICOBAR ISLANDS            27.994545   52.637273   400.042593   \n",
      "ARUNACHAL PRADESH                    91.116667   47.297917   694.544792   \n",
      "ASSAM & MEGHALAYA                    31.441739   16.974783   495.102609   \n",
      "BIHAR                                14.393913   13.386087   324.441739   \n",
      "CHHATTISGARH                         19.259130   14.206957   398.577391   \n",
      "COASTAL ANDHRA PRADESH               12.923478    7.483478   173.824348   \n",
      "COASTAL KARNATAKA                     1.518261    1.937719  1127.028696   \n",
      "EAST MADHYA PRADESH                  18.693913   19.401739   371.378261   \n",
      "EAST RAJASTHAN                        5.417391    6.422609   223.347826   \n",
      "EAST UTTAR PRADESH                   15.873913   16.012174   290.568696   \n",
      "GANGETIC WEST BENGAL                 22.452174   12.595652   326.377391   \n",
      "GUJARAT REGION                        1.191304    1.786087   348.920870   \n",
      "HARYANA DELHI & CHANDIGARH           17.433913   16.889565   150.015652   \n",
      "HIMACHAL PRADESH                     90.894783   84.189565   280.284348   \n",
      "JAMMU & KASHMIR                     115.450435  102.030435   179.837719   \n",
      "JHARKHAND                            24.186087   17.621739   336.975652   \n",
      "KERALA                               15.496522   12.246957   700.953043   \n",
      "KONKAN & GOA                          0.546957    1.262609  1073.030435   \n",
      "LAKSHADWEEP                          15.834513   27.494643   281.928829   \n",
      "MADHYA MAHARASHTRA                    1.467826    3.054783   248.980000   \n",
      "MATATHWADA                            4.443478    5.000870   180.648696   \n",
      "NAGA MANI MIZO TRIPURA               36.652174   14.025217   438.684348   \n",
      "NORTH INTERIOR KARNATAKA              3.172174    3.013043   138.531304   \n",
      "ORISSA                               19.719130   12.329565   351.173043   \n",
      "PUNJAB                               26.786957   25.246087   168.963478   \n",
      "RAYALSEEMA                            5.680000    9.867826    96.081739   \n",
      "SAURASHTRA & KUTCH                    1.615652    1.139130   194.970435   \n",
      "SOUTH INTERIOR KARNATAKA              4.163478    2.928696   231.359130   \n",
      "SUB HIMALAYAN WEST BENGAL & SIKKIM   22.974783   14.083478   646.402609   \n",
      "TAMIL NADU                           13.422609   23.819130    71.314783   \n",
      "TELANGANA                             9.688696    7.702609   247.499130   \n",
      "UTTARAKHAND                          63.452174   53.797391   390.698261   \n",
      "VIDARBHA                             11.982609   10.563478   329.428696   \n",
      "WEST MADHYA PRADESH                   6.307895    9.241739   302.982609   \n",
      "WEST RAJASTHAN                        4.930435    3.327826    95.171304   \n",
      "WEST UTTAR PRADESH                   17.893913   17.666087   246.520000   \n",
      "\n",
      "                                           JUN     Jan-Feb      Jun-Sep  \\\n",
      "SUBDIVISION                                                               \n",
      "ANDAMAN & NICOBAR ISLANDS           471.580556   80.632727  1706.687850   \n",
      "ARUNACHAL PRADESH                   647.373958  138.416667  2271.422105   \n",
      "ASSAM & MEGHALAYA                   510.161739   48.413043  1720.590435   \n",
      "BIHAR                               174.315652   27.776522  1015.786087   \n",
      "CHHATTISGARH                        198.266087   33.462609  1204.500870   \n",
      "COASTAL ANDHRA PRADESH              123.693913   20.404348   655.141739   \n",
      "COASTAL KARNATAKA                   841.326087    3.371053  2981.618261   \n",
      "EAST MADHYA PRADESH                 141.029565   38.094783  1076.018261   \n",
      "EAST RAJASTHAN                       63.399130   11.837391   602.998261   \n",
      "EAST UTTAR PRADESH                  110.712174   31.887826   861.486087   \n",
      "GANGETIC WEST BENGAL                247.196522   35.042609  1130.657391   \n",
      "GUJARAT REGION                      121.284348    2.977391   878.251304   \n",
      "HARYANA DELHI & CHANDIGARH           48.626087   34.331304   437.786957   \n",
      "HIMACHAL PRADESH                     91.220870  175.082609   775.664348   \n",
      "JAMMU & KASHMIR                      64.234783  217.482609   515.428070   \n",
      "JHARKHAND                           194.588696   41.809565  1084.510435   \n",
      "KERALA                              654.302609   27.739130  2022.840870   \n",
      "KONKAN & GOA                        688.569565    1.813043  2794.130435   \n",
      "LAKSHADWEEP                         327.627679   42.500000   983.554545   \n",
      "MADHYA MAHARASHTRA                  147.426087    4.526087   738.025217   \n",
      "MATATHWADA                          136.957391    9.448696   662.567826   \n",
      "NAGA MANI MIZO TRIPURA              445.633913   50.669565  1609.941739   \n",
      "NORTH INTERIOR KARNATAKA            100.993043    6.184348   501.927826   \n",
      "ORISSA                              210.860870   32.047826  1158.817391   \n",
      "PUNJAB                               46.466957   52.030435   460.392174   \n",
      "RAYALSEEMA                           64.742609   15.545217   400.058261   \n",
      "SAURASHTRA & KUTCH                   74.371304    2.752174   463.536522   \n",
      "SOUTH INTERIOR KARNATAKA            141.417391    7.087826   684.338261   \n",
      "SUB HIMALAYAN WEST BENGAL & SIKKIM  537.881739   37.060870  2126.391304   \n",
      "TAMIL NADU                           52.056522   37.239130   330.847826   \n",
      "TELANGANA                           142.126087   17.396522   780.186957   \n",
      "UTTARAKHAND                         162.551304  117.251304  1131.367826   \n",
      "VIDARBHA                            173.578261   22.544348   964.403478   \n",
      "WEST MADHYA PRADESH                 111.781739   15.638596   864.043478   \n",
      "WEST RAJASTHAN                       28.637391    8.255652   258.707826   \n",
      "WEST UTTAR PRADESH                   77.597391   35.554783   721.676522   \n",
      "\n",
      "                                           MAR         MAY     Mar-May  \\\n",
      "SUBDIVISION                                                              \n",
      "ANDAMAN & NICOBAR ISLANDS            31.824074  357.056881  462.249533   \n",
      "ARUNACHAL PRADESH                   153.527368  358.522680  777.686316   \n",
      "ASSAM & MEGHALAYA                    79.026957  341.539130  623.687826   \n",
      "BIHAR                                10.124348   53.081739   80.126957   \n",
      "CHHATTISGARH                         15.266957   21.048696   53.092174   \n",
      "COASTAL ANDHRA PRADESH               13.221739   62.549565  102.515652   \n",
      "COASTAL KARNATAKA                     6.357391  122.787826  160.051304   \n",
      "EAST MADHYA PRADESH                  13.637391    9.273043   30.096522   \n",
      "EAST RAJASTHAN                        4.516522    9.820000   17.487826   \n",
      "EAST UTTAR PRADESH                    8.907826   17.211304   32.553913   \n",
      "GANGETIC WEST BENGAL                 29.090435  107.787826  181.766087   \n",
      "GUJARAT REGION                        1.220870    5.809565    8.161739   \n",
      "HARYANA DELHI & CHANDIGARH           12.935652   14.533913   35.112174   \n",
      "HIMACHAL PRADESH                    101.146087   58.156522  221.726957   \n",
      "JAMMU & KASHMIR                     131.378261   67.476522  292.552174   \n",
      "JHARKHAND                            18.423478   48.317391   86.095652   \n",
      "KERALA                               36.814783  229.881739  377.253913   \n",
      "KONKAN & GOA                          1.374783   33.515652   39.161739   \n",
      "LAKSHADWEEP                          14.350893  163.893750  223.822727   \n",
      "MADHYA MAHARASHTRA                    3.596522   22.943478   35.692174   \n",
      "MATATHWADA                            7.105217   15.646957   30.352174   \n",
      "NAGA MANI MIZO TRIPURA               77.199130  290.839130  538.769565   \n",
      "NORTH INTERIOR KARNATAKA              7.123478   47.035652   78.460870   \n",
      "ORISSA                               21.134783   64.886087  120.184348   \n",
      "PUNJAB                               23.651304   14.136522   50.440000   \n",
      "RAYALSEEMA                            8.076522   50.475652   78.358261   \n",
      "SAURASHTRA & KUTCH                    1.296522    4.662609    7.140870   \n",
      "SOUTH INTERIOR KARNATAKA              9.485217   92.100000  143.861739   \n",
      "SUB HIMALAYAN WEST BENGAL & SIKKIM   43.135652  269.143478  422.968696   \n",
      "TAMIL NADU                           19.475652   69.920870  134.386087   \n",
      "TELANGANA                            12.614783   25.373913   56.173043   \n",
      "UTTARAKHAND                          57.272174   55.338261  147.773913   \n",
      "VIDARBHA                             11.872174   11.551304   32.851304   \n",
      "WEST MADHYA PRADESH                   5.173043    7.657391   15.217391   \n",
      "WEST RAJASTHAN                        3.986087    9.443478   17.006087   \n",
      "WEST UTTAR PRADESH                   11.461739   12.306087   30.026087   \n",
      "\n",
      "                                           NOV         OCT     Oct-Dec  \\\n",
      "SUBDIVISION                                                              \n",
      "ANDAMAN & NICOBAR ISLANDS           233.744444  290.264815  675.416822   \n",
      "ARUNACHAL PRADESH                    35.696842  194.686316  254.513830   \n",
      "ASSAM & MEGHALAYA                    26.938261  152.118261  188.015652   \n",
      "BIHAR                                 7.178261   63.074783   73.953913   \n",
      "CHHATTISGARH                         11.772174   63.660000   80.674783   \n",
      "COASTAL ANDHRA PRADESH               77.903478  185.511304  274.835652   \n",
      "COASTAL KARNATAKA                    63.607826  184.552174  260.775652   \n",
      "EAST MADHYA PRADESH                  12.705217   39.686087   60.800000   \n",
      "EAST RAJASTHAN                        4.873913   14.360870   22.887826   \n",
      "EAST UTTAR PRADESH                    4.590435   42.920870   53.293913   \n",
      "GANGETIC WEST BENGAL                 21.579130  115.746087  143.018261   \n",
      "GUJARAT REGION                        6.928696   20.565217   28.834783   \n",
      "HARYANA DELHI & CHANDIGARH            3.264348   12.823478   23.270435   \n",
      "HIMACHAL PRADESH                     16.695652   31.278261   87.871304   \n",
      "JAMMU & KASHMIR                      24.133333   34.166957  113.959649   \n",
      "JHARKHAND                            11.923478   80.015652   96.880870   \n",
      "KERALA                              163.560000  294.122609  497.636522   \n",
      "KONKAN & GOA                         24.671304  113.386957  142.579130   \n",
      "LAKSHADWEEP                         124.840741  166.727928  355.387037   \n",
      "MADHYA MAHARASHTRA                   25.945217   70.194783  101.986087   \n",
      "MATATHWADA                           22.436522   58.580000   88.319130   \n",
      "NAGA MANI MIZO TRIPURA               46.833913  175.006087  234.240000   \n",
      "NORTH INTERIOR KARNATAKA             29.207826   95.688696  131.223478   \n",
      "ORISSA                               27.961739  113.592174  147.122609   \n",
      "PUNJAB                                4.140000   13.836522   30.669565   \n",
      "RAYALSEEMA                          102.653913  135.327826  272.241739   \n",
      "SAURASHTRA & KUTCH                    6.096522   14.510435   21.718261   \n",
      "SOUTH INTERIOR KARNATAKA             54.431304  139.143478  205.093913   \n",
      "SUB HIMALAYAN WEST BENGAL & SIKKIM   16.088696  143.646087  165.801739   \n",
      "TAMIL NADU                          176.903478  183.196522  441.234783   \n",
      "TELANGANA                            20.250435   74.226957   99.620870   \n",
      "UTTARAKHAND                           8.187826   39.073913   69.306087   \n",
      "VIDARBHA                             15.574783   52.148696   75.654783   \n",
      "WEST MADHYA PRADESH                  12.340870   28.086957   46.724348   \n",
      "WEST RAJASTHAN                        1.666957    5.127826    8.700870   \n",
      "WEST UTTAR PRADESH                    3.966087   28.777391   39.858261   \n",
      "\n",
      "                                           SEP         YEAR  \n",
      "SUBDIVISION                                                  \n",
      "ANDAMAN & NICOBAR ISLANDS           439.482243  1958.918182  \n",
      "ARUNACHAL PRADESH                   432.134021  1965.824742  \n",
      "ASSAM & MEGHALAYA                   310.734783  1958.000000  \n",
      "BIHAR                               217.384348  1958.000000  \n",
      "CHHATTISGARH                        217.780000  1958.000000  \n",
      "COASTAL ANDHRA PRADESH              181.707826  1958.000000  \n",
      "COASTAL KARNATAKA                   299.652174  1958.000000  \n",
      "EAST MADHYA PRADESH                 194.236522  1958.000000  \n",
      "EAST RAJASTHAN                       97.978261  1958.000000  \n",
      "EAST UTTAR PRADESH                  184.591304  1958.000000  \n",
      "GANGETIC WEST BENGAL                245.710435  1958.000000  \n",
      "GUJARAT REGION                      148.841739  1958.000000  \n",
      "HARYANA DELHI & CHANDIGARH           88.306957  1958.000000  \n",
      "HIMACHAL PRADESH                    130.219130  1958.000000  \n",
      "JAMMU & KASHMIR                      89.289565  1958.000000  \n",
      "JHARKHAND                           227.421739  1958.000000  \n",
      "KERALA                              245.619130  1958.000000  \n",
      "KONKAN & GOA                        349.780000  1958.000000  \n",
      "LAKSHADWEEP                         163.170270  1958.350877  \n",
      "MADHYA MAHARASHTRA                  157.221739  1958.000000  \n",
      "MATATHWADA                          178.476522  1958.000000  \n",
      "NAGA MANI MIZO TRIPURA              314.350435  1958.000000  \n",
      "NORTH INTERIOR KARNATAKA            142.940870  1958.000000  \n",
      "ORISSA                              241.403478  1958.000000  \n",
      "PUNJAB                               86.789565  1958.000000  \n",
      "RAYALSEEMA                          131.720000  1958.000000  \n",
      "SAURASHTRA & KUTCH                   75.418261  1958.000000  \n",
      "SOUTH INTERIOR KARNATAKA            137.313913  1958.000000  \n",
      "SUB HIMALAYAN WEST BENGAL & SIKKIM  421.341739  1958.000000  \n",
      "TAMIL NADU                          111.597391  1958.000000  \n",
      "TELANGANA                           175.503478  1958.000000  \n",
      "UTTARAKHAND                         196.096522  1958.000000  \n",
      "VIDARBHA                            175.449565  1958.000000  \n",
      "WEST MADHYA PRADESH                 161.168696  1958.000000  \n",
      "WEST RAJASTHAN                       40.342609  1958.000000  \n",
      "WEST UTTAR PRADESH                  146.254783  1958.000000  \n"
     ]
    }
   ],
   "source": [
    "import pandas as pd\n",
    "\n",
    "df = pd.read_csv(\"C:/Users/jeeva/Downloads/Rainfall.csv\")\n",
    "\n",
    "new_df = df.drop(['ANNUAL'], axis=1)\n",
    "\n",
    "table = pd.pivot_table(new_df, index=['SUBDIVISION'], aggfunc='mean')\n",
    "\n",
    "print(table)\n"
   ]
  },
  {
   "cell_type": "code",
   "execution_count": 203,
   "id": "f123e2fd-5206-4460-8c84-cde69db6774c",
   "metadata": {},
   "outputs": [
    {
     "data": {
      "text/plain": [
       "SUBDIVISION\n",
       "ANDAMAN & NICOBAR ISLANDS             110\n",
       "ARUNACHAL PRADESH                      97\n",
       "ASSAM & MEGHALAYA                     115\n",
       "BIHAR                                 115\n",
       "CHHATTISGARH                          115\n",
       "COASTAL ANDHRA PRADESH                115\n",
       "COASTAL KARNATAKA                     115\n",
       "EAST MADHYA PRADESH                   115\n",
       "EAST RAJASTHAN                        115\n",
       "EAST UTTAR PRADESH                    115\n",
       "GANGETIC WEST BENGAL                  115\n",
       "GUJARAT REGION                        115\n",
       "HARYANA DELHI & CHANDIGARH            115\n",
       "HIMACHAL PRADESH                      115\n",
       "JAMMU & KASHMIR                       115\n",
       "JHARKHAND                             115\n",
       "KERALA                                115\n",
       "KONKAN & GOA                          115\n",
       "LAKSHADWEEP                           114\n",
       "MADHYA MAHARASHTRA                    115\n",
       "MATATHWADA                            115\n",
       "NAGA MANI MIZO TRIPURA                115\n",
       "NORTH INTERIOR KARNATAKA              115\n",
       "ORISSA                                115\n",
       "PUNJAB                                115\n",
       "RAYALSEEMA                            115\n",
       "SAURASHTRA & KUTCH                    115\n",
       "SOUTH INTERIOR KARNATAKA              115\n",
       "SUB HIMALAYAN WEST BENGAL & SIKKIM    115\n",
       "TAMIL NADU                            115\n",
       "TELANGANA                             115\n",
       "UTTARAKHAND                           115\n",
       "VIDARBHA                              115\n",
       "WEST MADHYA PRADESH                   115\n",
       "WEST RAJASTHAN                        115\n",
       "WEST UTTAR PRADESH                    115\n",
       "Name: YEAR, dtype: int64"
      ]
     },
     "execution_count": 203,
     "metadata": {},
     "output_type": "execute_result"
    }
   ],
   "source": [
    "df.groupby(['SUBDIVISION']).count()['YEAR']\n"
   ]
  },
  {
   "cell_type": "code",
   "execution_count": 205,
   "id": "01d76e76-1812-4fa2-adf5-539a8b2667dc",
   "metadata": {},
   "outputs": [
    {
     "name": "stdout",
     "output_type": "stream",
     "text": [
      "                                       max      \n",
      "                                       MAY  YEAR\n",
      "SUBDIVISION                                     \n",
      "ANDAMAN & NICOBAR ISLANDS            973.1  2015\n",
      "ARUNACHAL PRADESH                   1168.6  2015\n",
      "ASSAM & MEGHALAYA                    681.2  2015\n",
      "BIHAR                                118.7  2015\n",
      "CHHATTISGARH                         122.3  2015\n",
      "COASTAL ANDHRA PRADESH               507.7  2015\n",
      "COASTAL KARNATAKA                    699.5  2015\n",
      "EAST MADHYA PRADESH                   74.2  2015\n",
      "EAST RAJASTHAN                        90.9  2015\n",
      "EAST UTTAR PRADESH                    68.7  2015\n",
      "GANGETIC WEST BENGAL                 250.9  2015\n",
      "GUJARAT REGION                        98.3  2015\n",
      "HARYANA DELHI & CHANDIGARH            72.9  2015\n",
      "HIMACHAL PRADESH                     214.2  2015\n",
      "JAMMU & KASHMIR                      234.4  2015\n",
      "JHARKHAND                            150.1  2015\n",
      "KERALA                               738.8  2015\n",
      "KONKAN & GOA                         345.4  2015\n",
      "LAKSHADWEEP                          660.8  2015\n",
      "MADHYA MAHARASHTRA                   104.2  2015\n",
      "MATATHWADA                           142.1  2015\n",
      "NAGA MANI MIZO TRIPURA               743.0  2015\n",
      "NORTH INTERIOR KARNATAKA             127.3  2015\n",
      "ORISSA                               293.0  2015\n",
      "PUNJAB                                98.3  2015\n",
      "RAYALSEEMA                           239.8  2015\n",
      "SAURASHTRA & KUTCH                   131.9  2015\n",
      "SOUTH INTERIOR KARNATAKA             190.5  2015\n",
      "SUB HIMALAYAN WEST BENGAL & SIKKIM   503.1  2015\n",
      "TAMIL NADU                           204.4  2015\n",
      "TELANGANA                            159.8  2015\n",
      "UTTARAKHAND                          270.2  2015\n",
      "VIDARBHA                              83.1  2015\n",
      "WEST MADHYA PRADESH                   62.7  2015\n",
      "WEST RAJASTHAN                        56.8  2015\n",
      "WEST UTTAR PRADESH                    52.0  2015\n"
     ]
    }
   ],
   "source": [
    "pivot = pd.pivot_table(data=df,index='SUBDIVISION',values=['YEAR','MAY'],aggfunc=['max'])\n",
    "print(pivot)"
   ]
  },
  {
   "cell_type": "code",
   "execution_count": 207,
   "id": "74eb4c08-e4e9-4747-8dba-2e8d63b27933",
   "metadata": {},
   "outputs": [],
   "source": [
    "import pandas as pd"
   ]
  },
  {
   "cell_type": "code",
   "execution_count": 209,
   "id": "bcc4d4fd-ae9d-4ac1-8fa4-ca8a7731130a",
   "metadata": {},
   "outputs": [
    {
     "data": {
      "text/html": [
       "<div>\n",
       "<style scoped>\n",
       "    .dataframe tbody tr th:only-of-type {\n",
       "        vertical-align: middle;\n",
       "    }\n",
       "\n",
       "    .dataframe tbody tr th {\n",
       "        vertical-align: top;\n",
       "    }\n",
       "\n",
       "    .dataframe thead th {\n",
       "        text-align: right;\n",
       "    }\n",
       "</style>\n",
       "<table border=\"1\" class=\"dataframe\">\n",
       "  <thead>\n",
       "    <tr style=\"text-align: right;\">\n",
       "      <th></th>\n",
       "      <th>Day</th>\n",
       "      <th>Google</th>\n",
       "      <th>Apple</th>\n",
       "      <th>Samsung</th>\n",
       "    </tr>\n",
       "  </thead>\n",
       "  <tbody>\n",
       "    <tr>\n",
       "      <th>0</th>\n",
       "      <td>MON</td>\n",
       "      <td>1129</td>\n",
       "      <td>191</td>\n",
       "      <td>191</td>\n",
       "    </tr>\n",
       "    <tr>\n",
       "      <th>1</th>\n",
       "      <td>TUE</td>\n",
       "      <td>1132</td>\n",
       "      <td>192</td>\n",
       "      <td>192</td>\n",
       "    </tr>\n",
       "    <tr>\n",
       "      <th>2</th>\n",
       "      <td>WED</td>\n",
       "      <td>1134</td>\n",
       "      <td>190</td>\n",
       "      <td>190</td>\n",
       "    </tr>\n",
       "    <tr>\n",
       "      <th>3</th>\n",
       "      <td>THU</td>\n",
       "      <td>1152</td>\n",
       "      <td>190</td>\n",
       "      <td>190</td>\n",
       "    </tr>\n",
       "    <tr>\n",
       "      <th>4</th>\n",
       "      <td>FRI</td>\n",
       "      <td>1152</td>\n",
       "      <td>188</td>\n",
       "      <td>188</td>\n",
       "    </tr>\n",
       "  </tbody>\n",
       "</table>\n",
       "</div>"
      ],
      "text/plain": [
       "   Day  Google  Apple  Samsung\n",
       "0  MON    1129    191      191\n",
       "1  TUE    1132    192      192\n",
       "2  WED    1134    190      190\n",
       "3  THU    1152    190      190\n",
       "4  FRI    1152    188      188"
      ]
     },
     "execution_count": 209,
     "metadata": {},
     "output_type": "execute_result"
    }
   ],
   "source": [
    "df = pd.DataFrame(data = {\n",
    " 'Day' : ['MON', 'TUE', 'WED', 'THU', 'FRI'],\n",
    " 'Google' : [1129,1132,1134,1152,1152],\n",
    " 'Apple' : [191,192,190,190,188],\n",
    " 'Samsung' : [191,192,190,190,188]\n",
    "})\n",
    "df"
   ]
  },
  {
   "cell_type": "code",
   "execution_count": 211,
   "id": "4d08dcd4-da33-4c23-8d8b-83daadb8668f",
   "metadata": {},
   "outputs": [
    {
     "data": {
      "text/html": [
       "<div>\n",
       "<style scoped>\n",
       "    .dataframe tbody tr th:only-of-type {\n",
       "        vertical-align: middle;\n",
       "    }\n",
       "\n",
       "    .dataframe tbody tr th {\n",
       "        vertical-align: top;\n",
       "    }\n",
       "\n",
       "    .dataframe thead th {\n",
       "        text-align: right;\n",
       "    }\n",
       "</style>\n",
       "<table border=\"1\" class=\"dataframe\">\n",
       "  <thead>\n",
       "    <tr style=\"text-align: right;\">\n",
       "      <th></th>\n",
       "      <th>Day</th>\n",
       "      <th>variable</th>\n",
       "      <th>value</th>\n",
       "    </tr>\n",
       "  </thead>\n",
       "  <tbody>\n",
       "    <tr>\n",
       "      <th>0</th>\n",
       "      <td>MON</td>\n",
       "      <td>Google</td>\n",
       "      <td>1129</td>\n",
       "    </tr>\n",
       "    <tr>\n",
       "      <th>1</th>\n",
       "      <td>TUE</td>\n",
       "      <td>Google</td>\n",
       "      <td>1132</td>\n",
       "    </tr>\n",
       "    <tr>\n",
       "      <th>2</th>\n",
       "      <td>WED</td>\n",
       "      <td>Google</td>\n",
       "      <td>1134</td>\n",
       "    </tr>\n",
       "    <tr>\n",
       "      <th>3</th>\n",
       "      <td>THU</td>\n",
       "      <td>Google</td>\n",
       "      <td>1152</td>\n",
       "    </tr>\n",
       "    <tr>\n",
       "      <th>4</th>\n",
       "      <td>FRI</td>\n",
       "      <td>Google</td>\n",
       "      <td>1152</td>\n",
       "    </tr>\n",
       "    <tr>\n",
       "      <th>5</th>\n",
       "      <td>MON</td>\n",
       "      <td>Apple</td>\n",
       "      <td>191</td>\n",
       "    </tr>\n",
       "    <tr>\n",
       "      <th>6</th>\n",
       "      <td>TUE</td>\n",
       "      <td>Apple</td>\n",
       "      <td>192</td>\n",
       "    </tr>\n",
       "    <tr>\n",
       "      <th>7</th>\n",
       "      <td>WED</td>\n",
       "      <td>Apple</td>\n",
       "      <td>190</td>\n",
       "    </tr>\n",
       "    <tr>\n",
       "      <th>8</th>\n",
       "      <td>THU</td>\n",
       "      <td>Apple</td>\n",
       "      <td>190</td>\n",
       "    </tr>\n",
       "    <tr>\n",
       "      <th>9</th>\n",
       "      <td>FRI</td>\n",
       "      <td>Apple</td>\n",
       "      <td>188</td>\n",
       "    </tr>\n",
       "    <tr>\n",
       "      <th>10</th>\n",
       "      <td>MON</td>\n",
       "      <td>Samsung</td>\n",
       "      <td>191</td>\n",
       "    </tr>\n",
       "    <tr>\n",
       "      <th>11</th>\n",
       "      <td>TUE</td>\n",
       "      <td>Samsung</td>\n",
       "      <td>192</td>\n",
       "    </tr>\n",
       "    <tr>\n",
       "      <th>12</th>\n",
       "      <td>WED</td>\n",
       "      <td>Samsung</td>\n",
       "      <td>190</td>\n",
       "    </tr>\n",
       "    <tr>\n",
       "      <th>13</th>\n",
       "      <td>THU</td>\n",
       "      <td>Samsung</td>\n",
       "      <td>190</td>\n",
       "    </tr>\n",
       "    <tr>\n",
       "      <th>14</th>\n",
       "      <td>FRI</td>\n",
       "      <td>Samsung</td>\n",
       "      <td>188</td>\n",
       "    </tr>\n",
       "  </tbody>\n",
       "</table>\n",
       "</div>"
      ],
      "text/plain": [
       "    Day variable  value\n",
       "0   MON   Google   1129\n",
       "1   TUE   Google   1132\n",
       "2   WED   Google   1134\n",
       "3   THU   Google   1152\n",
       "4   FRI   Google   1152\n",
       "5   MON    Apple    191\n",
       "6   TUE    Apple    192\n",
       "7   WED    Apple    190\n",
       "8   THU    Apple    190\n",
       "9   FRI    Apple    188\n",
       "10  MON  Samsung    191\n",
       "11  TUE  Samsung    192\n",
       "12  WED  Samsung    190\n",
       "13  THU  Samsung    190\n",
       "14  FRI  Samsung    188"
      ]
     },
     "execution_count": 211,
     "metadata": {},
     "output_type": "execute_result"
    }
   ],
   "source": [
    "\n",
    "reshaped_df = df.melt(id_vars=['Day'])\n",
    "reshaped_df"
   ]
  },
  {
   "cell_type": "code",
   "execution_count": 213,
   "id": "3da2e66f-c181-44af-8f5f-31e0e6c282c6",
   "metadata": {},
   "outputs": [
    {
     "data": {
      "text/plain": [
       "Index(['Day', 'variable', 'value'], dtype='object')"
      ]
     },
     "execution_count": 213,
     "metadata": {},
     "output_type": "execute_result"
    }
   ],
   "source": [
    "reshaped_df.columns"
   ]
  },
  {
   "cell_type": "code",
   "execution_count": 215,
   "id": "b9f3b27f-52e2-486d-9d89-939c4993dd13",
   "metadata": {},
   "outputs": [
    {
     "data": {
      "text/html": [
       "<div>\n",
       "<style scoped>\n",
       "    .dataframe tbody tr th:only-of-type {\n",
       "        vertical-align: middle;\n",
       "    }\n",
       "\n",
       "    .dataframe tbody tr th {\n",
       "        vertical-align: top;\n",
       "    }\n",
       "\n",
       "    .dataframe thead tr th {\n",
       "        text-align: left;\n",
       "    }\n",
       "</style>\n",
       "<table border=\"1\" class=\"dataframe\">\n",
       "  <thead>\n",
       "    <tr>\n",
       "      <th></th>\n",
       "      <th>Day</th>\n",
       "      <th>Company</th>\n",
       "      <th>Closing Price</th>\n",
       "    </tr>\n",
       "  </thead>\n",
       "  <tbody>\n",
       "    <tr>\n",
       "      <th>0</th>\n",
       "      <td>MON</td>\n",
       "      <td>Google</td>\n",
       "      <td>1129</td>\n",
       "    </tr>\n",
       "    <tr>\n",
       "      <th>1</th>\n",
       "      <td>TUE</td>\n",
       "      <td>Google</td>\n",
       "      <td>1132</td>\n",
       "    </tr>\n",
       "    <tr>\n",
       "      <th>2</th>\n",
       "      <td>WED</td>\n",
       "      <td>Google</td>\n",
       "      <td>1134</td>\n",
       "    </tr>\n",
       "    <tr>\n",
       "      <th>3</th>\n",
       "      <td>THU</td>\n",
       "      <td>Google</td>\n",
       "      <td>1152</td>\n",
       "    </tr>\n",
       "    <tr>\n",
       "      <th>4</th>\n",
       "      <td>FRI</td>\n",
       "      <td>Google</td>\n",
       "      <td>1152</td>\n",
       "    </tr>\n",
       "    <tr>\n",
       "      <th>5</th>\n",
       "      <td>MON</td>\n",
       "      <td>Apple</td>\n",
       "      <td>191</td>\n",
       "    </tr>\n",
       "    <tr>\n",
       "      <th>6</th>\n",
       "      <td>TUE</td>\n",
       "      <td>Apple</td>\n",
       "      <td>192</td>\n",
       "    </tr>\n",
       "    <tr>\n",
       "      <th>7</th>\n",
       "      <td>WED</td>\n",
       "      <td>Apple</td>\n",
       "      <td>190</td>\n",
       "    </tr>\n",
       "    <tr>\n",
       "      <th>8</th>\n",
       "      <td>THU</td>\n",
       "      <td>Apple</td>\n",
       "      <td>190</td>\n",
       "    </tr>\n",
       "    <tr>\n",
       "      <th>9</th>\n",
       "      <td>FRI</td>\n",
       "      <td>Apple</td>\n",
       "      <td>188</td>\n",
       "    </tr>\n",
       "    <tr>\n",
       "      <th>10</th>\n",
       "      <td>MON</td>\n",
       "      <td>Samsung</td>\n",
       "      <td>191</td>\n",
       "    </tr>\n",
       "    <tr>\n",
       "      <th>11</th>\n",
       "      <td>TUE</td>\n",
       "      <td>Samsung</td>\n",
       "      <td>192</td>\n",
       "    </tr>\n",
       "    <tr>\n",
       "      <th>12</th>\n",
       "      <td>WED</td>\n",
       "      <td>Samsung</td>\n",
       "      <td>190</td>\n",
       "    </tr>\n",
       "    <tr>\n",
       "      <th>13</th>\n",
       "      <td>THU</td>\n",
       "      <td>Samsung</td>\n",
       "      <td>190</td>\n",
       "    </tr>\n",
       "    <tr>\n",
       "      <th>14</th>\n",
       "      <td>FRI</td>\n",
       "      <td>Samsung</td>\n",
       "      <td>188</td>\n",
       "    </tr>\n",
       "  </tbody>\n",
       "</table>\n",
       "</div>"
      ],
      "text/plain": [
       "    Day  Company Closing Price\n",
       "0   MON   Google          1129\n",
       "1   TUE   Google          1132\n",
       "2   WED   Google          1134\n",
       "3   THU   Google          1152\n",
       "4   FRI   Google          1152\n",
       "5   MON    Apple           191\n",
       "6   TUE    Apple           192\n",
       "7   WED    Apple           190\n",
       "8   THU    Apple           190\n",
       "9   FRI    Apple           188\n",
       "10  MON  Samsung           191\n",
       "11  TUE  Samsung           192\n",
       "12  WED  Samsung           190\n",
       "13  THU  Samsung           190\n",
       "14  FRI  Samsung           188"
      ]
     },
     "execution_count": 215,
     "metadata": {},
     "output_type": "execute_result"
    }
   ],
   "source": [
    "\n",
    "reshaped_df.columns = [['Day', 'Company', 'Closing Price']]\n",
    "reshaped_df"
   ]
  },
  {
   "cell_type": "code",
   "execution_count": 217,
   "id": "8a39b0da-4c24-4cba-b8cf-f6fda5d9eadc",
   "metadata": {},
   "outputs": [
    {
     "data": {
      "text/html": [
       "<div>\n",
       "<style scoped>\n",
       "    .dataframe tbody tr th:only-of-type {\n",
       "        vertical-align: middle;\n",
       "    }\n",
       "\n",
       "    .dataframe tbody tr th {\n",
       "        vertical-align: top;\n",
       "    }\n",
       "\n",
       "    .dataframe thead th {\n",
       "        text-align: right;\n",
       "    }\n",
       "</style>\n",
       "<table border=\"1\" class=\"dataframe\">\n",
       "  <thead>\n",
       "    <tr style=\"text-align: right;\">\n",
       "      <th></th>\n",
       "      <th>Day</th>\n",
       "      <th>Company</th>\n",
       "      <th>Closing Price</th>\n",
       "    </tr>\n",
       "  </thead>\n",
       "  <tbody>\n",
       "    <tr>\n",
       "      <th>0</th>\n",
       "      <td>MON</td>\n",
       "      <td>Google</td>\n",
       "      <td>1129</td>\n",
       "    </tr>\n",
       "    <tr>\n",
       "      <th>1</th>\n",
       "      <td>TUE</td>\n",
       "      <td>Google</td>\n",
       "      <td>1132</td>\n",
       "    </tr>\n",
       "    <tr>\n",
       "      <th>2</th>\n",
       "      <td>WED</td>\n",
       "      <td>Google</td>\n",
       "      <td>1134</td>\n",
       "    </tr>\n",
       "    <tr>\n",
       "      <th>3</th>\n",
       "      <td>THU</td>\n",
       "      <td>Google</td>\n",
       "      <td>1152</td>\n",
       "    </tr>\n",
       "    <tr>\n",
       "      <th>4</th>\n",
       "      <td>FRI</td>\n",
       "      <td>Google</td>\n",
       "      <td>1152</td>\n",
       "    </tr>\n",
       "    <tr>\n",
       "      <th>5</th>\n",
       "      <td>MON</td>\n",
       "      <td>Apple</td>\n",
       "      <td>191</td>\n",
       "    </tr>\n",
       "    <tr>\n",
       "      <th>6</th>\n",
       "      <td>TUE</td>\n",
       "      <td>Apple</td>\n",
       "      <td>192</td>\n",
       "    </tr>\n",
       "    <tr>\n",
       "      <th>7</th>\n",
       "      <td>WED</td>\n",
       "      <td>Apple</td>\n",
       "      <td>190</td>\n",
       "    </tr>\n",
       "    <tr>\n",
       "      <th>8</th>\n",
       "      <td>THU</td>\n",
       "      <td>Apple</td>\n",
       "      <td>190</td>\n",
       "    </tr>\n",
       "    <tr>\n",
       "      <th>9</th>\n",
       "      <td>FRI</td>\n",
       "      <td>Apple</td>\n",
       "      <td>188</td>\n",
       "    </tr>\n",
       "    <tr>\n",
       "      <th>10</th>\n",
       "      <td>MON</td>\n",
       "      <td>Samsung</td>\n",
       "      <td>191</td>\n",
       "    </tr>\n",
       "    <tr>\n",
       "      <th>11</th>\n",
       "      <td>TUE</td>\n",
       "      <td>Samsung</td>\n",
       "      <td>192</td>\n",
       "    </tr>\n",
       "    <tr>\n",
       "      <th>12</th>\n",
       "      <td>WED</td>\n",
       "      <td>Samsung</td>\n",
       "      <td>190</td>\n",
       "    </tr>\n",
       "    <tr>\n",
       "      <th>13</th>\n",
       "      <td>THU</td>\n",
       "      <td>Samsung</td>\n",
       "      <td>190</td>\n",
       "    </tr>\n",
       "    <tr>\n",
       "      <th>14</th>\n",
       "      <td>FRI</td>\n",
       "      <td>Samsung</td>\n",
       "      <td>188</td>\n",
       "    </tr>\n",
       "  </tbody>\n",
       "</table>\n",
       "</div>"
      ],
      "text/plain": [
       "    Day  Company  Closing Price\n",
       "0   MON   Google           1129\n",
       "1   TUE   Google           1132\n",
       "2   WED   Google           1134\n",
       "3   THU   Google           1152\n",
       "4   FRI   Google           1152\n",
       "5   MON    Apple            191\n",
       "6   TUE    Apple            192\n",
       "7   WED    Apple            190\n",
       "8   THU    Apple            190\n",
       "9   FRI    Apple            188\n",
       "10  MON  Samsung            191\n",
       "11  TUE  Samsung            192\n",
       "12  WED  Samsung            190\n",
       "13  THU  Samsung            190\n",
       "14  FRI  Samsung            188"
      ]
     },
     "execution_count": 217,
     "metadata": {},
     "output_type": "execute_result"
    }
   ],
   "source": [
    "reshaped_df = df.melt(id_vars=['Day'], var_name='Company', value_name='Closing Price')\n",
    "reshaped_df\n"
   ]
  },
  {
   "cell_type": "code",
   "execution_count": 219,
   "id": "d513a526-e591-4c69-bbf6-44779dbc2481",
   "metadata": {},
   "outputs": [
    {
     "data": {
      "text/html": [
       "<div>\n",
       "<style scoped>\n",
       "    .dataframe tbody tr th:only-of-type {\n",
       "        vertical-align: middle;\n",
       "    }\n",
       "\n",
       "    .dataframe tbody tr th {\n",
       "        vertical-align: top;\n",
       "    }\n",
       "\n",
       "    .dataframe thead tr th {\n",
       "        text-align: left;\n",
       "    }\n",
       "\n",
       "    .dataframe thead tr:last-of-type th {\n",
       "        text-align: right;\n",
       "    }\n",
       "</style>\n",
       "<table border=\"1\" class=\"dataframe\">\n",
       "  <thead>\n",
       "    <tr>\n",
       "      <th></th>\n",
       "      <th colspan=\"3\" halign=\"left\">Closing Price</th>\n",
       "    </tr>\n",
       "    <tr>\n",
       "      <th>Company</th>\n",
       "      <th>Apple</th>\n",
       "      <th>Google</th>\n",
       "      <th>Samsung</th>\n",
       "    </tr>\n",
       "    <tr>\n",
       "      <th>Day</th>\n",
       "      <th></th>\n",
       "      <th></th>\n",
       "      <th></th>\n",
       "    </tr>\n",
       "  </thead>\n",
       "  <tbody>\n",
       "    <tr>\n",
       "      <th>FRI</th>\n",
       "      <td>188</td>\n",
       "      <td>1152</td>\n",
       "      <td>188</td>\n",
       "    </tr>\n",
       "    <tr>\n",
       "      <th>MON</th>\n",
       "      <td>191</td>\n",
       "      <td>1129</td>\n",
       "      <td>191</td>\n",
       "    </tr>\n",
       "    <tr>\n",
       "      <th>THU</th>\n",
       "      <td>190</td>\n",
       "      <td>1152</td>\n",
       "      <td>190</td>\n",
       "    </tr>\n",
       "    <tr>\n",
       "      <th>TUE</th>\n",
       "      <td>192</td>\n",
       "      <td>1132</td>\n",
       "      <td>192</td>\n",
       "    </tr>\n",
       "    <tr>\n",
       "      <th>WED</th>\n",
       "      <td>190</td>\n",
       "      <td>1134</td>\n",
       "      <td>190</td>\n",
       "    </tr>\n",
       "  </tbody>\n",
       "</table>\n",
       "</div>"
      ],
      "text/plain": [
       "        Closing Price               \n",
       "Company         Apple Google Samsung\n",
       "Day                                 \n",
       "FRI               188   1152     188\n",
       "MON               191   1129     191\n",
       "THU               190   1152     190\n",
       "TUE               192   1132     192\n",
       "WED               190   1134     190"
      ]
     },
     "execution_count": 219,
     "metadata": {},
     "output_type": "execute_result"
    }
   ],
   "source": [
    "reshaped_df.pivot(index='Day', columns='Company')"
   ]
  },
  {
   "cell_type": "code",
   "execution_count": 221,
   "id": "ab369bfc-2148-44f9-8c2e-03d1fcc09237",
   "metadata": {},
   "outputs": [
    {
     "data": {
      "text/html": [
       "<div>\n",
       "<style scoped>\n",
       "    .dataframe tbody tr th:only-of-type {\n",
       "        vertical-align: middle;\n",
       "    }\n",
       "\n",
       "    .dataframe tbody tr th {\n",
       "        vertical-align: top;\n",
       "    }\n",
       "\n",
       "    .dataframe thead th {\n",
       "        text-align: right;\n",
       "    }\n",
       "</style>\n",
       "<table border=\"1\" class=\"dataframe\">\n",
       "  <thead>\n",
       "    <tr style=\"text-align: right;\">\n",
       "      <th></th>\n",
       "      <th>Day</th>\n",
       "      <th>Apple</th>\n",
       "      <th>Google</th>\n",
       "      <th>Samsung</th>\n",
       "    </tr>\n",
       "  </thead>\n",
       "  <tbody>\n",
       "    <tr>\n",
       "      <th>0</th>\n",
       "      <td>FRI</td>\n",
       "      <td>188</td>\n",
       "      <td>1152</td>\n",
       "      <td>188</td>\n",
       "    </tr>\n",
       "    <tr>\n",
       "      <th>1</th>\n",
       "      <td>MON</td>\n",
       "      <td>191</td>\n",
       "      <td>1129</td>\n",
       "      <td>191</td>\n",
       "    </tr>\n",
       "    <tr>\n",
       "      <th>2</th>\n",
       "      <td>THU</td>\n",
       "      <td>190</td>\n",
       "      <td>1152</td>\n",
       "      <td>190</td>\n",
       "    </tr>\n",
       "    <tr>\n",
       "      <th>3</th>\n",
       "      <td>TUE</td>\n",
       "      <td>192</td>\n",
       "      <td>1132</td>\n",
       "      <td>192</td>\n",
       "    </tr>\n",
       "    <tr>\n",
       "      <th>4</th>\n",
       "      <td>WED</td>\n",
       "      <td>190</td>\n",
       "      <td>1134</td>\n",
       "      <td>190</td>\n",
       "    </tr>\n",
       "  </tbody>\n",
       "</table>\n",
       "</div>"
      ],
      "text/plain": [
       "   Day  Apple  Google  Samsung\n",
       "0  FRI    188    1152      188\n",
       "1  MON    191    1129      191\n",
       "2  THU    190    1152      190\n",
       "3  TUE    192    1132      192\n",
       "4  WED    190    1134      190"
      ]
     },
     "execution_count": 221,
     "metadata": {},
     "output_type": "execute_result"
    }
   ],
   "source": [
    "original_df = reshaped_df.pivot(index='Day', columns='Company')['Closing Price'].reset_index()\n",
    "original_df.columns.name = None\n",
    "original_df\n"
   ]
  },
  {
   "cell_type": "code",
   "execution_count": 223,
   "id": "739a927c-9043-4615-a518-d7002013a9bf",
   "metadata": {},
   "outputs": [
    {
     "name": "stdout",
     "output_type": "stream",
     "text": [
      "  Duration        Fee\n",
      "0   30days      22000\n",
      "1   50days      25000\n",
      "2   30days      23000\n",
      "3   35days  350000000\n",
      "4   40days      26000\n"
     ]
    }
   ],
   "source": [
    "import pandas as pd\n",
    "import numpy as np\n",
    "technologies= {\n",
    " 'Duration':['30days','50days','30days','35days','40days'],\n",
    " 'Fee' :[22000,25000,23000,350000000,26000]\n",
    " }\n",
    "df = pd.DataFrame(technologies)\n",
    "print(df)"
   ]
  },
  {
   "cell_type": "code",
   "execution_count": 225,
   "id": "e91d587a-825f-4260-a7db-df188a3e1a22",
   "metadata": {},
   "outputs": [
    {
     "name": "stdout",
     "output_type": "stream",
     "text": [
      "  Duration          Fee\n",
      "0   30days      19800.0\n",
      "1   50days      22500.0\n",
      "2   30days      20700.0\n",
      "3   35days  315000000.0\n",
      "4   40days      23400.0\n"
     ]
    }
   ],
   "source": [
    "df['Fee'] = df['Fee'].map(lambda x: x - (x*10/100))\n",
    "print(df)"
   ]
  },
  {
   "cell_type": "code",
   "execution_count": 227,
   "id": "0c542472-bdc4-4b88-aac1-0c146b432d6b",
   "metadata": {},
   "outputs": [
    {
     "name": "stdout",
     "output_type": "stream",
     "text": [
      "  Duration          Fee   Discount\n",
      "0   30days      19800.0      198.0\n",
      "1   50days      22500.0      225.0\n",
      "2   30days      20700.0      207.0\n",
      "3   35days  315000000.0  3150000.0\n",
      "4   40days      23400.0      234.0\n"
     ]
    }
   ],
   "source": [
    "def fun1(x):\n",
    " return x/100\n",
    "df['Discount'] = df['Fee'].map(lambda x:fun1(x))\n",
    "print(df)\n"
   ]
  },
  {
   "cell_type": "code",
   "execution_count": 229,
   "id": "3d2c625f-73c0-415e-aa27-3654ebffaa61",
   "metadata": {},
   "outputs": [
    {
     "data": {
      "text/html": [
       "<div>\n",
       "<style scoped>\n",
       "    .dataframe tbody tr th:only-of-type {\n",
       "        vertical-align: middle;\n",
       "    }\n",
       "\n",
       "    .dataframe tbody tr th {\n",
       "        vertical-align: top;\n",
       "    }\n",
       "\n",
       "    .dataframe thead th {\n",
       "        text-align: right;\n",
       "    }\n",
       "</style>\n",
       "<table border=\"1\" class=\"dataframe\">\n",
       "  <thead>\n",
       "    <tr style=\"text-align: right;\">\n",
       "      <th></th>\n",
       "      <th>Duration</th>\n",
       "      <th>Fee</th>\n",
       "      <th>Discount</th>\n",
       "      <th>Service</th>\n",
       "    </tr>\n",
       "  </thead>\n",
       "  <tbody>\n",
       "    <tr>\n",
       "      <th>0</th>\n",
       "      <td>30days</td>\n",
       "      <td>19800.0</td>\n",
       "      <td>198.0</td>\n",
       "      <td>17820.0</td>\n",
       "    </tr>\n",
       "    <tr>\n",
       "      <th>1</th>\n",
       "      <td>50days</td>\n",
       "      <td>22500.0</td>\n",
       "      <td>225.0</td>\n",
       "      <td>20250.0</td>\n",
       "    </tr>\n",
       "    <tr>\n",
       "      <th>2</th>\n",
       "      <td>30days</td>\n",
       "      <td>20700.0</td>\n",
       "      <td>207.0</td>\n",
       "      <td>18630.0</td>\n",
       "    </tr>\n",
       "    <tr>\n",
       "      <th>3</th>\n",
       "      <td>35days</td>\n",
       "      <td>315000000.0</td>\n",
       "      <td>3150000.0</td>\n",
       "      <td>283500000.0</td>\n",
       "    </tr>\n",
       "    <tr>\n",
       "      <th>4</th>\n",
       "      <td>40days</td>\n",
       "      <td>23400.0</td>\n",
       "      <td>234.0</td>\n",
       "      <td>21060.0</td>\n",
       "    </tr>\n",
       "  </tbody>\n",
       "</table>\n",
       "</div>"
      ],
      "text/plain": [
       "  Duration          Fee   Discount      Service\n",
       "0   30days      19800.0      198.0      17820.0\n",
       "1   50days      22500.0      225.0      20250.0\n",
       "2   30days      20700.0      207.0      18630.0\n",
       "3   35days  315000000.0  3150000.0  283500000.0\n",
       "4   40days      23400.0      234.0      21060.0"
      ]
     },
     "execution_count": 229,
     "metadata": {},
     "output_type": "execute_result"
    }
   ],
   "source": [
    "df['Service'] = df['Fee'].map(lambda x: x - (x*10/100))\n",
    "df"
   ]
  },
  {
   "cell_type": "code",
   "execution_count": 238,
   "id": "ee379a15-d60d-49c4-9e83-9b8fde1b867c",
   "metadata": {},
   "outputs": [
    {
     "name": "stdout",
     "output_type": "stream",
     "text": [
      "  Duration                Fee      Discount      Service\n",
      "0   30days      19800.0 RS RS      198.0 RS      17820.0\n",
      "1   50days      22500.0 RS RS      225.0 RS      20250.0\n",
      "2   30days      20700.0 RS RS      207.0 RS      18630.0\n",
      "3   35days  315000000.0 RS RS  3150000.0 RS  283500000.0\n",
      "4   40days      23400.0 RS RS      234.0 RS      21060.0\n"
     ]
    }
   ],
   "source": [
    "df['Fee'] = df['Fee'].map('{} RS'.format)\n",
    "df['Discount'] = df['Discount'].map('{} RS'.format)\n",
    "print(df)"
   ]
  },
  {
   "cell_type": "code",
   "execution_count": 240,
   "id": "500059bb-dc6f-4196-b59d-51276b952d46",
   "metadata": {},
   "outputs": [
    {
     "name": "stdout",
     "output_type": "stream",
     "text": [
      "  Duration                Fee      Discount         Service\n",
      "0   30days      19800.0 RS RS      198.0 RS      17820.0 RS\n",
      "1   50days      22500.0 RS RS      225.0 RS      20250.0 RS\n",
      "2   30days      20700.0 RS RS      207.0 RS      18630.0 RS\n",
      "3   35days  315000000.0 RS RS  3150000.0 RS  283500000.0 RS\n",
      "4   40days      23400.0 RS RS      234.0 RS      21060.0 RS\n"
     ]
    }
   ],
   "source": [
    "df['Service'] = df['Service'].map('{} RS'.format, na_action='ignore')\n",
    "print(df)"
   ]
  },
  {
   "cell_type": "code",
   "execution_count": 242,
   "id": "aa4c5bde-d238-49a7-b3a9-f84d448ae830",
   "metadata": {},
   "outputs": [],
   "source": [
    "\n",
    "import numpy as np\n",
    "import pandas as pd"
   ]
  },
  {
   "cell_type": "code",
   "execution_count": 248,
   "id": "7d14d74a-b667-48b6-aae0-50cb67125227",
   "metadata": {},
   "outputs": [
    {
     "data": {
      "text/html": [
       "<div>\n",
       "<style scoped>\n",
       "    .dataframe tbody tr th:only-of-type {\n",
       "        vertical-align: middle;\n",
       "    }\n",
       "\n",
       "    .dataframe tbody tr th {\n",
       "        vertical-align: top;\n",
       "    }\n",
       "\n",
       "    .dataframe thead th {\n",
       "        text-align: right;\n",
       "    }\n",
       "</style>\n",
       "<table border=\"1\" class=\"dataframe\">\n",
       "  <thead>\n",
       "    <tr style=\"text-align: right;\">\n",
       "      <th></th>\n",
       "      <th>Chemistry</th>\n",
       "      <th>Physics</th>\n",
       "    </tr>\n",
       "  </thead>\n",
       "  <tbody>\n",
       "    <tr>\n",
       "      <th>Subodh</th>\n",
       "      <td>67</td>\n",
       "      <td>45</td>\n",
       "    </tr>\n",
       "    <tr>\n",
       "      <th>Ram</th>\n",
       "      <td>90</td>\n",
       "      <td>92</td>\n",
       "    </tr>\n",
       "    <tr>\n",
       "      <th>Abdul</th>\n",
       "      <td>66</td>\n",
       "      <td>72</td>\n",
       "    </tr>\n",
       "    <tr>\n",
       "      <th>John</th>\n",
       "      <td>32</td>\n",
       "      <td>92</td>\n",
       "    </tr>\n",
       "    <tr>\n",
       "      <th>Nandini</th>\n",
       "      <td>72</td>\n",
       "      <td>72</td>\n",
       "    </tr>\n",
       "    <tr>\n",
       "      <th>Zoya</th>\n",
       "      <td>45</td>\n",
       "      <td>34</td>\n",
       "    </tr>\n",
       "    <tr>\n",
       "      <th>prathap</th>\n",
       "      <td>60</td>\n",
       "      <td>72</td>\n",
       "    </tr>\n",
       "    <tr>\n",
       "      <th>swaru</th>\n",
       "      <td>98</td>\n",
       "      <td>45</td>\n",
       "    </tr>\n",
       "  </tbody>\n",
       "</table>\n",
       "</div>"
      ],
      "text/plain": [
       "         Chemistry  Physics\n",
       "Subodh          67       45\n",
       "Ram             90       92\n",
       "Abdul           66       72\n",
       "John            32       92\n",
       "Nandini         72       72\n",
       "Zoya            45       34\n",
       "prathap         60       72\n",
       "swaru           98       45"
      ]
     },
     "execution_count": 248,
     "metadata": {},
     "output_type": "execute_result"
    }
   ],
   "source": [
    "marks = {'Chemistry': [67,90,66,32,72,45,60,98],\n",
    " 'Physics': [45,92,72,92,72,34,72,45],\n",
    "          }\n",
    "marks_df = pd.DataFrame(marks, index = ['Subodh', 'Ram', 'Abdul', 'John','Nandini', 'Zoya','prathap','swaru'])\n",
    "marks_df\n"
   ]
  },
  {
   "cell_type": "code",
   "execution_count": 250,
   "id": "73d5b131-f12c-4188-900e-2f0e7b729f67",
   "metadata": {},
   "outputs": [
    {
     "data": {
      "text/plain": [
       "530"
      ]
     },
     "execution_count": 250,
     "metadata": {},
     "output_type": "execute_result"
    }
   ],
   "source": [
    "\n",
    "marks_df.Chemistry.sum()"
   ]
  },
  {
   "cell_type": "code",
   "execution_count": 252,
   "id": "f1d92931-042b-4f8d-8bce-d408d620fb5c",
   "metadata": {},
   "outputs": [
    {
     "data": {
      "text/plain": [
       "530"
      ]
     },
     "execution_count": 252,
     "metadata": {},
     "output_type": "execute_result"
    }
   ],
   "source": [
    "marks_df['Chemistry'].sum()"
   ]
  },
  {
   "cell_type": "code",
   "execution_count": 254,
   "id": "d1b650f8-08b9-4e60-a61d-0183226208a5",
   "metadata": {},
   "outputs": [
    {
     "data": {
      "text/plain": [
       "65.5"
      ]
     },
     "execution_count": 254,
     "metadata": {},
     "output_type": "execute_result"
    }
   ],
   "source": [
    "marks_df['Physics'].mean()"
   ]
  },
  {
   "cell_type": "code",
   "execution_count": 256,
   "id": "16dceca3-ac96-4489-9168-5b54c19362be",
   "metadata": {},
   "outputs": [
    {
     "data": {
      "text/plain": [
       "Chemistry    66.25\n",
       "Physics      65.50\n",
       "dtype: float64"
      ]
     },
     "execution_count": 256,
     "metadata": {},
     "output_type": "execute_result"
    }
   ],
   "source": [
    "marks_df.mean()"
   ]
  },
  {
   "cell_type": "code",
   "execution_count": 258,
   "id": "9b0f419e-f8ee-4b72-82d3-ec69118b54ad",
   "metadata": {},
   "outputs": [
    {
     "data": {
      "text/plain": [
       "Chemistry    530\n",
       "Physics      524\n",
       "dtype: int64"
      ]
     },
     "execution_count": 258,
     "metadata": {},
     "output_type": "execute_result"
    }
   ],
   "source": [
    "marks_df.sum()"
   ]
  },
  {
   "cell_type": "code",
   "execution_count": 260,
   "id": "71903240-0f77-4e72-8d61-354ff9bc5d64",
   "metadata": {},
   "outputs": [
    {
     "data": {
      "text/plain": [
       "Chemistry    8\n",
       "Physics      8\n",
       "dtype: int64"
      ]
     },
     "execution_count": 260,
     "metadata": {},
     "output_type": "execute_result"
    }
   ],
   "source": [
    "\n",
    "marks_df.count()\n"
   ]
  },
  {
   "cell_type": "code",
   "execution_count": 262,
   "id": "6c2766e8-4e05-417a-9fad-3e01668bc4d6",
   "metadata": {},
   "outputs": [
    {
     "data": {
      "text/html": [
       "<div>\n",
       "<style scoped>\n",
       "    .dataframe tbody tr th:only-of-type {\n",
       "        vertical-align: middle;\n",
       "    }\n",
       "\n",
       "    .dataframe tbody tr th {\n",
       "        vertical-align: top;\n",
       "    }\n",
       "\n",
       "    .dataframe thead th {\n",
       "        text-align: right;\n",
       "    }\n",
       "</style>\n",
       "<table border=\"1\" class=\"dataframe\">\n",
       "  <thead>\n",
       "    <tr style=\"text-align: right;\">\n",
       "      <th></th>\n",
       "      <th>Chemistry</th>\n",
       "      <th>Physics</th>\n",
       "    </tr>\n",
       "  </thead>\n",
       "  <tbody>\n",
       "    <tr>\n",
       "      <th>min</th>\n",
       "      <td>32.00</td>\n",
       "      <td>34.0</td>\n",
       "    </tr>\n",
       "    <tr>\n",
       "      <th>max</th>\n",
       "      <td>98.00</td>\n",
       "      <td>92.0</td>\n",
       "    </tr>\n",
       "    <tr>\n",
       "      <th>sum</th>\n",
       "      <td>530.00</td>\n",
       "      <td>524.0</td>\n",
       "    </tr>\n",
       "    <tr>\n",
       "      <th>mean</th>\n",
       "      <td>66.25</td>\n",
       "      <td>65.5</td>\n",
       "    </tr>\n",
       "    <tr>\n",
       "      <th>median</th>\n",
       "      <td>66.50</td>\n",
       "      <td>72.0</td>\n",
       "    </tr>\n",
       "  </tbody>\n",
       "</table>\n",
       "</div>"
      ],
      "text/plain": [
       "        Chemistry  Physics\n",
       "min         32.00     34.0\n",
       "max         98.00     92.0\n",
       "sum        530.00    524.0\n",
       "mean        66.25     65.5\n",
       "median      66.50     72.0"
      ]
     },
     "execution_count": 262,
     "metadata": {},
     "output_type": "execute_result"
    }
   ],
   "source": [
    "marks_df.agg(['min', 'max','sum','mean','median'])"
   ]
  },
  {
   "cell_type": "code",
   "execution_count": 264,
   "id": "6f8423e2-b007-4e8b-94e7-0d366f0cc16d",
   "metadata": {},
   "outputs": [
    {
     "name": "stdout",
     "output_type": "stream",
     "text": [
      "         Chemistry  Physics\n",
      "Subodh          67       45\n",
      "Ram             90       92\n",
      "Abdul           66       72\n",
      "John            32       92\n",
      "Nandini         72       72\n",
      "Zoya            45       34\n",
      "prathap         60       72\n",
      "swaru           98       45\n"
     ]
    },
    {
     "data": {
      "text/html": [
       "<div>\n",
       "<style scoped>\n",
       "    .dataframe tbody tr th:only-of-type {\n",
       "        vertical-align: middle;\n",
       "    }\n",
       "\n",
       "    .dataframe tbody tr th {\n",
       "        vertical-align: top;\n",
       "    }\n",
       "\n",
       "    .dataframe thead th {\n",
       "        text-align: right;\n",
       "    }\n",
       "</style>\n",
       "<table border=\"1\" class=\"dataframe\">\n",
       "  <thead>\n",
       "    <tr style=\"text-align: right;\">\n",
       "      <th></th>\n",
       "      <th>Chemistry</th>\n",
       "    </tr>\n",
       "    <tr>\n",
       "      <th>Physics</th>\n",
       "      <th></th>\n",
       "    </tr>\n",
       "  </thead>\n",
       "  <tbody>\n",
       "    <tr>\n",
       "      <th>34</th>\n",
       "      <td>45</td>\n",
       "    </tr>\n",
       "    <tr>\n",
       "      <th>45</th>\n",
       "      <td>98</td>\n",
       "    </tr>\n",
       "    <tr>\n",
       "      <th>72</th>\n",
       "      <td>72</td>\n",
       "    </tr>\n",
       "    <tr>\n",
       "      <th>92</th>\n",
       "      <td>90</td>\n",
       "    </tr>\n",
       "  </tbody>\n",
       "</table>\n",
       "</div>"
      ],
      "text/plain": [
       "         Chemistry\n",
       "Physics           \n",
       "34              45\n",
       "45              98\n",
       "72              72\n",
       "92              90"
      ]
     },
     "execution_count": 264,
     "metadata": {},
     "output_type": "execute_result"
    }
   ],
   "source": [
    "print(marks_df)\n",
    "marks_df.groupby(\"Physics\").max()"
   ]
  },
  {
   "cell_type": "code",
   "execution_count": 266,
   "id": "2fe1fdc9-5873-4bd5-8eb8-e07fb6d8b9d6",
   "metadata": {},
   "outputs": [],
   "source": [
    "import pandas as pd\n",
    "from datetime import datetime\n",
    "import numpy as np"
   ]
  },
  {
   "cell_type": "code",
   "execution_count": 268,
   "id": "d8a4493a-ebfb-4d2a-a393-f6d689d7b89f",
   "metadata": {},
   "outputs": [
    {
     "name": "stdout",
     "output_type": "stream",
     "text": [
      "DatetimeIndex(['2019-01-01', '2019-01-02', '2019-01-03', '2019-01-04',\n",
      "               '2019-01-05', '2019-01-06', '2019-01-07', '2019-01-08'],\n",
      "              dtype='datetime64[ns]', freq='D')\n"
     ]
    }
   ],
   "source": [
    "range_date1 = pd.date_range(start ='1/1/2019', end ='1/08/2019',freq='D') #days\n",
    "print(range_date1)\n"
   ]
  },
  {
   "cell_type": "code",
   "execution_count": 274,
   "id": "1885cff7-d439-42f9-8b48-44964f00c6ee",
   "metadata": {},
   "outputs": [
    {
     "name": "stdout",
     "output_type": "stream",
     "text": [
      "DatetimeIndex(['2019-01-31', '2019-02-28', '2019-03-31', '2019-04-30',\n",
      "               '2019-05-31', '2019-06-30', '2019-07-31', '2019-08-31',\n",
      "               '2019-09-30', '2019-10-31', '2019-11-30', '2019-12-31'],\n",
      "              dtype='datetime64[ns]', freq='ME')\n"
     ]
    }
   ],
   "source": [
    "range_date3 = pd.date_range(start ='1/1/2019', end ='1/08/2020',freq='ME') #months\n",
    "print(range_date3)"
   ]
  },
  {
   "cell_type": "code",
   "execution_count": 279,
   "id": "63d1e67c-da8b-4df0-9ade-184f73ebb278",
   "metadata": {},
   "outputs": [
    {
     "name": "stdout",
     "output_type": "stream",
     "text": [
      "DatetimeIndex(['2019-01-01 00:00:00', '2019-01-01 01:00:00',\n",
      "               '2019-01-01 02:00:00', '2019-01-01 03:00:00',\n",
      "               '2019-01-01 04:00:00', '2019-01-01 05:00:00',\n",
      "               '2019-01-01 06:00:00', '2019-01-01 07:00:00',\n",
      "               '2019-01-01 08:00:00', '2019-01-01 09:00:00',\n",
      "               '2019-01-01 10:00:00', '2019-01-01 11:00:00',\n",
      "               '2019-01-01 12:00:00', '2019-01-01 13:00:00',\n",
      "               '2019-01-01 14:00:00', '2019-01-01 15:00:00',\n",
      "               '2019-01-01 16:00:00', '2019-01-01 17:00:00',\n",
      "               '2019-01-01 18:00:00', '2019-01-01 19:00:00',\n",
      "               '2019-01-01 20:00:00', '2019-01-01 21:00:00',\n",
      "               '2019-01-01 22:00:00', '2019-01-01 23:00:00',\n",
      "               '2019-01-02 00:00:00'],\n",
      "              dtype='datetime64[ns]', freq='h')\n"
     ]
    }
   ],
   "source": [
    "range_date2 = pd.date_range(start ='1/1/2019', end ='1/02/2019',freq='h') #hours\n",
    "print(range_date2)"
   ]
  },
  {
   "cell_type": "code",
   "execution_count": 283,
   "id": "cbfe58d4-d2c5-49d3-bf30-8a8e50a5c6bf",
   "metadata": {},
   "outputs": [
    {
     "name": "stdout",
     "output_type": "stream",
     "text": [
      "DatetimeIndex(['2019-01-31', '2019-04-30', '2019-07-31', '2019-10-31'], dtype='datetime64[ns]', freq='3ME')\n"
     ]
    }
   ],
   "source": [
    "range_date4= pd.date_range(start ='1/1/2019', end ='1/08/2020',freq='3ME') #3months\n",
    "print(range_date4)"
   ]
  },
  {
   "cell_type": "code",
   "execution_count": 285,
   "id": "2e21d0a2-b6be-4c3d-a44f-23a0095566c8",
   "metadata": {},
   "outputs": [
    {
     "name": "stdout",
     "output_type": "stream",
     "text": [
      "DatetimeIndex(['2019-01-01', '2019-01-02', '2019-01-03', '2019-01-04',\n",
      "               '2019-01-05', '2019-01-06', '2019-01-07', '2019-01-08',\n",
      "               '2019-01-09', '2019-01-10',\n",
      "               ...\n",
      "               '2019-12-30', '2019-12-31', '2020-01-01', '2020-01-02',\n",
      "               '2020-01-03', '2020-01-04', '2020-01-05', '2020-01-06',\n",
      "               '2020-01-07', '2020-01-08'],\n",
      "              dtype='datetime64[ns]', length=373, freq='D')\n"
     ]
    }
   ],
   "source": [
    "\n",
    "range_date5 = pd.date_range(start ='1/1/2019', end ='1/08/2020',freq=None) #days by default\n",
    "print(range_date5)"
   ]
  },
  {
   "cell_type": "code",
   "execution_count": 287,
   "id": "9481d3d3-9359-45d0-a20d-ec8dc97fc03a",
   "metadata": {},
   "outputs": [
    {
     "name": "stdout",
     "output_type": "stream",
     "text": [
      "DatetimeIndex(['2019-01-01 00:00:00', '2019-01-01 00:01:00',\n",
      "               '2019-01-01 00:02:00', '2019-01-01 00:03:00',\n",
      "               '2019-01-01 00:04:00', '2019-01-01 00:05:00',\n",
      "               '2019-01-01 00:06:00', '2019-01-01 00:07:00',\n",
      "               '2019-01-01 00:08:00', '2019-01-01 00:09:00',\n",
      "               ...\n",
      "               '2019-01-01 23:51:00', '2019-01-01 23:52:00',\n",
      "               '2019-01-01 23:53:00', '2019-01-01 23:54:00',\n",
      "               '2019-01-01 23:55:00', '2019-01-01 23:56:00',\n",
      "               '2019-01-01 23:57:00', '2019-01-01 23:58:00',\n",
      "               '2019-01-01 23:59:00', '2019-01-02 00:00:00'],\n",
      "              dtype='datetime64[ns]', length=1441, freq='min')\n"
     ]
    }
   ],
   "source": [
    "range_date6= pd.date_range(start ='1/1/2019', end ='1/2/2019',freq='min') #minutes\n",
    "print(range_date6)\n"
   ]
  },
  {
   "cell_type": "code",
   "execution_count": 289,
   "id": "511fbb1d-e9b5-41d6-9c26-980a04b4b982",
   "metadata": {},
   "outputs": [
    {
     "name": "stdout",
     "output_type": "stream",
     "text": [
      "DatetimeIndex(['2018-01-01', '2018-01-02', '2018-01-03', '2018-01-04',\n",
      "               '2018-01-05', '2018-01-06', '2018-01-07', '2018-01-08',\n",
      "               '2018-01-09', '2018-01-10', '2018-01-11', '2018-01-12',\n",
      "               '2018-01-13'],\n",
      "              dtype='datetime64[ns]', freq='D')\n"
     ]
    }
   ],
   "source": [
    "\n",
    "range_date7 = pd.date_range(start ='1/1/2018', periods = 13)\n",
    "print(range_date7)"
   ]
  },
  {
   "cell_type": "code",
   "execution_count": 291,
   "id": "b1f1eea7-79a9-43c5-8833-879b5e682eba",
   "metadata": {},
   "outputs": [
    {
     "name": "stdout",
     "output_type": "stream",
     "text": [
      "DatetimeIndex(['2018-01-01', '2018-01-02', '2018-01-03', '2018-01-04',\n",
      "               '2018-01-05', '2018-01-06', '2018-01-07', '2018-01-08',\n",
      "               '2018-01-09', '2018-01-10', '2018-01-11', '2018-01-12',\n",
      "               '2018-01-13'],\n",
      "              dtype='datetime64[ns]', freq='D')\n"
     ]
    }
   ],
   "source": [
    "range_date7 = pd.date_range(end ='1/13/2018', periods = 13)\n",
    "print(range_date7)"
   ]
  },
  {
   "cell_type": "code",
   "execution_count": 293,
   "id": "2c680b1e-5a3e-4746-98d7-e7a8d2965671",
   "metadata": {},
   "outputs": [
    {
     "name": "stdout",
     "output_type": "stream",
     "text": [
      "<class 'pandas._libs.tslibs.timestamps.Timestamp'>\n"
     ]
    }
   ],
   "source": [
    "print(type(range_date1[1]))"
   ]
  },
  {
   "cell_type": "code",
   "execution_count": 295,
   "id": "0c94cb3f-e66b-418d-adf5-5b1d669cc198",
   "metadata": {},
   "outputs": [],
   "source": [
    "range_data = pd.date_range(start ='1/1/2019', end ='1/08/2019',\n",
    " freq ='D')\n",
    "df = pd.DataFrame(range_data, columns =['date'])\n",
    "df['values'] = np.random.randint(0, 100, size =(len(range_data)))"
   ]
  },
  {
   "cell_type": "code",
   "execution_count": 297,
   "id": "eaa72643-2b51-492a-9f67-865a1ad32d72",
   "metadata": {},
   "outputs": [
    {
     "name": "stdout",
     "output_type": "stream",
     "text": [
      "        date  values\n",
      "0 2019-01-01      95\n",
      "1 2019-01-02      25\n",
      "2 2019-01-03      95\n",
      "3 2019-01-04      16\n",
      "4 2019-01-05      49\n",
      "5 2019-01-06      50\n",
      "6 2019-01-07      27\n",
      "7 2019-01-08      16\n"
     ]
    }
   ],
   "source": [
    "print(df.head(10))"
   ]
  },
  {
   "cell_type": "code",
   "execution_count": 299,
   "id": "88e6816b-baf2-4e97-b7ef-27111265f274",
   "metadata": {},
   "outputs": [
    {
     "data": {
      "text/html": [
       "<div>\n",
       "<style scoped>\n",
       "    .dataframe tbody tr th:only-of-type {\n",
       "        vertical-align: middle;\n",
       "    }\n",
       "\n",
       "    .dataframe tbody tr th {\n",
       "        vertical-align: top;\n",
       "    }\n",
       "\n",
       "    .dataframe thead th {\n",
       "        text-align: right;\n",
       "    }\n",
       "</style>\n",
       "<table border=\"1\" class=\"dataframe\">\n",
       "  <thead>\n",
       "    <tr style=\"text-align: right;\">\n",
       "      <th></th>\n",
       "      <th>values</th>\n",
       "    </tr>\n",
       "    <tr>\n",
       "      <th>datetime</th>\n",
       "      <th></th>\n",
       "    </tr>\n",
       "  </thead>\n",
       "  <tbody>\n",
       "    <tr>\n",
       "      <th>2019-01-01</th>\n",
       "      <td>95</td>\n",
       "    </tr>\n",
       "    <tr>\n",
       "      <th>2019-01-02</th>\n",
       "      <td>25</td>\n",
       "    </tr>\n",
       "    <tr>\n",
       "      <th>2019-01-03</th>\n",
       "      <td>95</td>\n",
       "    </tr>\n",
       "    <tr>\n",
       "      <th>2019-01-04</th>\n",
       "      <td>16</td>\n",
       "    </tr>\n",
       "    <tr>\n",
       "      <th>2019-01-05</th>\n",
       "      <td>49</td>\n",
       "    </tr>\n",
       "    <tr>\n",
       "      <th>2019-01-06</th>\n",
       "      <td>50</td>\n",
       "    </tr>\n",
       "    <tr>\n",
       "      <th>2019-01-07</th>\n",
       "      <td>27</td>\n",
       "    </tr>\n",
       "    <tr>\n",
       "      <th>2019-01-08</th>\n",
       "      <td>16</td>\n",
       "    </tr>\n",
       "  </tbody>\n",
       "</table>\n",
       "</div>"
      ],
      "text/plain": [
       "            values\n",
       "datetime          \n",
       "2019-01-01      95\n",
       "2019-01-02      25\n",
       "2019-01-03      95\n",
       "2019-01-04      16\n",
       "2019-01-05      49\n",
       "2019-01-06      50\n",
       "2019-01-07      27\n",
       "2019-01-08      16"
      ]
     },
     "execution_count": 299,
     "metadata": {},
     "output_type": "execute_result"
    }
   ],
   "source": [
    "df['datetime'] = pd.to_datetime(df['date'])\n",
    "df = df.set_index('datetime')\n",
    "df.drop(['date'], axis = 1, inplace = True)\n",
    "df\n"
   ]
  },
  {
   "cell_type": "code",
   "execution_count": 301,
   "id": "4d0463d8-2873-416f-aa34-e74d6ebb43a7",
   "metadata": {},
   "outputs": [],
   "source": [
    "import numpy as np\n",
    "import pandas as pd\n",
    "import matplotlib.pyplot as plt\n",
    "import matplotlib.cm as cm"
   ]
  },
  {
   "cell_type": "code",
   "execution_count": 315,
   "id": "2dd760d9-e1e0-4f7d-bdbc-dbea91a42260",
   "metadata": {},
   "outputs": [
    {
     "data": {
      "text/html": [
       "<div>\n",
       "<style scoped>\n",
       "    .dataframe tbody tr th:only-of-type {\n",
       "        vertical-align: middle;\n",
       "    }\n",
       "\n",
       "    .dataframe tbody tr th {\n",
       "        vertical-align: top;\n",
       "    }\n",
       "\n",
       "    .dataframe thead th {\n",
       "        text-align: right;\n",
       "    }\n",
       "</style>\n",
       "<table border=\"1\" class=\"dataframe\">\n",
       "  <thead>\n",
       "    <tr style=\"text-align: right;\">\n",
       "      <th></th>\n",
       "      <th>Time</th>\n",
       "      <th>V1</th>\n",
       "      <th>V2</th>\n",
       "      <th>V3</th>\n",
       "      <th>V4</th>\n",
       "      <th>V5</th>\n",
       "      <th>V6</th>\n",
       "      <th>V7</th>\n",
       "      <th>V8</th>\n",
       "      <th>V9</th>\n",
       "      <th>...</th>\n",
       "      <th>V21</th>\n",
       "      <th>V22</th>\n",
       "      <th>V23</th>\n",
       "      <th>V24</th>\n",
       "      <th>V25</th>\n",
       "      <th>V26</th>\n",
       "      <th>V27</th>\n",
       "      <th>V28</th>\n",
       "      <th>Amount</th>\n",
       "      <th>Class</th>\n",
       "    </tr>\n",
       "  </thead>\n",
       "  <tbody>\n",
       "    <tr>\n",
       "      <th>0</th>\n",
       "      <td>0.0</td>\n",
       "      <td>-1.359807</td>\n",
       "      <td>-0.072781</td>\n",
       "      <td>2.536347</td>\n",
       "      <td>1.378155</td>\n",
       "      <td>-0.338321</td>\n",
       "      <td>0.462388</td>\n",
       "      <td>0.239599</td>\n",
       "      <td>0.098698</td>\n",
       "      <td>0.363787</td>\n",
       "      <td>...</td>\n",
       "      <td>-0.018307</td>\n",
       "      <td>0.277838</td>\n",
       "      <td>-0.110474</td>\n",
       "      <td>0.066928</td>\n",
       "      <td>0.128539</td>\n",
       "      <td>-0.189115</td>\n",
       "      <td>0.133558</td>\n",
       "      <td>-0.021053</td>\n",
       "      <td>149.62</td>\n",
       "      <td>0</td>\n",
       "    </tr>\n",
       "    <tr>\n",
       "      <th>1</th>\n",
       "      <td>0.0</td>\n",
       "      <td>1.191857</td>\n",
       "      <td>0.266151</td>\n",
       "      <td>0.166480</td>\n",
       "      <td>0.448154</td>\n",
       "      <td>0.060018</td>\n",
       "      <td>-0.082361</td>\n",
       "      <td>-0.078803</td>\n",
       "      <td>0.085102</td>\n",
       "      <td>-0.255425</td>\n",
       "      <td>...</td>\n",
       "      <td>-0.225775</td>\n",
       "      <td>-0.638672</td>\n",
       "      <td>0.101288</td>\n",
       "      <td>-0.339846</td>\n",
       "      <td>0.167170</td>\n",
       "      <td>0.125895</td>\n",
       "      <td>-0.008983</td>\n",
       "      <td>0.014724</td>\n",
       "      <td>2.69</td>\n",
       "      <td>0</td>\n",
       "    </tr>\n",
       "    <tr>\n",
       "      <th>2</th>\n",
       "      <td>1.0</td>\n",
       "      <td>-1.358354</td>\n",
       "      <td>-1.340163</td>\n",
       "      <td>1.773209</td>\n",
       "      <td>0.379780</td>\n",
       "      <td>-0.503198</td>\n",
       "      <td>1.800499</td>\n",
       "      <td>0.791461</td>\n",
       "      <td>0.247676</td>\n",
       "      <td>-1.514654</td>\n",
       "      <td>...</td>\n",
       "      <td>0.247998</td>\n",
       "      <td>0.771679</td>\n",
       "      <td>0.909412</td>\n",
       "      <td>-0.689281</td>\n",
       "      <td>-0.327642</td>\n",
       "      <td>-0.139097</td>\n",
       "      <td>-0.055353</td>\n",
       "      <td>-0.059752</td>\n",
       "      <td>378.66</td>\n",
       "      <td>0</td>\n",
       "    </tr>\n",
       "    <tr>\n",
       "      <th>3</th>\n",
       "      <td>1.0</td>\n",
       "      <td>-0.966272</td>\n",
       "      <td>-0.185226</td>\n",
       "      <td>1.792993</td>\n",
       "      <td>-0.863291</td>\n",
       "      <td>-0.010309</td>\n",
       "      <td>1.247203</td>\n",
       "      <td>0.237609</td>\n",
       "      <td>0.377436</td>\n",
       "      <td>-1.387024</td>\n",
       "      <td>...</td>\n",
       "      <td>-0.108300</td>\n",
       "      <td>0.005274</td>\n",
       "      <td>-0.190321</td>\n",
       "      <td>-1.175575</td>\n",
       "      <td>0.647376</td>\n",
       "      <td>-0.221929</td>\n",
       "      <td>0.062723</td>\n",
       "      <td>0.061458</td>\n",
       "      <td>123.50</td>\n",
       "      <td>0</td>\n",
       "    </tr>\n",
       "    <tr>\n",
       "      <th>4</th>\n",
       "      <td>2.0</td>\n",
       "      <td>-1.158233</td>\n",
       "      <td>0.877737</td>\n",
       "      <td>1.548718</td>\n",
       "      <td>0.403034</td>\n",
       "      <td>-0.407193</td>\n",
       "      <td>0.095921</td>\n",
       "      <td>0.592941</td>\n",
       "      <td>-0.270533</td>\n",
       "      <td>0.817739</td>\n",
       "      <td>...</td>\n",
       "      <td>-0.009431</td>\n",
       "      <td>0.798278</td>\n",
       "      <td>-0.137458</td>\n",
       "      <td>0.141267</td>\n",
       "      <td>-0.206010</td>\n",
       "      <td>0.502292</td>\n",
       "      <td>0.219422</td>\n",
       "      <td>0.215153</td>\n",
       "      <td>69.99</td>\n",
       "      <td>0</td>\n",
       "    </tr>\n",
       "    <tr>\n",
       "      <th>...</th>\n",
       "      <td>...</td>\n",
       "      <td>...</td>\n",
       "      <td>...</td>\n",
       "      <td>...</td>\n",
       "      <td>...</td>\n",
       "      <td>...</td>\n",
       "      <td>...</td>\n",
       "      <td>...</td>\n",
       "      <td>...</td>\n",
       "      <td>...</td>\n",
       "      <td>...</td>\n",
       "      <td>...</td>\n",
       "      <td>...</td>\n",
       "      <td>...</td>\n",
       "      <td>...</td>\n",
       "      <td>...</td>\n",
       "      <td>...</td>\n",
       "      <td>...</td>\n",
       "      <td>...</td>\n",
       "      <td>...</td>\n",
       "      <td>...</td>\n",
       "    </tr>\n",
       "    <tr>\n",
       "      <th>284802</th>\n",
       "      <td>172786.0</td>\n",
       "      <td>-11.881118</td>\n",
       "      <td>10.071785</td>\n",
       "      <td>-9.834783</td>\n",
       "      <td>-2.066656</td>\n",
       "      <td>-5.364473</td>\n",
       "      <td>-2.606837</td>\n",
       "      <td>-4.918215</td>\n",
       "      <td>7.305334</td>\n",
       "      <td>1.914428</td>\n",
       "      <td>...</td>\n",
       "      <td>0.213454</td>\n",
       "      <td>0.111864</td>\n",
       "      <td>1.014480</td>\n",
       "      <td>-0.509348</td>\n",
       "      <td>1.436807</td>\n",
       "      <td>0.250034</td>\n",
       "      <td>0.943651</td>\n",
       "      <td>0.823731</td>\n",
       "      <td>0.77</td>\n",
       "      <td>0</td>\n",
       "    </tr>\n",
       "    <tr>\n",
       "      <th>284803</th>\n",
       "      <td>172787.0</td>\n",
       "      <td>-0.732789</td>\n",
       "      <td>-0.055080</td>\n",
       "      <td>2.035030</td>\n",
       "      <td>-0.738589</td>\n",
       "      <td>0.868229</td>\n",
       "      <td>1.058415</td>\n",
       "      <td>0.024330</td>\n",
       "      <td>0.294869</td>\n",
       "      <td>0.584800</td>\n",
       "      <td>...</td>\n",
       "      <td>0.214205</td>\n",
       "      <td>0.924384</td>\n",
       "      <td>0.012463</td>\n",
       "      <td>-1.016226</td>\n",
       "      <td>-0.606624</td>\n",
       "      <td>-0.395255</td>\n",
       "      <td>0.068472</td>\n",
       "      <td>-0.053527</td>\n",
       "      <td>24.79</td>\n",
       "      <td>0</td>\n",
       "    </tr>\n",
       "    <tr>\n",
       "      <th>284804</th>\n",
       "      <td>172788.0</td>\n",
       "      <td>1.919565</td>\n",
       "      <td>-0.301254</td>\n",
       "      <td>-3.249640</td>\n",
       "      <td>-0.557828</td>\n",
       "      <td>2.630515</td>\n",
       "      <td>3.031260</td>\n",
       "      <td>-0.296827</td>\n",
       "      <td>0.708417</td>\n",
       "      <td>0.432454</td>\n",
       "      <td>...</td>\n",
       "      <td>0.232045</td>\n",
       "      <td>0.578229</td>\n",
       "      <td>-0.037501</td>\n",
       "      <td>0.640134</td>\n",
       "      <td>0.265745</td>\n",
       "      <td>-0.087371</td>\n",
       "      <td>0.004455</td>\n",
       "      <td>-0.026561</td>\n",
       "      <td>67.88</td>\n",
       "      <td>0</td>\n",
       "    </tr>\n",
       "    <tr>\n",
       "      <th>284805</th>\n",
       "      <td>172788.0</td>\n",
       "      <td>-0.240440</td>\n",
       "      <td>0.530483</td>\n",
       "      <td>0.702510</td>\n",
       "      <td>0.689799</td>\n",
       "      <td>-0.377961</td>\n",
       "      <td>0.623708</td>\n",
       "      <td>-0.686180</td>\n",
       "      <td>0.679145</td>\n",
       "      <td>0.392087</td>\n",
       "      <td>...</td>\n",
       "      <td>0.265245</td>\n",
       "      <td>0.800049</td>\n",
       "      <td>-0.163298</td>\n",
       "      <td>0.123205</td>\n",
       "      <td>-0.569159</td>\n",
       "      <td>0.546668</td>\n",
       "      <td>0.108821</td>\n",
       "      <td>0.104533</td>\n",
       "      <td>10.00</td>\n",
       "      <td>0</td>\n",
       "    </tr>\n",
       "    <tr>\n",
       "      <th>284806</th>\n",
       "      <td>172792.0</td>\n",
       "      <td>-0.533413</td>\n",
       "      <td>-0.189733</td>\n",
       "      <td>0.703337</td>\n",
       "      <td>-0.506271</td>\n",
       "      <td>-0.012546</td>\n",
       "      <td>-0.649617</td>\n",
       "      <td>1.577006</td>\n",
       "      <td>-0.414650</td>\n",
       "      <td>0.486180</td>\n",
       "      <td>...</td>\n",
       "      <td>0.261057</td>\n",
       "      <td>0.643078</td>\n",
       "      <td>0.376777</td>\n",
       "      <td>0.008797</td>\n",
       "      <td>-0.473649</td>\n",
       "      <td>-0.818267</td>\n",
       "      <td>-0.002415</td>\n",
       "      <td>0.013649</td>\n",
       "      <td>217.00</td>\n",
       "      <td>0</td>\n",
       "    </tr>\n",
       "  </tbody>\n",
       "</table>\n",
       "<p>284807 rows × 31 columns</p>\n",
       "</div>"
      ],
      "text/plain": [
       "            Time         V1         V2        V3        V4        V5  \\\n",
       "0            0.0  -1.359807  -0.072781  2.536347  1.378155 -0.338321   \n",
       "1            0.0   1.191857   0.266151  0.166480  0.448154  0.060018   \n",
       "2            1.0  -1.358354  -1.340163  1.773209  0.379780 -0.503198   \n",
       "3            1.0  -0.966272  -0.185226  1.792993 -0.863291 -0.010309   \n",
       "4            2.0  -1.158233   0.877737  1.548718  0.403034 -0.407193   \n",
       "...          ...        ...        ...       ...       ...       ...   \n",
       "284802  172786.0 -11.881118  10.071785 -9.834783 -2.066656 -5.364473   \n",
       "284803  172787.0  -0.732789  -0.055080  2.035030 -0.738589  0.868229   \n",
       "284804  172788.0   1.919565  -0.301254 -3.249640 -0.557828  2.630515   \n",
       "284805  172788.0  -0.240440   0.530483  0.702510  0.689799 -0.377961   \n",
       "284806  172792.0  -0.533413  -0.189733  0.703337 -0.506271 -0.012546   \n",
       "\n",
       "              V6        V7        V8        V9  ...       V21       V22  \\\n",
       "0       0.462388  0.239599  0.098698  0.363787  ... -0.018307  0.277838   \n",
       "1      -0.082361 -0.078803  0.085102 -0.255425  ... -0.225775 -0.638672   \n",
       "2       1.800499  0.791461  0.247676 -1.514654  ...  0.247998  0.771679   \n",
       "3       1.247203  0.237609  0.377436 -1.387024  ... -0.108300  0.005274   \n",
       "4       0.095921  0.592941 -0.270533  0.817739  ... -0.009431  0.798278   \n",
       "...          ...       ...       ...       ...  ...       ...       ...   \n",
       "284802 -2.606837 -4.918215  7.305334  1.914428  ...  0.213454  0.111864   \n",
       "284803  1.058415  0.024330  0.294869  0.584800  ...  0.214205  0.924384   \n",
       "284804  3.031260 -0.296827  0.708417  0.432454  ...  0.232045  0.578229   \n",
       "284805  0.623708 -0.686180  0.679145  0.392087  ...  0.265245  0.800049   \n",
       "284806 -0.649617  1.577006 -0.414650  0.486180  ...  0.261057  0.643078   \n",
       "\n",
       "             V23       V24       V25       V26       V27       V28  Amount  \\\n",
       "0      -0.110474  0.066928  0.128539 -0.189115  0.133558 -0.021053  149.62   \n",
       "1       0.101288 -0.339846  0.167170  0.125895 -0.008983  0.014724    2.69   \n",
       "2       0.909412 -0.689281 -0.327642 -0.139097 -0.055353 -0.059752  378.66   \n",
       "3      -0.190321 -1.175575  0.647376 -0.221929  0.062723  0.061458  123.50   \n",
       "4      -0.137458  0.141267 -0.206010  0.502292  0.219422  0.215153   69.99   \n",
       "...          ...       ...       ...       ...       ...       ...     ...   \n",
       "284802  1.014480 -0.509348  1.436807  0.250034  0.943651  0.823731    0.77   \n",
       "284803  0.012463 -1.016226 -0.606624 -0.395255  0.068472 -0.053527   24.79   \n",
       "284804 -0.037501  0.640134  0.265745 -0.087371  0.004455 -0.026561   67.88   \n",
       "284805 -0.163298  0.123205 -0.569159  0.546668  0.108821  0.104533   10.00   \n",
       "284806  0.376777  0.008797 -0.473649 -0.818267 -0.002415  0.013649  217.00   \n",
       "\n",
       "        Class  \n",
       "0           0  \n",
       "1           0  \n",
       "2           0  \n",
       "3           0  \n",
       "4           0  \n",
       "...       ...  \n",
       "284802      0  \n",
       "284803      0  \n",
       "284804      0  \n",
       "284805      0  \n",
       "284806      0  \n",
       "\n",
       "[284807 rows x 31 columns]"
      ]
     },
     "execution_count": 315,
     "metadata": {},
     "output_type": "execute_result"
    }
   ],
   "source": [
    "credit_df = pd.read_csv(\"C:/Users/jeeva/Downloads/New folder/creditcard.csv\")\n",
    "credit_df #showing a single row in the df"
   ]
  },
  {
   "cell_type": "code",
   "execution_count": 323,
   "id": "ae823724-66d7-4535-9e46-1e58aa743533",
   "metadata": {},
   "outputs": [
    {
     "data": {
      "text/plain": [
       "Text(0.5, 1.0, 'V5 vs V7')"
      ]
     },
     "execution_count": 323,
     "metadata": {},
     "output_type": "execute_result"
    },
    {
     "data": {
      "image/png": "[encoded data removed]",
      "text/plain": [
       "<Figure size 1000x700 with 1 Axes>"
      ]
     },
     "metadata": {},
     "output_type": "display_data"
    }
   ],
   "source": [
    "ax = credit_df.plot(\"V5\",\"V7\",kind=\"scatter\", color = \"red\",marker = \"o\",figsize=(10,7))\n",
    "#To add labels and title to the output\n",
    "ax.set_xlabel(\"V5\") #sets label for x-axis\n",
    "ax.set_ylabel(\"V7\") #sets label for y-axis\n",
    "ax.set_title(\"V5 vs V7\",fontsize=16) #sets title for the graph"
   ]
  },
  {
   "cell_type": "code",
   "execution_count": 327,
   "id": "57835300-f66b-43c1-a38c-d26ebf0eeabb",
   "metadata": {},
   "outputs": [
    {
     "data": {
      "text/plain": [
       "count    2.848070e+05\n",
       "mean     9.604066e-16\n",
       "std      1.380247e+00\n",
       "min     -1.137433e+02\n",
       "25%     -6.915971e-01\n",
       "50%     -5.433583e-02\n",
       "75%      6.119264e-01\n",
       "max      3.480167e+01\n",
       "Name: V5, dtype: float64"
      ]
     },
     "execution_count": 327,
     "metadata": {},
     "output_type": "execute_result"
    }
   ],
   "source": [
    "credit_df[\"V5\"].describe()"
   ]
  },
  {
   "cell_type": "code",
   "execution_count": 333,
   "id": "4e4c14d1-55c3-4128-a5b6-0758e91bec8a",
   "metadata": {},
   "outputs": [
    {
     "data": {
      "text/plain": [
       "Text(0.5, 1.0, 'V7')"
      ]
     },
     "execution_count": 333,
     "metadata": {},
     "output_type": "execute_result"
    },
    {
     "data": {
      "image/png": "[encoded data removed]",
      "text/plain": [
       "<Figure size 640x480 with 1 Axes>"
      ]
     },
     "metadata": {},
     "output_type": "display_data"
    }
   ],
   "source": [
    "ax = credit_df[\"V5\"].plot(kind=\"box\")\n",
    "ax.set_title(\"V7\")\n"
   ]
  },
  {
   "cell_type": "code",
   "execution_count": 337,
   "id": "36261e47-23b7-4767-863d-2b75303da58f",
   "metadata": {},
   "outputs": [
    {
     "data": {
      "text/plain": [
       "Text(0.5, 0, 'V5')"
      ]
     },
     "execution_count": 337,
     "metadata": {},
     "output_type": "execute_result"
    },
    {
     "data": {
      "image/png": "[encoded data removed]",
      "text/plain": [
       "<Figure size 640x480 with 1 Axes>"
      ]
     },
     "metadata": {},
     "output_type": "display_data"
    }
   ],
   "source": [
    "fig, ax1 = plt.subplots(1, 1)\n",
    "#The following lines of code change the alignment from vertical to horizontal\n",
    "ax1.boxplot(credit_df[\"V5\"])\n",
    "#The following lines of code are used to add labels to axes and title to the graph\n",
    "ax1.set_title('V7')\n",
    "ax1.set_xlabel('V5')\n",
    "#In case of any superimposition of the subplots, the following functions caters the aesthetics\n",
    "#fig.tight_layout()"
   ]
  },
  {
   "cell_type": "code",
   "execution_count": 341,
   "id": "ede2bf27-4d6e-47a7-9708-26cae4713c9a",
   "metadata": {},
   "outputs": [
    {
     "data": {
      "image/png": "[encoded data removed]",
      "text/plain": [
       "<Figure size 640x480 with 2 Axes>"
      ]
     },
     "metadata": {},
     "output_type": "display_data"
    }
   ],
   "source": [
    "fig, (ax1, ax2) = plt.subplots(1, 2)\n",
    "#The following lines of code change the alignment from vertical to horizontal\n",
    "ax1.boxplot(credit_df[\"V5\"])\n",
    "ax2.boxplot(credit_df[\"V7\"])\n",
    "#The following lines of code are used to add labels to axes and title to the graph\n",
    "ax1.set_title('V1')\n",
    "ax1.set_xlabel('V5')\n",
    "ax2.set_title('V7')\n",
    "ax2.set_xlabel(\"V7\")\n",
    "#In case of any superimposition of the subplots, the following functions caters the aesthetics\n",
    "fig.tight_layout()"
   ]
  },
  {
   "cell_type": "code",
   "execution_count": 343,
   "id": "d8851709-b377-4600-939f-3d21b97ef115",
   "metadata": {},
   "outputs": [
    {
     "name": "stdout",
     "output_type": "stream",
     "text": [
      "IQR: 1.3035235106228504\n",
      "upper_bound: 2.5672117056694685\n",
      "lower_bound: -2.646882336821933\n"
     ]
    }
   ],
   "source": [
    "cr_limit_arr = credit_df[\"V5\"]\n",
    "# finding the 1st quartile\n",
    "q1 = np.quantile(cr_limit_arr, 0.25)\n",
    "# finding the 3rd quartile\n",
    "q3 = np.quantile(cr_limit_arr, 0.75)\n",
    "med = np.median(cr_limit_arr)\n",
    "# finding the iqr region\n",
    "iqr = q3-q1\n",
    "# finding upper and lower whiskers\n",
    "upper_bound = q3+(1.5*iqr)\n",
    "lower_bound = q1-(1.5*iqr)\n",
    "print(\"IQR:\",iqr)\n",
    "print(\"upper_bound:\",upper_bound)\n",
    "print(\"lower_bound:\",lower_bound)"
   ]
  },
  {
   "cell_type": "code",
   "execution_count": 345,
   "id": "827d9c17-2398-4ac3-91d9-57bd826005b4",
   "metadata": {},
   "outputs": [
    {
     "name": "stdout",
     "output_type": "stream",
     "text": [
      "The following are the outliers in the boxplot of Credit Limit:\n",
      " 8         2.669599\n",
      "11        2.924584\n",
      "18        3.049106\n",
      "24        2.941968\n",
      "51       -6.631951\n",
      "            ...   \n",
      "284784    2.833960\n",
      "284785    2.932315\n",
      "284795   -4.586669\n",
      "284802   -5.364473\n",
      "284804    2.630515\n",
      "Name: V5, Length: 12295, dtype: float64\n"
     ]
    }
   ],
   "source": [
    "outliers = cr_limit_arr[(cr_limit_arr <= lower_bound) | (cr_limit_arr >= upper_bound)]\n",
    "print('The following are the outliers in the boxplot of Credit Limit:\\n',outliers)"
   ]
  },
  {
   "cell_type": "code",
   "execution_count": 349,
   "id": "d3a8850c-da91-4fee-af17-8f5f4d42c965",
   "metadata": {},
   "outputs": [
    {
     "data": {
      "text/plain": [
       "Series([], Name: V5, dtype: float64)"
      ]
     },
     "execution_count": 349,
     "metadata": {},
     "output_type": "execute_result"
    }
   ],
   "source": [
    "x = credit_df['V5']\n",
    "v = x[(x == 34516)]\n",
    "v"
   ]
  },
  {
   "cell_type": "code",
   "execution_count": 351,
   "id": "c85a996f-ce0b-4e61-8e19-1457345abed4",
   "metadata": {},
   "outputs": [
    {
     "name": "stdout",
     "output_type": "stream",
     "text": [
      "IQR: 1.1245119519141211\n",
      "upper_bound: 2.2572040007487804\n",
      "lower_bound: -2.240843806907704\n"
     ]
    }
   ],
   "source": [
    "avg_purchase = credit_df[\"V7\"]\n",
    "# finding the 1st quartile\n",
    "q1 = np.quantile(avg_purchase, 0.25)\n",
    "# finding the 3rd quartile\n",
    "q3 = np.quantile(avg_purchase, 0.75)\n",
    "med = np.median(avg_purchase)\n",
    "# finding the iqr region\n",
    "iqr = q3-q1\n",
    "# finding upper and lower whiskers\n",
    "upper_bound = q3+(1.5*iqr)\n",
    "lower_bound = q1-(1.5*iqr)\n",
    "print(\"IQR:\",iqr)\n",
    "print(\"upper_bound:\",upper_bound)\n",
    "print(\"lower_bound:\",lower_bound)"
   ]
  },
  {
   "cell_type": "code",
   "execution_count": 353,
   "id": "a7d9494b-0040-4068-bf3b-0bc42a64951e",
   "metadata": {},
   "outputs": [
    {
     "name": "stdout",
     "output_type": "stream",
     "text": [
      "The following are the outliers in the boxplot of Average Purchase:\n",
      " 51        4.371691\n",
      "85       -2.705393\n",
      "140       3.329603\n",
      "150       3.315254\n",
      "164       4.808426\n",
      "            ...   \n",
      "284649   -3.259766\n",
      "284698    2.671779\n",
      "284733    3.009433\n",
      "284795   -3.632516\n",
      "284802   -4.918215\n",
      "Name: V7, Length: 8948, dtype: float64\n"
     ]
    }
   ],
   "source": [
    "outliers = avg_purchase[(avg_purchase <= lower_bound) | (avg_purchase >= upper_bound)]\n",
    "print('The following are the outliers in the boxplot of Average Purchase:\\n',outliers)"
   ]
  },
  {
   "cell_type": "code",
   "execution_count": 359,
   "id": "eeafc060-ca7e-4e4d-8366-12fc611b7dd4",
   "metadata": {},
   "outputs": [
    {
     "data": {
      "text/plain": [
       "array([ 0.27783758, -0.63867195,  0.7716794 , ...,  0.57822901,\n",
       "        0.80004874,  0.64307844])"
      ]
     },
     "execution_count": 359,
     "metadata": {},
     "output_type": "execute_result"
    }
   ],
   "source": [
    "categories = credit_df[\"V22\"].unique()\n",
    "categories"
   ]
  },
  {
   "cell_type": "code",
   "execution_count": 361,
   "id": "51a7de8a-c78c-434d-9239-c72574ff5888",
   "metadata": {},
   "outputs": [
    {
     "data": {
      "text/html": [
       "<div>\n",
       "<style scoped>\n",
       "    .dataframe tbody tr th:only-of-type {\n",
       "        vertical-align: middle;\n",
       "    }\n",
       "\n",
       "    .dataframe tbody tr th {\n",
       "        vertical-align: top;\n",
       "    }\n",
       "\n",
       "    .dataframe thead tr th {\n",
       "        text-align: left;\n",
       "    }\n",
       "</style>\n",
       "<table border=\"1\" class=\"dataframe\">\n",
       "  <thead>\n",
       "    <tr>\n",
       "      <th></th>\n",
       "      <th>V22</th>\n",
       "      <th>Count</th>\n",
       "    </tr>\n",
       "  </thead>\n",
       "  <tbody>\n",
       "    <tr>\n",
       "      <th>0</th>\n",
       "      <td>-10.933144</td>\n",
       "      <td>1</td>\n",
       "    </tr>\n",
       "    <tr>\n",
       "      <th>1</th>\n",
       "      <td>-9.499423</td>\n",
       "      <td>1</td>\n",
       "    </tr>\n",
       "    <tr>\n",
       "      <th>2</th>\n",
       "      <td>-8.887017</td>\n",
       "      <td>6</td>\n",
       "    </tr>\n",
       "    <tr>\n",
       "      <th>3</th>\n",
       "      <td>-8.593642</td>\n",
       "      <td>1</td>\n",
       "    </tr>\n",
       "    <tr>\n",
       "      <th>4</th>\n",
       "      <td>-8.555808</td>\n",
       "      <td>1</td>\n",
       "    </tr>\n",
       "    <tr>\n",
       "      <th>...</th>\n",
       "      <td>...</td>\n",
       "      <td>...</td>\n",
       "    </tr>\n",
       "    <tr>\n",
       "      <th>275658</th>\n",
       "      <td>7.357255</td>\n",
       "      <td>1</td>\n",
       "    </tr>\n",
       "    <tr>\n",
       "      <th>275659</th>\n",
       "      <td>8.272233</td>\n",
       "      <td>1</td>\n",
       "    </tr>\n",
       "    <tr>\n",
       "      <th>275660</th>\n",
       "      <td>8.316275</td>\n",
       "      <td>1</td>\n",
       "    </tr>\n",
       "    <tr>\n",
       "      <th>275661</th>\n",
       "      <td>8.361985</td>\n",
       "      <td>1</td>\n",
       "    </tr>\n",
       "    <tr>\n",
       "      <th>275662</th>\n",
       "      <td>10.503090</td>\n",
       "      <td>1</td>\n",
       "    </tr>\n",
       "  </tbody>\n",
       "</table>\n",
       "<p>275663 rows × 2 columns</p>\n",
       "</div>"
      ],
      "text/plain": [
       "              V22 Count\n",
       "0      -10.933144     1\n",
       "1       -9.499423     1\n",
       "2       -8.887017     6\n",
       "3       -8.593642     1\n",
       "4       -8.555808     1\n",
       "...           ...   ...\n",
       "275658   7.357255     1\n",
       "275659   8.272233     1\n",
       "275660   8.316275     1\n",
       "275661   8.361985     1\n",
       "275662  10.503090     1\n",
       "\n",
       "[275663 rows x 2 columns]"
      ]
     },
     "execution_count": 361,
     "metadata": {},
     "output_type": "execute_result"
    }
   ],
   "source": [
    "count_df = pd.DataFrame(credit_df[[\"V22\"]].groupby(by= \"V22\").size().reset_index())\n",
    "count_df.columns = [[\"V22\",\"Count\"]]\n",
    "count_df"
   ]
  },
  {
   "cell_type": "code",
   "execution_count": 19,
   "id": "755ee94b-d71f-44e7-a5b4-40e2293eceab",
   "metadata": {},
   "outputs": [
    {
     "name": "stdout",
     "output_type": "stream",
     "text": [
      "object\n",
      "     Values\n",
      "V22        \n",
      "A        10\n",
      "B        20\n",
      "C        30\n",
      "D        40\n"
     ]
    }
   ],
   "source": [
    "import pandas as pd\n",
    "\n",
    "# Sample DataFrame\n",
    "count_df = pd.DataFrame({\n",
    "    'V22': ['A', 'B', 'C', 'D'],\n",
    "    'Values': [10, 20, 30, 40]\n",
    "})\n",
    "\n",
    "# Check column types\n",
    "print(count_df['V22'].dtype)  # Should be something like 'object' or 'int64'\n",
    "\n",
    "# Set the index\n",
    "count_df.set_index('V22', inplace=True)\n",
    "\n",
    "# Display the DataFrame\n",
    "print(count_df)\n"
   ]
  },
  {
   "cell_type": "code",
   "execution_count": null,
   "id": "a98f9263-47bb-41ef-a40d-b33af75e1d24",
   "metadata": {},
   "outputs": [],
   "source": [
    "import pandas as pd\n",
    "import matplotlib.pyplot as plt\n",
    "\n",
    "# Load the dataset\n",
    "credit_df = pd.read_csv(\"C:/Users/jeeva/Downloads/New folder/creditcard.csv\")\n",
    "\n",
    "# Plotting\n",
    "credit_df['V5'].value_counts().plot(kind=\"barh\")\n",
    "plt.title(\"Number of Customers in Each Income Group\")\n",
    "plt.xlabel(\"Number of Customers\")\n",
    "plt.ylabel(\"Income Group\")\n",
    "\n",
    "# Show the plot\n",
    "plt.show()\n"
   ]
  },
  {
   "cell_type": "code",
   "execution_count": null,
   "id": "b54cd445-0a01-4deb-aa5a-c2efc880523c",
   "metadata": {},
   "outputs": [],
   "source": [
    "credit_df[\"Total_Trans_Amt\"].min()"
   ]
  },
  {
   "cell_type": "code",
   "execution_count": 37,
   "id": "bda85a2c-237e-459e-8515-0d5a2e08aa40",
   "metadata": {},
   "outputs": [
    {
     "ename": "KeyError",
     "evalue": "'Total_Trans_Amt'",
     "output_type": "error",
     "traceback": [
      "\u001b[1;31m---------------------------------------------------------------------------\u001b[0m",
      "\u001b[1;31mKeyError\u001b[0m                                  Traceback (most recent call last)",
      "File \u001b[1;32m~\\ana\\Lib\\site-packages\\pandas\\core\\indexes\\base.py:3805\u001b[0m, in \u001b[0;36mIndex.get_loc\u001b[1;34m(self, key)\u001b[0m\n\u001b[0;32m   3804\u001b[0m \u001b[38;5;28;01mtry\u001b[39;00m:\n\u001b[1;32m-> 3805\u001b[0m     \u001b[38;5;28;01mreturn\u001b[39;00m \u001b[38;5;28mself\u001b[39m\u001b[38;5;241m.\u001b[39m_engine\u001b[38;5;241m.\u001b[39mget_loc(casted_key)\n\u001b[0;32m   3806\u001b[0m \u001b[38;5;28;01mexcept\u001b[39;00m \u001b[38;5;167;01mKeyError\u001b[39;00m \u001b[38;5;28;01mas\u001b[39;00m err:\n",
      "File \u001b[1;32mindex.pyx:167\u001b[0m, in \u001b[0;36mpandas._libs.index.IndexEngine.get_loc\u001b[1;34m()\u001b[0m\n",
      "File \u001b[1;32mindex.pyx:196\u001b[0m, in \u001b[0;36mpandas._libs.index.IndexEngine.get_loc\u001b[1;34m()\u001b[0m\n",
      "File \u001b[1;32mpandas\\\\_libs\\\\hashtable_class_helper.pxi:7081\u001b[0m, in \u001b[0;36mpandas._libs.hashtable.PyObjectHashTable.get_item\u001b[1;34m()\u001b[0m\n",
      "File \u001b[1;32mpandas\\\\_libs\\\\hashtable_class_helper.pxi:7089\u001b[0m, in \u001b[0;36mpandas._libs.hashtable.PyObjectHashTable.get_item\u001b[1;34m()\u001b[0m\n",
      "\u001b[1;31mKeyError\u001b[0m: 'Total_Trans_Amt'",
      "\nThe above exception was the direct cause of the following exception:\n",
      "\u001b[1;31mKeyError\u001b[0m                                  Traceback (most recent call last)",
      "Cell \u001b[1;32mIn[37], line 1\u001b[0m\n\u001b[1;32m----> 1\u001b[0m credit_df[\u001b[38;5;124m\"\u001b[39m\u001b[38;5;124mTotal_Trans_Amt\u001b[39m\u001b[38;5;124m\"\u001b[39m]\u001b[38;5;241m.\u001b[39mmax()\n",
      "File \u001b[1;32m~\\ana\\Lib\\site-packages\\pandas\\core\\frame.py:4102\u001b[0m, in \u001b[0;36mDataFrame.__getitem__\u001b[1;34m(self, key)\u001b[0m\n\u001b[0;32m   4100\u001b[0m \u001b[38;5;28;01mif\u001b[39;00m \u001b[38;5;28mself\u001b[39m\u001b[38;5;241m.\u001b[39mcolumns\u001b[38;5;241m.\u001b[39mnlevels \u001b[38;5;241m>\u001b[39m \u001b[38;5;241m1\u001b[39m:\n\u001b[0;32m   4101\u001b[0m     \u001b[38;5;28;01mreturn\u001b[39;00m \u001b[38;5;28mself\u001b[39m\u001b[38;5;241m.\u001b[39m_getitem_multilevel(key)\n\u001b[1;32m-> 4102\u001b[0m indexer \u001b[38;5;241m=\u001b[39m \u001b[38;5;28mself\u001b[39m\u001b[38;5;241m.\u001b[39mcolumns\u001b[38;5;241m.\u001b[39mget_loc(key)\n\u001b[0;32m   4103\u001b[0m \u001b[38;5;28;01mif\u001b[39;00m is_integer(indexer):\n\u001b[0;32m   4104\u001b[0m     indexer \u001b[38;5;241m=\u001b[39m [indexer]\n",
      "File \u001b[1;32m~\\ana\\Lib\\site-packages\\pandas\\core\\indexes\\base.py:3812\u001b[0m, in \u001b[0;36mIndex.get_loc\u001b[1;34m(self, key)\u001b[0m\n\u001b[0;32m   3807\u001b[0m     \u001b[38;5;28;01mif\u001b[39;00m \u001b[38;5;28misinstance\u001b[39m(casted_key, \u001b[38;5;28mslice\u001b[39m) \u001b[38;5;129;01mor\u001b[39;00m (\n\u001b[0;32m   3808\u001b[0m         \u001b[38;5;28misinstance\u001b[39m(casted_key, abc\u001b[38;5;241m.\u001b[39mIterable)\n\u001b[0;32m   3809\u001b[0m         \u001b[38;5;129;01mand\u001b[39;00m \u001b[38;5;28many\u001b[39m(\u001b[38;5;28misinstance\u001b[39m(x, \u001b[38;5;28mslice\u001b[39m) \u001b[38;5;28;01mfor\u001b[39;00m x \u001b[38;5;129;01min\u001b[39;00m casted_key)\n\u001b[0;32m   3810\u001b[0m     ):\n\u001b[0;32m   3811\u001b[0m         \u001b[38;5;28;01mraise\u001b[39;00m InvalidIndexError(key)\n\u001b[1;32m-> 3812\u001b[0m     \u001b[38;5;28;01mraise\u001b[39;00m \u001b[38;5;167;01mKeyError\u001b[39;00m(key) \u001b[38;5;28;01mfrom\u001b[39;00m \u001b[38;5;21;01merr\u001b[39;00m\n\u001b[0;32m   3813\u001b[0m \u001b[38;5;28;01mexcept\u001b[39;00m \u001b[38;5;167;01mTypeError\u001b[39;00m:\n\u001b[0;32m   3814\u001b[0m     \u001b[38;5;66;03m# If we have a listlike key, _check_indexing_error will raise\u001b[39;00m\n\u001b[0;32m   3815\u001b[0m     \u001b[38;5;66;03m#  InvalidIndexError. Otherwise we fall through and re-raise\u001b[39;00m\n\u001b[0;32m   3816\u001b[0m     \u001b[38;5;66;03m#  the TypeError.\u001b[39;00m\n\u001b[0;32m   3817\u001b[0m     \u001b[38;5;28mself\u001b[39m\u001b[38;5;241m.\u001b[39m_check_indexing_error(key)\n",
      "\u001b[1;31mKeyError\u001b[0m: 'Total_Trans_Amt'"
     ]
    }
   ],
   "source": [
    "credit_df[\"Total_Trans_Amt\"].max()"
   ]
  },
  {
   "cell_type": "code",
   "execution_count": 31,
   "id": "10fa227a-b318-43dc-8b40-9141d6e68560",
   "metadata": {},
   "outputs": [
    {
     "ename": "KeyError",
     "evalue": "'Total_Trans_Amt'",
     "output_type": "error",
     "traceback": [
      "\u001b[1;31m---------------------------------------------------------------------------\u001b[0m",
      "\u001b[1;31mKeyError\u001b[0m                                  Traceback (most recent call last)",
      "File \u001b[1;32m~\\ana\\Lib\\site-packages\\pandas\\core\\indexes\\base.py:3805\u001b[0m, in \u001b[0;36mIndex.get_loc\u001b[1;34m(self, key)\u001b[0m\n\u001b[0;32m   3804\u001b[0m \u001b[38;5;28;01mtry\u001b[39;00m:\n\u001b[1;32m-> 3805\u001b[0m     \u001b[38;5;28;01mreturn\u001b[39;00m \u001b[38;5;28mself\u001b[39m\u001b[38;5;241m.\u001b[39m_engine\u001b[38;5;241m.\u001b[39mget_loc(casted_key)\n\u001b[0;32m   3806\u001b[0m \u001b[38;5;28;01mexcept\u001b[39;00m \u001b[38;5;167;01mKeyError\u001b[39;00m \u001b[38;5;28;01mas\u001b[39;00m err:\n",
      "File \u001b[1;32mindex.pyx:167\u001b[0m, in \u001b[0;36mpandas._libs.index.IndexEngine.get_loc\u001b[1;34m()\u001b[0m\n",
      "File \u001b[1;32mindex.pyx:196\u001b[0m, in \u001b[0;36mpandas._libs.index.IndexEngine.get_loc\u001b[1;34m()\u001b[0m\n",
      "File \u001b[1;32mpandas\\\\_libs\\\\hashtable_class_helper.pxi:7081\u001b[0m, in \u001b[0;36mpandas._libs.hashtable.PyObjectHashTable.get_item\u001b[1;34m()\u001b[0m\n",
      "File \u001b[1;32mpandas\\\\_libs\\\\hashtable_class_helper.pxi:7089\u001b[0m, in \u001b[0;36mpandas._libs.hashtable.PyObjectHashTable.get_item\u001b[1;34m()\u001b[0m\n",
      "\u001b[1;31mKeyError\u001b[0m: 'Total_Trans_Amt'",
      "\nThe above exception was the direct cause of the following exception:\n",
      "\u001b[1;31mKeyError\u001b[0m                                  Traceback (most recent call last)",
      "Cell \u001b[1;32mIn[31], line 1\u001b[0m\n\u001b[1;32m----> 1\u001b[0m credit_df[\u001b[38;5;124m\"\u001b[39m\u001b[38;5;124mTotal_Trans_Amt\u001b[39m\u001b[38;5;124m\"\u001b[39m]\u001b[38;5;241m.\u001b[39mmax() \u001b[38;5;241m-\u001b[39m credit_df[\u001b[38;5;124m\"\u001b[39m\u001b[38;5;124mTotal_Trans_Amt\u001b[39m\u001b[38;5;124m\"\u001b[39m]\u001b[38;5;241m.\u001b[39mmin()\n",
      "File \u001b[1;32m~\\ana\\Lib\\site-packages\\pandas\\core\\frame.py:4102\u001b[0m, in \u001b[0;36mDataFrame.__getitem__\u001b[1;34m(self, key)\u001b[0m\n\u001b[0;32m   4100\u001b[0m \u001b[38;5;28;01mif\u001b[39;00m \u001b[38;5;28mself\u001b[39m\u001b[38;5;241m.\u001b[39mcolumns\u001b[38;5;241m.\u001b[39mnlevels \u001b[38;5;241m>\u001b[39m \u001b[38;5;241m1\u001b[39m:\n\u001b[0;32m   4101\u001b[0m     \u001b[38;5;28;01mreturn\u001b[39;00m \u001b[38;5;28mself\u001b[39m\u001b[38;5;241m.\u001b[39m_getitem_multilevel(key)\n\u001b[1;32m-> 4102\u001b[0m indexer \u001b[38;5;241m=\u001b[39m \u001b[38;5;28mself\u001b[39m\u001b[38;5;241m.\u001b[39mcolumns\u001b[38;5;241m.\u001b[39mget_loc(key)\n\u001b[0;32m   4103\u001b[0m \u001b[38;5;28;01mif\u001b[39;00m is_integer(indexer):\n\u001b[0;32m   4104\u001b[0m     indexer \u001b[38;5;241m=\u001b[39m [indexer]\n",
      "File \u001b[1;32m~\\ana\\Lib\\site-packages\\pandas\\core\\indexes\\base.py:3812\u001b[0m, in \u001b[0;36mIndex.get_loc\u001b[1;34m(self, key)\u001b[0m\n\u001b[0;32m   3807\u001b[0m     \u001b[38;5;28;01mif\u001b[39;00m \u001b[38;5;28misinstance\u001b[39m(casted_key, \u001b[38;5;28mslice\u001b[39m) \u001b[38;5;129;01mor\u001b[39;00m (\n\u001b[0;32m   3808\u001b[0m         \u001b[38;5;28misinstance\u001b[39m(casted_key, abc\u001b[38;5;241m.\u001b[39mIterable)\n\u001b[0;32m   3809\u001b[0m         \u001b[38;5;129;01mand\u001b[39;00m \u001b[38;5;28many\u001b[39m(\u001b[38;5;28misinstance\u001b[39m(x, \u001b[38;5;28mslice\u001b[39m) \u001b[38;5;28;01mfor\u001b[39;00m x \u001b[38;5;129;01min\u001b[39;00m casted_key)\n\u001b[0;32m   3810\u001b[0m     ):\n\u001b[0;32m   3811\u001b[0m         \u001b[38;5;28;01mraise\u001b[39;00m InvalidIndexError(key)\n\u001b[1;32m-> 3812\u001b[0m     \u001b[38;5;28;01mraise\u001b[39;00m \u001b[38;5;167;01mKeyError\u001b[39;00m(key) \u001b[38;5;28;01mfrom\u001b[39;00m \u001b[38;5;21;01merr\u001b[39;00m\n\u001b[0;32m   3813\u001b[0m \u001b[38;5;28;01mexcept\u001b[39;00m \u001b[38;5;167;01mTypeError\u001b[39;00m:\n\u001b[0;32m   3814\u001b[0m     \u001b[38;5;66;03m# If we have a listlike key, _check_indexing_error will raise\u001b[39;00m\n\u001b[0;32m   3815\u001b[0m     \u001b[38;5;66;03m#  InvalidIndexError. Otherwise we fall through and re-raise\u001b[39;00m\n\u001b[0;32m   3816\u001b[0m     \u001b[38;5;66;03m#  the TypeError.\u001b[39;00m\n\u001b[0;32m   3817\u001b[0m     \u001b[38;5;28mself\u001b[39m\u001b[38;5;241m.\u001b[39m_check_indexing_error(key)\n",
      "\u001b[1;31mKeyError\u001b[0m: 'Total_Trans_Amt'"
     ]
    }
   ],
   "source": [
    "credit_df[\"Total_Trans_Amt\"].max() - credit_df[\"Total_Trans_Amt\"].min()"
   ]
  },
  {
   "cell_type": "code",
   "execution_count": 33,
   "id": "efbdd411-e887-4feb-9000-f8090b03742a",
   "metadata": {},
   "outputs": [
    {
     "ename": "KeyError",
     "evalue": "'Total_Trans_Amt'",
     "output_type": "error",
     "traceback": [
      "\u001b[1;31m---------------------------------------------------------------------------\u001b[0m",
      "\u001b[1;31mKeyError\u001b[0m                                  Traceback (most recent call last)",
      "File \u001b[1;32m~\\ana\\Lib\\site-packages\\pandas\\core\\indexes\\base.py:3805\u001b[0m, in \u001b[0;36mIndex.get_loc\u001b[1;34m(self, key)\u001b[0m\n\u001b[0;32m   3804\u001b[0m \u001b[38;5;28;01mtry\u001b[39;00m:\n\u001b[1;32m-> 3805\u001b[0m     \u001b[38;5;28;01mreturn\u001b[39;00m \u001b[38;5;28mself\u001b[39m\u001b[38;5;241m.\u001b[39m_engine\u001b[38;5;241m.\u001b[39mget_loc(casted_key)\n\u001b[0;32m   3806\u001b[0m \u001b[38;5;28;01mexcept\u001b[39;00m \u001b[38;5;167;01mKeyError\u001b[39;00m \u001b[38;5;28;01mas\u001b[39;00m err:\n",
      "File \u001b[1;32mindex.pyx:167\u001b[0m, in \u001b[0;36mpandas._libs.index.IndexEngine.get_loc\u001b[1;34m()\u001b[0m\n",
      "File \u001b[1;32mindex.pyx:196\u001b[0m, in \u001b[0;36mpandas._libs.index.IndexEngine.get_loc\u001b[1;34m()\u001b[0m\n",
      "File \u001b[1;32mpandas\\\\_libs\\\\hashtable_class_helper.pxi:7081\u001b[0m, in \u001b[0;36mpandas._libs.hashtable.PyObjectHashTable.get_item\u001b[1;34m()\u001b[0m\n",
      "File \u001b[1;32mpandas\\\\_libs\\\\hashtable_class_helper.pxi:7089\u001b[0m, in \u001b[0;36mpandas._libs.hashtable.PyObjectHashTable.get_item\u001b[1;34m()\u001b[0m\n",
      "\u001b[1;31mKeyError\u001b[0m: 'Total_Trans_Amt'",
      "\nThe above exception was the direct cause of the following exception:\n",
      "\u001b[1;31mKeyError\u001b[0m                                  Traceback (most recent call last)",
      "Cell \u001b[1;32mIn[33], line 1\u001b[0m\n\u001b[1;32m----> 1\u001b[0m credit_df[\u001b[38;5;124m\"\u001b[39m\u001b[38;5;124mTotal_Trans_Amt\u001b[39m\u001b[38;5;124m\"\u001b[39m]\u001b[38;5;241m.\u001b[39mplot(kind\u001b[38;5;241m=\u001b[39m\u001b[38;5;124m\"\u001b[39m\u001b[38;5;124mhist\u001b[39m\u001b[38;5;124m\"\u001b[39m)\n\u001b[0;32m      2\u001b[0m plt\u001b[38;5;241m.\u001b[39mtitle(\u001b[38;5;124m\"\u001b[39m\u001b[38;5;124mfrequency distribution of the total transaction amount\u001b[39m\u001b[38;5;124m\"\u001b[39m, fontsize\u001b[38;5;241m=\u001b[39m\u001b[38;5;241m16\u001b[39m)\n\u001b[0;32m      3\u001b[0m plt\u001b[38;5;241m.\u001b[39mlegend()\n",
      "File \u001b[1;32m~\\ana\\Lib\\site-packages\\pandas\\core\\frame.py:4102\u001b[0m, in \u001b[0;36mDataFrame.__getitem__\u001b[1;34m(self, key)\u001b[0m\n\u001b[0;32m   4100\u001b[0m \u001b[38;5;28;01mif\u001b[39;00m \u001b[38;5;28mself\u001b[39m\u001b[38;5;241m.\u001b[39mcolumns\u001b[38;5;241m.\u001b[39mnlevels \u001b[38;5;241m>\u001b[39m \u001b[38;5;241m1\u001b[39m:\n\u001b[0;32m   4101\u001b[0m     \u001b[38;5;28;01mreturn\u001b[39;00m \u001b[38;5;28mself\u001b[39m\u001b[38;5;241m.\u001b[39m_getitem_multilevel(key)\n\u001b[1;32m-> 4102\u001b[0m indexer \u001b[38;5;241m=\u001b[39m \u001b[38;5;28mself\u001b[39m\u001b[38;5;241m.\u001b[39mcolumns\u001b[38;5;241m.\u001b[39mget_loc(key)\n\u001b[0;32m   4103\u001b[0m \u001b[38;5;28;01mif\u001b[39;00m is_integer(indexer):\n\u001b[0;32m   4104\u001b[0m     indexer \u001b[38;5;241m=\u001b[39m [indexer]\n",
      "File \u001b[1;32m~\\ana\\Lib\\site-packages\\pandas\\core\\indexes\\base.py:3812\u001b[0m, in \u001b[0;36mIndex.get_loc\u001b[1;34m(self, key)\u001b[0m\n\u001b[0;32m   3807\u001b[0m     \u001b[38;5;28;01mif\u001b[39;00m \u001b[38;5;28misinstance\u001b[39m(casted_key, \u001b[38;5;28mslice\u001b[39m) \u001b[38;5;129;01mor\u001b[39;00m (\n\u001b[0;32m   3808\u001b[0m         \u001b[38;5;28misinstance\u001b[39m(casted_key, abc\u001b[38;5;241m.\u001b[39mIterable)\n\u001b[0;32m   3809\u001b[0m         \u001b[38;5;129;01mand\u001b[39;00m \u001b[38;5;28many\u001b[39m(\u001b[38;5;28misinstance\u001b[39m(x, \u001b[38;5;28mslice\u001b[39m) \u001b[38;5;28;01mfor\u001b[39;00m x \u001b[38;5;129;01min\u001b[39;00m casted_key)\n\u001b[0;32m   3810\u001b[0m     ):\n\u001b[0;32m   3811\u001b[0m         \u001b[38;5;28;01mraise\u001b[39;00m InvalidIndexError(key)\n\u001b[1;32m-> 3812\u001b[0m     \u001b[38;5;28;01mraise\u001b[39;00m \u001b[38;5;167;01mKeyError\u001b[39;00m(key) \u001b[38;5;28;01mfrom\u001b[39;00m \u001b[38;5;21;01merr\u001b[39;00m\n\u001b[0;32m   3813\u001b[0m \u001b[38;5;28;01mexcept\u001b[39;00m \u001b[38;5;167;01mTypeError\u001b[39;00m:\n\u001b[0;32m   3814\u001b[0m     \u001b[38;5;66;03m# If we have a listlike key, _check_indexing_error will raise\u001b[39;00m\n\u001b[0;32m   3815\u001b[0m     \u001b[38;5;66;03m#  InvalidIndexError. Otherwise we fall through and re-raise\u001b[39;00m\n\u001b[0;32m   3816\u001b[0m     \u001b[38;5;66;03m#  the TypeError.\u001b[39;00m\n\u001b[0;32m   3817\u001b[0m     \u001b[38;5;28mself\u001b[39m\u001b[38;5;241m.\u001b[39m_check_indexing_error(key)\n",
      "\u001b[1;31mKeyError\u001b[0m: 'Total_Trans_Amt'"
     ]
    }
   ],
   "source": [
    "credit_df[\"Total_Trans_Amt\"].plot(kind=\"hist\")\n",
    "plt.title(\"frequency distribution of the total transaction amount\", fontsize=16)\n",
    "plt.legend()"
   ]
  },
  {
   "cell_type": "code",
   "execution_count": 7,
   "id": "d6fc613b-bddf-4576-be69-3969b131357d",
   "metadata": {},
   "outputs": [
    {
     "data": {
      "text/html": [
       "<div>\n",
       "<style scoped>\n",
       "    .dataframe tbody tr th:only-of-type {\n",
       "        vertical-align: middle;\n",
       "    }\n",
       "\n",
       "    .dataframe tbody tr th {\n",
       "        vertical-align: top;\n",
       "    }\n",
       "\n",
       "    .dataframe thead tr th {\n",
       "        text-align: left;\n",
       "    }\n",
       "</style>\n",
       "<table border=\"1\" class=\"dataframe\">\n",
       "  <thead>\n",
       "    <tr>\n",
       "      <th></th>\n",
       "      <th>V1</th>\n",
       "      <th>Count</th>\n",
       "    </tr>\n",
       "  </thead>\n",
       "  <tbody>\n",
       "    <tr>\n",
       "      <th>0</th>\n",
       "      <td>-56.407510</td>\n",
       "      <td>1</td>\n",
       "    </tr>\n",
       "    <tr>\n",
       "      <th>1</th>\n",
       "      <td>-46.855047</td>\n",
       "      <td>1</td>\n",
       "    </tr>\n",
       "    <tr>\n",
       "      <th>2</th>\n",
       "      <td>-41.928738</td>\n",
       "      <td>1</td>\n",
       "    </tr>\n",
       "    <tr>\n",
       "      <th>3</th>\n",
       "      <td>-40.470142</td>\n",
       "      <td>1</td>\n",
       "    </tr>\n",
       "    <tr>\n",
       "      <th>4</th>\n",
       "      <td>-40.042537</td>\n",
       "      <td>1</td>\n",
       "    </tr>\n",
       "    <tr>\n",
       "      <th>...</th>\n",
       "      <td>...</td>\n",
       "      <td>...</td>\n",
       "    </tr>\n",
       "    <tr>\n",
       "      <th>275658</th>\n",
       "      <td>2.430507</td>\n",
       "      <td>1</td>\n",
       "    </tr>\n",
       "    <tr>\n",
       "      <th>275659</th>\n",
       "      <td>2.439207</td>\n",
       "      <td>1</td>\n",
       "    </tr>\n",
       "    <tr>\n",
       "      <th>275660</th>\n",
       "      <td>2.446505</td>\n",
       "      <td>1</td>\n",
       "    </tr>\n",
       "    <tr>\n",
       "      <th>275661</th>\n",
       "      <td>2.451888</td>\n",
       "      <td>1</td>\n",
       "    </tr>\n",
       "    <tr>\n",
       "      <th>275662</th>\n",
       "      <td>2.454930</td>\n",
       "      <td>1</td>\n",
       "    </tr>\n",
       "  </tbody>\n",
       "</table>\n",
       "<p>275663 rows × 2 columns</p>\n",
       "</div>"
      ],
      "text/plain": [
       "               V1 Count\n",
       "0      -56.407510     1\n",
       "1      -46.855047     1\n",
       "2      -41.928738     1\n",
       "3      -40.470142     1\n",
       "4      -40.042537     1\n",
       "...           ...   ...\n",
       "275658   2.430507     1\n",
       "275659   2.439207     1\n",
       "275660   2.446505     1\n",
       "275661   2.451888     1\n",
       "275662   2.454930     1\n",
       "\n",
       "[275663 rows x 2 columns]"
      ]
     },
     "execution_count": 7,
     "metadata": {},
     "output_type": "execute_result"
    }
   ],
   "source": [
    "import pandas as pd\n",
    "credit_df = pd.read_csv(\"C:/Users/jeeva/Downloads/New folder/creditcard.csv\")\n",
    "Attrition_df= pd.DataFrame(credit_df[[\"V1\"]].groupby(by= [\"V1\"]).size().reset_index())\n",
    "Attrition_df.columns = [[\"V1\",\"Count\"]]\n",
    "Attrition_df"
   ]
  },
  {
   "cell_type": "code",
   "execution_count": 35,
   "id": "ae2c2056-ecba-4c78-8a7f-4f29569992ae",
   "metadata": {},
   "outputs": [
    {
     "ename": "ValueError",
     "evalue": "Index data must be 1-dimensional",
     "output_type": "error",
     "traceback": [
      "\u001b[1;31m---------------------------------------------------------------------------\u001b[0m",
      "\u001b[1;31mValueError\u001b[0m                                Traceback (most recent call last)",
      "File \u001b[1;32m~\\ana\\Lib\\site-packages\\pandas\\core\\indexes\\base.py:565\u001b[0m, in \u001b[0;36mIndex.__new__\u001b[1;34m(cls, data, dtype, copy, name, tupleize_cols)\u001b[0m\n\u001b[0;32m    564\u001b[0m \u001b[38;5;28;01mtry\u001b[39;00m:\n\u001b[1;32m--> 565\u001b[0m     arr \u001b[38;5;241m=\u001b[39m sanitize_array(data, \u001b[38;5;28;01mNone\u001b[39;00m, dtype\u001b[38;5;241m=\u001b[39mdtype, copy\u001b[38;5;241m=\u001b[39mcopy)\n\u001b[0;32m    566\u001b[0m \u001b[38;5;28;01mexcept\u001b[39;00m \u001b[38;5;167;01mValueError\u001b[39;00m \u001b[38;5;28;01mas\u001b[39;00m err:\n",
      "File \u001b[1;32m~\\ana\\Lib\\site-packages\\pandas\\core\\construction.py:659\u001b[0m, in \u001b[0;36msanitize_array\u001b[1;34m(data, index, dtype, copy, allow_2d)\u001b[0m\n\u001b[0;32m    657\u001b[0m             subarr \u001b[38;5;241m=\u001b[39m maybe_infer_to_datetimelike(subarr)\n\u001b[1;32m--> 659\u001b[0m subarr \u001b[38;5;241m=\u001b[39m _sanitize_ndim(subarr, data, dtype, index, allow_2d\u001b[38;5;241m=\u001b[39mallow_2d)\n\u001b[0;32m    661\u001b[0m \u001b[38;5;28;01mif\u001b[39;00m \u001b[38;5;28misinstance\u001b[39m(subarr, np\u001b[38;5;241m.\u001b[39mndarray):\n\u001b[0;32m    662\u001b[0m     \u001b[38;5;66;03m# at this point we should have dtype be None or subarr.dtype == dtype\u001b[39;00m\n",
      "File \u001b[1;32m~\\ana\\Lib\\site-packages\\pandas\\core\\construction.py:718\u001b[0m, in \u001b[0;36m_sanitize_ndim\u001b[1;34m(result, data, dtype, index, allow_2d)\u001b[0m\n\u001b[0;32m    717\u001b[0m         \u001b[38;5;28;01mreturn\u001b[39;00m result\n\u001b[1;32m--> 718\u001b[0m     \u001b[38;5;28;01mraise\u001b[39;00m \u001b[38;5;167;01mValueError\u001b[39;00m(\n\u001b[0;32m    719\u001b[0m         \u001b[38;5;124mf\u001b[39m\u001b[38;5;124m\"\u001b[39m\u001b[38;5;124mData must be 1-dimensional, got ndarray of shape \u001b[39m\u001b[38;5;132;01m{\u001b[39;00mdata\u001b[38;5;241m.\u001b[39mshape\u001b[38;5;132;01m}\u001b[39;00m\u001b[38;5;124m instead\u001b[39m\u001b[38;5;124m\"\u001b[39m\n\u001b[0;32m    720\u001b[0m     )\n\u001b[0;32m    721\u001b[0m \u001b[38;5;28;01mif\u001b[39;00m is_object_dtype(dtype) \u001b[38;5;129;01mand\u001b[39;00m \u001b[38;5;28misinstance\u001b[39m(dtype, ExtensionDtype):\n\u001b[0;32m    722\u001b[0m     \u001b[38;5;66;03m# i.e. NumpyEADtype(\"O\")\u001b[39;00m\n",
      "\u001b[1;31mValueError\u001b[0m: Data must be 1-dimensional, got ndarray of shape (275663, 1) instead",
      "\nThe above exception was the direct cause of the following exception:\n",
      "\u001b[1;31mValueError\u001b[0m                                Traceback (most recent call last)",
      "Cell \u001b[1;32mIn[35], line 1\u001b[0m\n\u001b[1;32m----> 1\u001b[0m Attrition_df\u001b[38;5;241m.\u001b[39mset_index(\u001b[38;5;124m'\u001b[39m\u001b[38;5;124mCount\u001b[39m\u001b[38;5;124m'\u001b[39m, inplace \u001b[38;5;241m=\u001b[39m \u001b[38;5;28;01mTrue\u001b[39;00m)\n\u001b[0;32m      2\u001b[0m Attrition_df\n",
      "File \u001b[1;32m~\\ana\\Lib\\site-packages\\pandas\\core\\frame.py:6178\u001b[0m, in \u001b[0;36mDataFrame.set_index\u001b[1;34m(self, keys, drop, append, inplace, verify_integrity)\u001b[0m\n\u001b[0;32m   6170\u001b[0m     \u001b[38;5;28;01mif\u001b[39;00m \u001b[38;5;28mlen\u001b[39m(arrays[\u001b[38;5;241m-\u001b[39m\u001b[38;5;241m1\u001b[39m]) \u001b[38;5;241m!=\u001b[39m \u001b[38;5;28mlen\u001b[39m(\u001b[38;5;28mself\u001b[39m):\n\u001b[0;32m   6171\u001b[0m         \u001b[38;5;66;03m# check newest element against length of calling frame, since\u001b[39;00m\n\u001b[0;32m   6172\u001b[0m         \u001b[38;5;66;03m# ensure_index_from_sequences would not raise for append=False.\u001b[39;00m\n\u001b[0;32m   6173\u001b[0m         \u001b[38;5;28;01mraise\u001b[39;00m \u001b[38;5;167;01mValueError\u001b[39;00m(\n\u001b[0;32m   6174\u001b[0m             \u001b[38;5;124mf\u001b[39m\u001b[38;5;124m\"\u001b[39m\u001b[38;5;124mLength mismatch: Expected \u001b[39m\u001b[38;5;132;01m{\u001b[39;00m\u001b[38;5;28mlen\u001b[39m(\u001b[38;5;28mself\u001b[39m)\u001b[38;5;132;01m}\u001b[39;00m\u001b[38;5;124m rows, \u001b[39m\u001b[38;5;124m\"\u001b[39m\n\u001b[0;32m   6175\u001b[0m             \u001b[38;5;124mf\u001b[39m\u001b[38;5;124m\"\u001b[39m\u001b[38;5;124mreceived array of length \u001b[39m\u001b[38;5;132;01m{\u001b[39;00m\u001b[38;5;28mlen\u001b[39m(arrays[\u001b[38;5;241m-\u001b[39m\u001b[38;5;241m1\u001b[39m])\u001b[38;5;132;01m}\u001b[39;00m\u001b[38;5;124m\"\u001b[39m\n\u001b[0;32m   6176\u001b[0m         )\n\u001b[1;32m-> 6178\u001b[0m index \u001b[38;5;241m=\u001b[39m ensure_index_from_sequences(arrays, names)\n\u001b[0;32m   6180\u001b[0m \u001b[38;5;28;01mif\u001b[39;00m verify_integrity \u001b[38;5;129;01mand\u001b[39;00m \u001b[38;5;129;01mnot\u001b[39;00m index\u001b[38;5;241m.\u001b[39mis_unique:\n\u001b[0;32m   6181\u001b[0m     duplicates \u001b[38;5;241m=\u001b[39m index[index\u001b[38;5;241m.\u001b[39mduplicated()]\u001b[38;5;241m.\u001b[39munique()\n",
      "File \u001b[1;32m~\\ana\\Lib\\site-packages\\pandas\\core\\indexes\\base.py:7588\u001b[0m, in \u001b[0;36mensure_index_from_sequences\u001b[1;34m(sequences, names)\u001b[0m\n\u001b[0;32m   7586\u001b[0m     \u001b[38;5;28;01mif\u001b[39;00m names \u001b[38;5;129;01mis\u001b[39;00m \u001b[38;5;129;01mnot\u001b[39;00m \u001b[38;5;28;01mNone\u001b[39;00m:\n\u001b[0;32m   7587\u001b[0m         names \u001b[38;5;241m=\u001b[39m names[\u001b[38;5;241m0\u001b[39m]\n\u001b[1;32m-> 7588\u001b[0m     \u001b[38;5;28;01mreturn\u001b[39;00m Index(sequences[\u001b[38;5;241m0\u001b[39m], name\u001b[38;5;241m=\u001b[39mnames)\n\u001b[0;32m   7589\u001b[0m \u001b[38;5;28;01melse\u001b[39;00m:\n\u001b[0;32m   7590\u001b[0m     \u001b[38;5;28;01mreturn\u001b[39;00m MultiIndex\u001b[38;5;241m.\u001b[39mfrom_arrays(sequences, names\u001b[38;5;241m=\u001b[39mnames)\n",
      "File \u001b[1;32m~\\ana\\Lib\\site-packages\\pandas\\core\\indexes\\base.py:528\u001b[0m, in \u001b[0;36mIndex.__new__\u001b[1;34m(cls, data, dtype, copy, name, tupleize_cols)\u001b[0m\n\u001b[0;32m    526\u001b[0m     \u001b[38;5;28;01mraise\u001b[39;00m \u001b[38;5;28mcls\u001b[39m\u001b[38;5;241m.\u001b[39m_raise_scalar_data_error(data)\n\u001b[0;32m    527\u001b[0m \u001b[38;5;28;01melif\u001b[39;00m \u001b[38;5;28mhasattr\u001b[39m(data, \u001b[38;5;124m\"\u001b[39m\u001b[38;5;124m__array__\u001b[39m\u001b[38;5;124m\"\u001b[39m):\n\u001b[1;32m--> 528\u001b[0m     \u001b[38;5;28;01mreturn\u001b[39;00m \u001b[38;5;28mcls\u001b[39m(np\u001b[38;5;241m.\u001b[39masarray(data), dtype\u001b[38;5;241m=\u001b[39mdtype, copy\u001b[38;5;241m=\u001b[39mcopy, name\u001b[38;5;241m=\u001b[39mname)\n\u001b[0;32m    529\u001b[0m \u001b[38;5;28;01melif\u001b[39;00m \u001b[38;5;129;01mnot\u001b[39;00m is_list_like(data) \u001b[38;5;129;01mand\u001b[39;00m \u001b[38;5;129;01mnot\u001b[39;00m \u001b[38;5;28misinstance\u001b[39m(data, \u001b[38;5;28mmemoryview\u001b[39m):\n\u001b[0;32m    530\u001b[0m     \u001b[38;5;66;03m# 2022-11-16 the memoryview check is only necessary on some CI\u001b[39;00m\n\u001b[0;32m    531\u001b[0m     \u001b[38;5;66;03m#  builds, not clear why\u001b[39;00m\n\u001b[0;32m    532\u001b[0m     \u001b[38;5;28;01mraise\u001b[39;00m \u001b[38;5;28mcls\u001b[39m\u001b[38;5;241m.\u001b[39m_raise_scalar_data_error(data)\n",
      "File \u001b[1;32m~\\ana\\Lib\\site-packages\\pandas\\core\\indexes\\base.py:570\u001b[0m, in \u001b[0;36mIndex.__new__\u001b[1;34m(cls, data, dtype, copy, name, tupleize_cols)\u001b[0m\n\u001b[0;32m    568\u001b[0m         \u001b[38;5;28;01mraise\u001b[39;00m \u001b[38;5;28mcls\u001b[39m\u001b[38;5;241m.\u001b[39m_raise_scalar_data_error(data) \u001b[38;5;28;01mfrom\u001b[39;00m \u001b[38;5;21;01merr\u001b[39;00m\n\u001b[0;32m    569\u001b[0m     \u001b[38;5;28;01mif\u001b[39;00m \u001b[38;5;124m\"\u001b[39m\u001b[38;5;124mData must be 1-dimensional\u001b[39m\u001b[38;5;124m\"\u001b[39m \u001b[38;5;129;01min\u001b[39;00m \u001b[38;5;28mstr\u001b[39m(err):\n\u001b[1;32m--> 570\u001b[0m         \u001b[38;5;28;01mraise\u001b[39;00m \u001b[38;5;167;01mValueError\u001b[39;00m(\u001b[38;5;124m\"\u001b[39m\u001b[38;5;124mIndex data must be 1-dimensional\u001b[39m\u001b[38;5;124m\"\u001b[39m) \u001b[38;5;28;01mfrom\u001b[39;00m \u001b[38;5;21;01merr\u001b[39;00m\n\u001b[0;32m    571\u001b[0m     \u001b[38;5;28;01mraise\u001b[39;00m\n\u001b[0;32m    572\u001b[0m arr \u001b[38;5;241m=\u001b[39m ensure_wrapped_if_datetimelike(arr)\n",
      "\u001b[1;31mValueError\u001b[0m: Index data must be 1-dimensional"
     ]
    }
   ],
   "source": [
    "Attrition_df.set_index('Count', inplace = True)\n",
    "Attrition_df"
   ]
  },
  {
   "cell_type": "code",
   "execution_count": null,
   "id": "a91d4374-8c1f-483a-b38b-83ceb20f3fd4",
   "metadata": {},
   "outputs": [],
   "source": []
  }
 ],
 "metadata": {
  "kernelspec": {
   "display_name": "Python 3 (ipykernel)",
   "language": "python",
   "name": "python3"
  },
  "language_info": {
   "codemirror_mode": {
    "name": "ipython",
    "version": 3
   },
   "file_extension": ".py",
   "mimetype": "text/x-python",
   "name": "python",
   "nbconvert_exporter": "python",
   "pygments_lexer": "ipython3",
   "version": "3.12.4"
  }
 },
 "nbformat": 4,
 "nbformat_minor": 5
}
